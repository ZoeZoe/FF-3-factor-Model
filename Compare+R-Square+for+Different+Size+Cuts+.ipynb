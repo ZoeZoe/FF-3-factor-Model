{
 "cells": [
  {
   "cell_type": "code",
   "execution_count": 2,
   "metadata": {
    "collapsed": true
   },
   "outputs": [],
   "source": [
    "import statsmodels.api as sm #for OLS regression\n",
    "import numpy as np\n",
    "import pandas as pd\n",
    "from pandas import DataFrame\n",
    "import matplotlib.pyplot as plt #for heatmap plotting\n",
    "from mpl_toolkits.mplot3d import Axes3D\n",
    "import seaborn as sns #for heatmap plotting\n",
    "from statsmodels.iolib.summary2 import summary_col #to summarize multiple regressions in one table\n",
    "from datetime import date\n",
    "from dateutil.relativedelta import relativedelta\n",
    "import math\n",
    "from scipy import stats"
   ]
  },
  {
   "cell_type": "code",
   "execution_count": 3,
   "metadata": {
    "collapsed": false
   },
   "outputs": [],
   "source": [
    "#pf_size = pd.read_csv('C:/Users/yz2991/Desktop/Portfolios_Formed_on_ME_daily.csv')\n",
    "#ff5 = pd.read_csv('C:/Users/yz2991/Desktop/F-F_Research_Data_5_Factors_2x3_daily.csv')\n",
    "pf_size = pd.read_csv('data/Portfolios_Formed_on_ME_daily.csv')\n",
    "ff5 = pd.read_csv('data/F-F_Research_Data_5_Factors_2x3_daily.csv')"
   ]
  },
  {
   "cell_type": "code",
   "execution_count": 4,
   "metadata": {
    "collapsed": true
   },
   "outputs": [],
   "source": [
    "pf_size.rename(columns = {'Unnamed: 0': 'YYMM'}, inplace = True)\n",
    "ff5.rename(columns = {'Unnamed: 0': 'YYMM'}, inplace = True)"
   ]
  },
  {
   "cell_type": "code",
   "execution_count": 5,
   "metadata": {
    "collapsed": false
   },
   "outputs": [
    {
     "name": "stdout",
     "output_type": "stream",
     "text": [
      "      <= 0  Lo 30  Med 40  Hi 30  Lo 20  Qnt 2  Qnt 3  Qnt 4  Hi 20  Lo 10  \\\n",
      "0 -100.002 -0.592  -0.552 -0.682 -0.622 -0.702 -0.482 -0.572 -0.692 -0.652   \n",
      "1 -100.002  0.428   0.578  0.838  0.488  0.608  0.528  0.708  0.838  0.368   \n",
      "2 -100.002  0.538   0.568  0.638  0.508  0.558  0.608  0.608  0.638  0.398   \n",
      "3 -100.002  0.318   0.328  0.418  0.398  0.278  0.358  0.278  0.428  0.348   \n",
      "4 -100.002 -0.442  -0.542 -0.642 -0.362 -0.752 -0.632 -0.372 -0.672 -0.482   \n",
      "\n",
      "   2-Dec  3-Dec  4-Dec  5-Dec  6-Dec  7-Dec  8-Dec  9-Dec  Hi 10  \n",
      "0 -0.592 -0.552 -0.822 -0.562 -0.422 -0.532 -0.602 -0.702 -0.692  \n",
      "1  0.608  0.318  0.848  0.488  0.548  0.538  0.808  0.638  0.878  \n",
      "2  0.618  0.598  0.528  0.388  0.768  0.548  0.648  0.618  0.638  \n",
      "3  0.468  0.168  0.378  0.398  0.328  0.278  0.278  0.298  0.458  \n",
      "4 -0.232 -0.592 -0.872 -0.652 -0.612 -0.312 -0.402 -0.482 -0.712  \n"
     ]
    }
   ],
   "source": [
    "pf_size_excess=(pf_size.iloc[:,1:pf_size.shape[1]]).sub(ff5.RF,axis=0)\n",
    "print(pf_size_excess.head())"
   ]
  },
  {
   "cell_type": "code",
   "execution_count": 6,
   "metadata": {
    "collapsed": false
   },
   "outputs": [
    {
     "name": "stdout",
     "output_type": "stream",
     "text": [
      "      <= 0  Lo 30  Med 40  Hi 30  Lo 20  Qnt 2  Qnt 3  Qnt 4  Hi 20  Lo 10  \\\n",
      "0 -100.002 -0.592  -0.552 -0.682 -0.622 -0.702 -0.482 -0.572 -0.692 -0.652   \n",
      "1 -100.002  0.428   0.578  0.838  0.488  0.608  0.528  0.708  0.838  0.368   \n",
      "2 -100.002  0.538   0.568  0.638  0.508  0.558  0.608  0.608  0.638  0.398   \n",
      "3 -100.002  0.318   0.328  0.418  0.398  0.278  0.358  0.278  0.428  0.348   \n",
      "4 -100.002 -0.442  -0.542 -0.642 -0.362 -0.752 -0.632 -0.372 -0.672 -0.482   \n",
      "\n",
      "   2-Dec  3-Dec  4-Dec  5-Dec  6-Dec  7-Dec  8-Dec  9-Dec  Hi 10       YYMM  \n",
      "0 -0.592 -0.552 -0.822 -0.562 -0.422 -0.532 -0.602 -0.702 -0.692 1963-07-01  \n",
      "1  0.608  0.318  0.848  0.488  0.548  0.538  0.808  0.638  0.878 1963-07-02  \n",
      "2  0.618  0.598  0.528  0.388  0.768  0.548  0.648  0.618  0.638 1963-07-03  \n",
      "3  0.468  0.168  0.378  0.398  0.328  0.278  0.278  0.298  0.458 1963-07-05  \n",
      "4 -0.232 -0.592 -0.872 -0.652 -0.612 -0.312 -0.402 -0.482 -0.712 1963-07-08  \n"
     ]
    }
   ],
   "source": [
    "ff5['YYMM'] = pd.to_datetime(ff5['YYMM'],yearfirst=True, format='%Y%m%d')\n",
    "pf_size_excess['YYMM'] = pd.to_datetime(pf_size['YYMM'],yearfirst=True, format='%Y%m%d')\n",
    "print(pf_size_excess.head())"
   ]
  },
  {
   "cell_type": "code",
   "execution_count": 7,
   "metadata": {
    "collapsed": false
   },
   "outputs": [
    {
     "name": "stdout",
     "output_type": "stream",
     "text": [
      "        YYMM  Mkt-RF   SMB   HML   RMW   CMA     RF\n",
      "0 1963-07-01   -0.67  0.00 -0.32 -0.01  0.15  0.012\n",
      "1 1963-07-02    0.79 -0.27  0.27 -0.07 -0.19  0.012\n",
      "2 1963-07-03    0.63 -0.17 -0.09  0.17 -0.33  0.012\n",
      "3 1963-07-05    0.40  0.08 -0.28  0.08 -0.33  0.012\n",
      "4 1963-07-08   -0.63  0.04 -0.18 -0.29  0.13  0.012\n"
     ]
    }
   ],
   "source": [
    "print(ff5.head())"
   ]
  },
  {
   "cell_type": "code",
   "execution_count": 8,
   "metadata": {
    "collapsed": true
   },
   "outputs": [],
   "source": [
    "ff5.index = ff5['YYMM']\n",
    "pf_size_excess.index = pf_size_excess['YYMM']\n",
    "ff5 = ff5.drop('YYMM', axis = 1)\n",
    "ff5 = ff5.drop('RF', axis = 1)\n",
    "# pf_size_excess = pf_size_excess.loc[:,['Lo 30','Med 40','Hi 30']]"
   ]
  },
  {
   "cell_type": "code",
   "execution_count": 9,
   "metadata": {
    "collapsed": false
   },
   "outputs": [
    {
     "name": "stdout",
     "output_type": "stream",
     "text": [
      "20423\n",
      "14075\n",
      "13950\n"
     ]
    }
   ],
   "source": [
    "start = ff5.index[0]\n",
    "end = ff5.index[ff5.shape[0]-1]\n",
    "n_day = end - start\n",
    "print(n_day.days)\n",
    "print(ff5.shape[0])\n",
    "#because there are weekends and public holidays, we use every 126 records as a proxy of every 6-month window\\n\",\n",
    "#There are in total 14075 records, thus will have 14075 - 126 + 1 =  13950 windows\\n\",\n",
    "window = 126\n",
    "n_window = ff5.shape[0] - 126 + 1\n",
    "print(n_window)"
   ]
  },
  {
   "cell_type": "code",
   "execution_count": 10,
   "metadata": {
    "collapsed": false
   },
   "outputs": [
    {
     "name": "stderr",
     "output_type": "stream",
     "text": [
      "/home/whan/miniconda3/envs/eqai/lib/python3.5/site-packages/numpy/core/fromnumeric.py:52: FutureWarning: Method .ptp is deprecated and will be removed in a future version. Use numpy.ptp instead.\n",
      "  return getattr(obj, method)(*args, **kwds)\n"
     ]
    }
   ],
   "source": [
    "#To run OLS on a 6-month rolling window basis. The logic of this loop is to run the rolling window regressions \\n\",\n",
    "#for each of the 3 portfolios. That is, the first 13950 models are for the portfolio Lo 30,\\n\",\n",
    "#the next 13950 models are for the portfolio Med 40\\n\",\n",
    "pf_3 = pf_size_excess.loc[:,['Lo 30','Med 40','Hi 30']]\n",
    "models_3_pf = []\n",
    "for i in range (3):\n",
    "    for m in range(n_window):\n",
    "        \n",
    "        t0 = ff5.index[0+m]\n",
    "        if ff5.index[0+m+window-1] < end:\n",
    "            t1 = ff5.index[0+m+window-1]\n",
    "        else:\n",
    "            t1 = end\n",
    "        \n",
    "        x = ff5[t0:t1]\n",
    "        x = sm.add_constant(x)\n",
    "        y = pf_3[t0:t1]\n",
    "        reg = sm.OLS(y.iloc[:,i], x)   \n",
    "        models_3_pf.append(reg.fit())\n",
    "    "
   ]
  },
  {
   "cell_type": "code",
   "execution_count": 11,
   "metadata": {
    "collapsed": false
   },
   "outputs": [
    {
     "name": "stdout",
     "output_type": "stream",
     "text": [
      "                            OLS Regression Results                            \n",
      "==============================================================================\n",
      "Dep. Variable:                  Lo 30   R-squared:                       0.967\n",
      "Model:                            OLS   Adj. R-squared:                  0.966\n",
      "Method:                 Least Squares   F-statistic:                     701.9\n",
      "Date:                Wed, 10 Jul 2019   Prob (F-statistic):           4.98e-87\n",
      "Time:                        12:17:44   Log-Likelihood:                 113.16\n",
      "No. Observations:                 126   AIC:                            -214.3\n",
      "Df Residuals:                     120   BIC:                            -197.3\n",
      "Df Model:                           5                                         \n",
      "Covariance Type:            nonrobust                                         \n",
      "==============================================================================\n",
      "                 coef    std err          t      P>|t|      [0.025      0.975]\n",
      "------------------------------------------------------------------------------\n",
      "const         -0.0204      0.009     -2.222      0.028      -0.039      -0.002\n",
      "Mkt-RF         0.9331      0.020     46.120      0.000       0.893       0.973\n",
      "SMB            0.9752      0.039     24.763      0.000       0.897       1.053\n",
      "HML            0.1863      0.048      3.902      0.000       0.092       0.281\n",
      "RMW            0.0626      0.055      1.138      0.258      -0.046       0.171\n",
      "CMA            0.0054      0.045      0.119      0.905      -0.085       0.095\n",
      "==============================================================================\n",
      "Omnibus:                        0.677   Durbin-Watson:                   1.924\n",
      "Prob(Omnibus):                  0.713   Jarque-Bera (JB):                0.804\n",
      "Skew:                          -0.109   Prob(JB):                        0.669\n",
      "Kurtosis:                       2.675   Cond. No.                         7.23\n",
      "==============================================================================\n",
      "\n",
      "Warnings:\n",
      "[1] Standard Errors assume that the covariance matrix of the errors is correctly specified.\n"
     ]
    }
   ],
   "source": [
    "print(models_3_pf[0].summary())"
   ]
  },
  {
   "cell_type": "code",
   "execution_count": 12,
   "metadata": {
    "collapsed": false
   },
   "outputs": [
    {
     "name": "stdout",
     "output_type": "stream",
     "text": [
      "126\n",
      "13950\n",
      "Index(['Lo 30', 'Med 40', 'Hi 30'], dtype='object')\n"
     ]
    }
   ],
   "source": [
    "print(window)\n",
    "window_nm = []\n",
    "for i in range(n_window):\n",
    "    nm = ff5.index[i+int(window/2)]\n",
    "    window_nm.append(nm)\n",
    "print(len(window_nm))\n",
    "portfolio_nm_3 = pf_size_excess.columns[1:4]\n",
    "print(portfolio_nm_3)"
   ]
  },
  {
   "cell_type": "code",
   "execution_count": 13,
   "metadata": {
    "collapsed": false
   },
   "outputs": [],
   "source": [
    "Rsquare_3_pf = {}\n",
    "for i in range(3):\n",
    "    x = []\n",
    "    for n in range(n_window):  \n",
    "        x.append(models_3_pf[i*n_window +n].rsquared) \n",
    "    Rsquare_3_pf[\"Portfoio{0}\".format(i)] = pd.Series(x,index = window_nm)"
   ]
  },
  {
   "cell_type": "code",
   "execution_count": 14,
   "metadata": {
    "collapsed": false
   },
   "outputs": [],
   "source": [
    "pf_5 = pf_size_excess.loc[:,['Lo 20', 'Qnt 2', 'Qnt 3', 'Qnt 4', 'Hi 20']]\n",
    "models_5_pf = []\n",
    "for i in range (5):\n",
    "    for m in range(n_window):\n",
    "        \n",
    "        t0 = ff5.index[0+m]\n",
    "        if ff5.index[0+m+window-1] < end:\n",
    "            t1 = ff5.index[0+m+window-1]\n",
    "        else:\n",
    "            t1 = end\n",
    "        \n",
    "        x = ff5[t0:t1]\n",
    "        x = sm.add_constant(x)\n",
    "        y = pf_5[t0:t1]\n",
    "        reg = sm.OLS(y.iloc[:,i], x)   \n",
    "        models_5_pf.append(reg.fit())\n",
    "    "
   ]
  },
  {
   "cell_type": "code",
   "execution_count": 15,
   "metadata": {
    "collapsed": false
   },
   "outputs": [],
   "source": [
    "Rsquare_5_pf = {}\n",
    "for i in range(5):\n",
    "    x = []\n",
    "    for n in range(n_window):  \n",
    "        x.append(models_5_pf[i*n_window +n].rsquared) \n",
    "    Rsquare_5_pf[\"Portfoio{0}\".format(i)] = pd.Series(x,index = window_nm)"
   ]
  },
  {
   "cell_type": "code",
   "execution_count": 16,
   "metadata": {
    "collapsed": false
   },
   "outputs": [],
   "source": [
    "pf_10 = pf_size_excess.loc[:,['Lo 10', '2-Dec', '3-Dec','4-Dec', '5-Dec', '6-Dec', '7-Dec', '8-Dec','9-Dec', 'Hi 10']]\n",
    "models_10_pf = []\n",
    "for i in range (10):\n",
    "    for m in range(n_window):\n",
    "        \n",
    "        t0 = ff5.index[0+m]\n",
    "        if ff5.index[0+m+window-1] < end:\n",
    "            t1 = ff5.index[0+m+window-1]\n",
    "        else:\n",
    "            t1 = end\n",
    "        \n",
    "        x = ff5[t0:t1]\n",
    "        x = sm.add_constant(x)\n",
    "        y = pf_10[t0:t1]\n",
    "        reg = sm.OLS(y.iloc[:,i], x)   \n",
    "        models_10_pf.append(reg.fit())"
   ]
  },
  {
   "cell_type": "code",
   "execution_count": 17,
   "metadata": {
    "collapsed": true
   },
   "outputs": [],
   "source": [
    "Rsquare_10_pf = {}\n",
    "for i in range(10):\n",
    "    x = []\n",
    "    for n in range(n_window):  \n",
    "        x.append(models_10_pf[i*n_window +n].rsquared) \n",
    "    Rsquare_10_pf[\"Portfoio{0}\".format(i)] = pd.Series(x,index = window_nm)"
   ]
  },
  {
   "cell_type": "code",
   "execution_count": 18,
   "metadata": {
    "collapsed": false,
    "scrolled": true
   },
   "outputs": [
    {
     "name": "stderr",
     "output_type": "stream",
     "text": [
      "/home/whan/miniconda3/envs/eqai/lib/python3.5/site-packages/pandas/plotting/_converter.py:129: FutureWarning: Using an implicitly registered datetime converter for a matplotlib plotting method. The converter was registered by pandas on import. Future versions of pandas will require you to explicitly register matplotlib converters.\n",
      "\n",
      "To register the converters:\n",
      "\t>>> from pandas.plotting import register_matplotlib_converters\n",
      "\t>>> register_matplotlib_converters()\n",
      "  warnings.warn(msg, FutureWarning)\n"
     ]
    },
    {
     "data": {
      "image/png": "[encoded data removed]",
      "text/plain": [
       "<Figure size 1440x320 with 3 Axes>"
      ]
     },
     "metadata": {},
     "output_type": "display_data"
    }
   ],
   "source": [
    "fig=plt.figure(figsize=(18, 4), dpi= 80, facecolor='w', edgecolor='k')\n",
    "plt.subplot(1, 3, 1)\n",
    "plt.plot(Rsquare_3_pf['Portfoio0'],label=\"Lo 30\",alpha=0.8)\n",
    "plt.plot(Rsquare_3_pf['Portfoio1'],label=\"Med 40\",alpha=0.8)\n",
    "plt.plot(Rsquare_3_pf['Portfoio2'],label=\"Hi 30\",alpha=0.8)\n",
    "plt.legend(loc='lower right')\n",
    "plt.ylim([0.48,1.02])\n",
    "plt.title('R-squared of 3 Size Portfolios with Daily Returns')\n",
    "plt.xlabel('Year')\n",
    "plt.ylabel('R-Squared')\n",
    "\n",
    "plt.subplot(1, 3, 2)\n",
    "plt.plot(Rsquare_5_pf['Portfoio0'],label=\"Lo 20\",alpha=0.8)\n",
    "plt.plot(Rsquare_5_pf['Portfoio1'],label=\"Qnt 2\",alpha=0.8)\n",
    "plt.plot(Rsquare_5_pf['Portfoio2'],label=\"Qnt 3\",alpha=0.8)\n",
    "plt.plot(Rsquare_5_pf['Portfoio3'],label=\"Qnt 4\",alpha=0.8)\n",
    "plt.plot(Rsquare_5_pf['Portfoio4'],label=\"Hi 20\",alpha=0.8)\n",
    "plt.legend(loc='lower right')\n",
    "plt.ylim([0.48,1.02])\n",
    "plt.title('R-squared of 5 Size Portfolios with Daily Returns')\n",
    "plt.xlabel('Year')\n",
    "plt.ylabel('R-Squared')\n",
    "\n",
    "plt.subplot(1, 3, 3)\n",
    "plt.plot(Rsquare_10_pf['Portfoio0'],label=\"Lo 10\",alpha=0.8)\n",
    "plt.plot(Rsquare_10_pf['Portfoio1'],label=\"2-Dec\",alpha=0.8)\n",
    "plt.plot(Rsquare_10_pf['Portfoio2'],label=\"3-Dec\",alpha=0.8)\n",
    "plt.plot(Rsquare_10_pf['Portfoio3'],label=\"4-Dec\",alpha=0.8)\n",
    "plt.plot(Rsquare_10_pf['Portfoio4'],label=\"5-Dec\",alpha=0.8)\n",
    "plt.plot(Rsquare_10_pf['Portfoio5'],label=\"6-Dec\",alpha=0.8)\n",
    "plt.plot(Rsquare_10_pf['Portfoio6'],label=\"7-Dec\",alpha=0.8)\n",
    "plt.plot(Rsquare_10_pf['Portfoio7'],label=\"8-Dec\",alpha=0.8)\n",
    "plt.plot(Rsquare_10_pf['Portfoio8'],label=\"9-Dec\",alpha=0.8)\n",
    "plt.plot(Rsquare_10_pf['Portfoio9'],label=\"Hi 10\",alpha=0.8)\n",
    "plt.legend(loc='lower right')\n",
    "plt.ylim([0.48,1.02])\n",
    "plt.title('R-squared of 10 Size Portfolios with Daily Returns')\n",
    "plt.xlabel('Year')\n",
    "plt.ylabel('R-Squared')\n",
    "\n",
    "plt.show()\n"
   ]
  },
  {
   "cell_type": "code",
   "execution_count": null,
   "metadata": {
    "collapsed": true
   },
   "outputs": [],
   "source": [
    "#pf_size_mm = pd.read_csv('C:/Users/yz2991/Desktop/Portfolios_Formed_on_ME_monthly.csv')\n",
    "#ff5_mm = pd.read_csv('C:/Users/yz2991/Desktop/F-F_Research_Data_5_Factors_2x3_monthly.csv')\n",
    "\n",
    "pf_size_mm = pd.read_csv('data/Portfolios_Formed_on_ME_monthly.csv')\n",
    "ff5_mm = pd.read_csv('data/F-F_Research_Data_5_Factors_2x3_monthly.csv')"
   ]
  },
  {
   "cell_type": "code",
   "execution_count": 21,
   "metadata": {
    "collapsed": false
   },
   "outputs": [
    {
     "ename": "NameError",
     "evalue": "name 'pf_size_mm' is not defined",
     "output_type": "error",
     "traceback": [
      "\u001b[0;31m---------------------------------------------------------------------------\u001b[0m",
      "\u001b[0;31mNameError\u001b[0m                                 Traceback (most recent call last)",
      "\u001b[0;32m<ipython-input-21-7e857d738fd3>\u001b[0m in \u001b[0;36m<module>\u001b[0;34m\u001b[0m\n\u001b[0;32m----> 1\u001b[0;31m \u001b[0mprint\u001b[0m\u001b[0;34m(\u001b[0m\u001b[0mpf_size_mm\u001b[0m\u001b[0;34m.\u001b[0m\u001b[0mtail\u001b[0m\u001b[0;34m(\u001b[0m\u001b[0;34m)\u001b[0m\u001b[0;34m)\u001b[0m\u001b[0;34m\u001b[0m\u001b[0m\n\u001b[0m",
      "\u001b[0;31mNameError\u001b[0m: name 'pf_size_mm' is not defined"
     ]
    }
   ],
   "source": [
    "print(pf_size_mm.tail())"
   ]
  },
  {
   "cell_type": "code",
   "execution_count": 22,
   "metadata": {
    "collapsed": true
   },
   "outputs": [
    {
     "ename": "NameError",
     "evalue": "name 'pf_size_mm' is not defined",
     "output_type": "error",
     "traceback": [
      "\u001b[0;31m---------------------------------------------------------------------------\u001b[0m",
      "\u001b[0;31mNameError\u001b[0m                                 Traceback (most recent call last)",
      "\u001b[0;32m<ipython-input-22-68db38679664>\u001b[0m in \u001b[0;36m<module>\u001b[0;34m\u001b[0m\n\u001b[0;32m----> 1\u001b[0;31m \u001b[0mpf_size_mm\u001b[0m\u001b[0;34m.\u001b[0m\u001b[0mrename\u001b[0m\u001b[0;34m(\u001b[0m\u001b[0mcolumns\u001b[0m \u001b[0;34m=\u001b[0m \u001b[0;34m{\u001b[0m\u001b[0;34m'Unnamed: 0'\u001b[0m\u001b[0;34m:\u001b[0m \u001b[0;34m'YYMM'\u001b[0m\u001b[0;34m}\u001b[0m\u001b[0;34m,\u001b[0m \u001b[0minplace\u001b[0m \u001b[0;34m=\u001b[0m \u001b[0;32mTrue\u001b[0m\u001b[0;34m)\u001b[0m\u001b[0;34m\u001b[0m\u001b[0m\n\u001b[0m\u001b[1;32m      2\u001b[0m \u001b[0mff5_mm\u001b[0m\u001b[0;34m.\u001b[0m\u001b[0mrename\u001b[0m\u001b[0;34m(\u001b[0m\u001b[0mcolumns\u001b[0m \u001b[0;34m=\u001b[0m \u001b[0;34m{\u001b[0m\u001b[0;34m'Unnamed: 0'\u001b[0m\u001b[0;34m:\u001b[0m \u001b[0;34m'YYMM'\u001b[0m\u001b[0;34m}\u001b[0m\u001b[0;34m,\u001b[0m \u001b[0minplace\u001b[0m \u001b[0;34m=\u001b[0m \u001b[0;32mTrue\u001b[0m\u001b[0;34m)\u001b[0m\u001b[0;34m\u001b[0m\u001b[0m\n",
      "\u001b[0;31mNameError\u001b[0m: name 'pf_size_mm' is not defined"
     ]
    }
   ],
   "source": [
    "pf_size_mm.rename(columns = {'Unnamed: 0': 'YYMM'}, inplace = True)\n",
    "ff5_mm.rename(columns = {'Unnamed: 0': 'YYMM'}, inplace = True)"
   ]
  },
  {
   "cell_type": "code",
   "execution_count": 23,
   "metadata": {
    "collapsed": true
   },
   "outputs": [
    {
     "ename": "NameError",
     "evalue": "name 'pf_size_mm' is not defined",
     "output_type": "error",
     "traceback": [
      "\u001b[0;31m---------------------------------------------------------------------------\u001b[0m",
      "\u001b[0;31mNameError\u001b[0m                                 Traceback (most recent call last)",
      "\u001b[0;32m<ipython-input-23-597a36ad03d3>\u001b[0m in \u001b[0;36m<module>\u001b[0;34m\u001b[0m\n\u001b[0;32m----> 1\u001b[0;31m \u001b[0mpf_size_excess_mm\u001b[0m\u001b[0;34m=\u001b[0m\u001b[0;34m(\u001b[0m\u001b[0mpf_size_mm\u001b[0m\u001b[0;34m.\u001b[0m\u001b[0miloc\u001b[0m\u001b[0;34m[\u001b[0m\u001b[0;34m:\u001b[0m\u001b[0;34m,\u001b[0m\u001b[0;36m1\u001b[0m\u001b[0;34m:\u001b[0m\u001b[0mpf_size_mm\u001b[0m\u001b[0;34m.\u001b[0m\u001b[0mshape\u001b[0m\u001b[0;34m[\u001b[0m\u001b[0;36m1\u001b[0m\u001b[0;34m]\u001b[0m\u001b[0;34m]\u001b[0m\u001b[0;34m)\u001b[0m\u001b[0;34m.\u001b[0m\u001b[0msub\u001b[0m\u001b[0;34m(\u001b[0m\u001b[0mff5_mm\u001b[0m\u001b[0;34m.\u001b[0m\u001b[0mRF\u001b[0m\u001b[0;34m,\u001b[0m\u001b[0maxis\u001b[0m\u001b[0;34m=\u001b[0m\u001b[0;36m0\u001b[0m\u001b[0;34m)\u001b[0m\u001b[0;34m\u001b[0m\u001b[0m\n\u001b[0m",
      "\u001b[0;31mNameError\u001b[0m: name 'pf_size_mm' is not defined"
     ]
    }
   ],
   "source": [
    "pf_size_excess_mm=(pf_size_mm.iloc[:,1:pf_size_mm.shape[1]]).sub(ff5_mm.RF,axis=0)"
   ]
  },
  {
   "cell_type": "code",
   "execution_count": 24,
   "metadata": {
    "collapsed": false
   },
   "outputs": [
    {
     "ename": "NameError",
     "evalue": "name 'ff5_mm' is not defined",
     "output_type": "error",
     "traceback": [
      "\u001b[0;31m---------------------------------------------------------------------------\u001b[0m",
      "\u001b[0;31mNameError\u001b[0m                                 Traceback (most recent call last)",
      "\u001b[0;32m<ipython-input-24-55aeade5910c>\u001b[0m in \u001b[0;36m<module>\u001b[0;34m\u001b[0m\n\u001b[0;32m----> 1\u001b[0;31m \u001b[0mff5_mm\u001b[0m\u001b[0;34m[\u001b[0m\u001b[0;34m'YYMM'\u001b[0m\u001b[0;34m]\u001b[0m \u001b[0;34m=\u001b[0m \u001b[0mpd\u001b[0m\u001b[0;34m.\u001b[0m\u001b[0mto_datetime\u001b[0m\u001b[0;34m(\u001b[0m\u001b[0mff5_mm\u001b[0m\u001b[0;34m[\u001b[0m\u001b[0;34m'YYMM'\u001b[0m\u001b[0;34m]\u001b[0m\u001b[0;34m,\u001b[0m\u001b[0myearfirst\u001b[0m\u001b[0;34m=\u001b[0m\u001b[0;32mTrue\u001b[0m\u001b[0;34m,\u001b[0m \u001b[0mformat\u001b[0m\u001b[0;34m=\u001b[0m\u001b[0;34m'%Y%m'\u001b[0m\u001b[0;34m)\u001b[0m\u001b[0;34m\u001b[0m\u001b[0m\n\u001b[0m\u001b[1;32m      2\u001b[0m \u001b[0mpf_size_excess_mm\u001b[0m\u001b[0;34m[\u001b[0m\u001b[0;34m'YYMM'\u001b[0m\u001b[0;34m]\u001b[0m \u001b[0;34m=\u001b[0m \u001b[0mpd\u001b[0m\u001b[0;34m.\u001b[0m\u001b[0mto_datetime\u001b[0m\u001b[0;34m(\u001b[0m\u001b[0mpf_size_mm\u001b[0m\u001b[0;34m[\u001b[0m\u001b[0;34m'YYMM'\u001b[0m\u001b[0;34m]\u001b[0m\u001b[0;34m,\u001b[0m\u001b[0myearfirst\u001b[0m\u001b[0;34m=\u001b[0m\u001b[0;32mTrue\u001b[0m\u001b[0;34m,\u001b[0m \u001b[0mformat\u001b[0m\u001b[0;34m=\u001b[0m\u001b[0;34m'%Y%m'\u001b[0m\u001b[0;34m)\u001b[0m\u001b[0;34m\u001b[0m\u001b[0m\n",
      "\u001b[0;31mNameError\u001b[0m: name 'ff5_mm' is not defined"
     ]
    }
   ],
   "source": [
    "ff5_mm['YYMM'] = pd.to_datetime(ff5_mm['YYMM'],yearfirst=True, format='%Y%m')\n",
    "pf_size_excess_mm['YYMM'] = pd.to_datetime(pf_size_mm['YYMM'],yearfirst=True, format='%Y%m')"
   ]
  },
  {
   "cell_type": "code",
   "execution_count": 25,
   "metadata": {
    "collapsed": false
   },
   "outputs": [
    {
     "ename": "NameError",
     "evalue": "name 'pf_size_excess_mm' is not defined",
     "output_type": "error",
     "traceback": [
      "\u001b[0;31m---------------------------------------------------------------------------\u001b[0m",
      "\u001b[0;31mNameError\u001b[0m                                 Traceback (most recent call last)",
      "\u001b[0;32m<ipython-input-25-167c4f8b3557>\u001b[0m in \u001b[0;36m<module>\u001b[0;34m\u001b[0m\n\u001b[0;32m----> 1\u001b[0;31m \u001b[0mprint\u001b[0m\u001b[0;34m(\u001b[0m\u001b[0mpf_size_excess_mm\u001b[0m\u001b[0;34m.\u001b[0m\u001b[0mtail\u001b[0m\u001b[0;34m(\u001b[0m\u001b[0;34m)\u001b[0m\u001b[0;34m)\u001b[0m\u001b[0;34m\u001b[0m\u001b[0m\n\u001b[0m",
      "\u001b[0;31mNameError\u001b[0m: name 'pf_size_excess_mm' is not defined"
     ]
    }
   ],
   "source": [
    "print(pf_size_excess_mm.tail())"
   ]
  },
  {
   "cell_type": "code",
   "execution_count": null,
   "metadata": {
    "collapsed": true
   },
   "outputs": [],
   "source": [
    "ff5_mm.index = ff5_mm['YYMM']\n",
    "pf_size_excess_mm.index = pf_size_excess_mm['YYMM']\n",
    "ff5_mm = ff5_mm.drop('YYMM', axis = 1)\n",
    "ff5_mm = ff5_mm.drop('RF', axis = 1)"
   ]
  },
  {
   "cell_type": "code",
   "execution_count": null,
   "metadata": {
    "collapsed": false
   },
   "outputs": [],
   "source": [
    "#use 10 year window (number of obs will be close to daily models with half-year window)\n",
    "start_mm = ff5_mm.index[0]\n",
    "end_mm = ff5_mm.index[ff5_mm.shape[0]-1]\n",
    "n_month = end_mm - start_mm\n",
    "print(ff5_mm.shape[0])\n",
    "window_mm = 120\n",
    "n_window_mm = ff5_mm.shape[0] - window_mm + 1\n",
    "print(n_window_mm)\n",
    "print(end_mm)"
   ]
  },
  {
   "cell_type": "code",
   "execution_count": null,
   "metadata": {
    "collapsed": false
   },
   "outputs": [],
   "source": [
    "print(window_mm)\n",
    "window_nm_month = []\n",
    "for i in range(n_window_mm):\n",
    "    nm = ff5_mm.index[i+int(window_mm/2)]\n",
    "    window_nm_month.append(nm)\n",
    "print(len(window_nm_month))\n",
    "portfolio_nm_3 = pf_size_excess.columns[1:4]\n",
    "print(portfolio_nm_3)"
   ]
  },
  {
   "cell_type": "code",
   "execution_count": null,
   "metadata": {
    "collapsed": false
   },
   "outputs": [],
   "source": [
    "#To run OLS on a 120-month rolling window basis. The logic of this loop is to run the rolling window regressions \\n\",\n",
    "#for each of the 3 portfolios. That is, the first 552 models are for the portfolio Lo 30,\\n\",\n",
    "#the next 552 models are for the portfolio Med 40\\n\",\n",
    "pf_3_mm = pf_size_excess_mm.loc[:,['Lo 30','Med 40','Hi 30']]\n",
    "models_3_pf_mm = []\n",
    "for i in range (3):\n",
    "    for m in range(n_window_mm):\n",
    "        \n",
    "        t0 = ff5_mm.index[0+m]\n",
    "        if ff5_mm.index[0+m+window_mm-1] < end_mm:\n",
    "            t1 = ff5_mm.index[0+m+window_mm-1]\n",
    "        else:\n",
    "            t1 = end_mm\n",
    "        \n",
    "        x = ff5_mm[t0:t1]\n",
    "        x = sm.add_constant(x)\n",
    "        y = pf_3_mm[t0:t1]\n",
    "        reg = sm.OLS(y.iloc[:,i], x)   \n",
    "        models_3_pf_mm.append(reg.fit())\n",
    "    "
   ]
  },
  {
   "cell_type": "code",
   "execution_count": null,
   "metadata": {
    "collapsed": true
   },
   "outputs": [],
   "source": [
    "Rsquare_3_pf_mm = {}\n",
    "for i in range(3):\n",
    "    x = []\n",
    "    for n in range(n_window_mm):  \n",
    "        x.append(models_3_pf_mm[i*n_window_mm +n].rsquared) \n",
    "    Rsquare_3_pf_mm[\"Portfoio{0}\".format(i)] = pd.Series(x,index = window_nm_month)"
   ]
  },
  {
   "cell_type": "code",
   "execution_count": null,
   "metadata": {
    "collapsed": true
   },
   "outputs": [],
   "source": [
    "#To run OLS on a 120-month rolling window basis. The logic of this loop is to run the rolling window regressions \\n\",\n",
    "#for each of the 3 portfolios. That is, the first 552 models are for the portfolio Lo 30,\\n\",\n",
    "#the next 552 models are for the portfolio Med 40\\n\",\n",
    "pf_5_mm = pf_size_excess_mm.loc[:,['Lo 20', 'Qnt 2', 'Qnt 3', 'Qnt 4', 'Hi 20']]\n",
    "models_5_pf_mm = []\n",
    "for i in range (5):\n",
    "    for m in range(n_window_mm):\n",
    "        \n",
    "        t0 = ff5_mm.index[0+m]\n",
    "        if ff5_mm.index[0+m+window_mm-1] < end_mm:\n",
    "            t1 = ff5_mm.index[0+m+window_mm-1]\n",
    "        else:\n",
    "            t1 = end_mm\n",
    "        \n",
    "        x = ff5_mm[t0:t1]\n",
    "        x = sm.add_constant(x)\n",
    "        y = pf_5_mm[t0:t1]\n",
    "        reg = sm.OLS(y.iloc[:,i], x)   \n",
    "        models_5_pf_mm.append(reg.fit())"
   ]
  },
  {
   "cell_type": "code",
   "execution_count": null,
   "metadata": {
    "collapsed": true
   },
   "outputs": [],
   "source": [
    "Rsquare_5_pf_mm = {}\n",
    "for i in range(5):\n",
    "    x = []\n",
    "    for n in range(n_window_mm):  \n",
    "        x.append(models_5_pf_mm[i*n_window_mm +n].rsquared) \n",
    "    Rsquare_5_pf_mm[\"Portfoio{0}\".format(i)] = pd.Series(x,index = window_nm_month)"
   ]
  },
  {
   "cell_type": "code",
   "execution_count": null,
   "metadata": {
    "collapsed": true
   },
   "outputs": [],
   "source": [
    "#To run OLS on a 120-month rolling window basis. The logic of this loop is to run the rolling window regressions \\n\",\n",
    "#for each of the 3 portfolios. That is, the first 552 models are for the portfolio Lo 30,\\n\",\n",
    "#the next 552 models are for the portfolio Med 40\\n\",\n",
    "pf_10_mm = pf_size_excess_mm.loc[:,['Lo 10', '2-Dec', '3-Dec','4-Dec', '5-Dec', '6-Dec', '7-Dec', '8-Dec','9-Dec', 'Hi 10']]\n",
    "models_10_pf_mm = []\n",
    "for i in range (10):\n",
    "    for m in range(n_window_mm):\n",
    "        \n",
    "        t0 = ff5_mm.index[0+m]\n",
    "        if ff5_mm.index[0+m+window_mm-1] < end_mm:\n",
    "            t1 = ff5_mm.index[0+m+window_mm-1]\n",
    "        else:\n",
    "            t1 = end_mm\n",
    "        \n",
    "        x = ff5_mm[t0:t1]\n",
    "        x = sm.add_constant(x)\n",
    "        y = pf_10_mm[t0:t1]\n",
    "        reg = sm.OLS(y.iloc[:,i], x)   \n",
    "        models_10_pf_mm.append(reg.fit())"
   ]
  },
  {
   "cell_type": "code",
   "execution_count": null,
   "metadata": {
    "collapsed": true
   },
   "outputs": [],
   "source": [
    "Rsquare_10_pf_mm = {}\n",
    "for i in range(10):\n",
    "    x = []\n",
    "    for n in range(n_window_mm):  \n",
    "        x.append(models_10_pf_mm[i*n_window_mm +n].rsquared) \n",
    "    Rsquare_10_pf_mm[\"Portfoio{0}\".format(i)] = pd.Series(x,index = window_nm_month)"
   ]
  },
  {
   "cell_type": "code",
   "execution_count": null,
   "metadata": {
    "collapsed": false
   },
   "outputs": [],
   "source": [
    "fig=plt.figure(figsize=(18, 4), dpi= 80, facecolor='w', edgecolor='k')\n",
    "plt.subplot(1, 3, 1)\n",
    "plt.plot(Rsquare_3_pf_mm['Portfoio0'],label=\"Lo 30\",alpha=0.8)\n",
    "plt.plot(Rsquare_3_pf_mm['Portfoio1'],label=\"Med 40\",alpha=0.8)\n",
    "plt.plot(Rsquare_3_pf_mm['Portfoio2'],label=\"Hi 30\",alpha=0.8)\n",
    "plt.legend(loc='lower right')\n",
    "plt.ylim([0.48,1.02])\n",
    "plt.xlim([\"1963\",\"2022\"])\n",
    "plt.title('R-squared of 3 Size Portfolios with Monthly Returns')\n",
    "plt.xlabel('Year')\n",
    "plt.ylabel('R-Squared')\n",
    "plt.xticks(rotation=90)\n",
    "\n",
    "plt.subplot(1, 3, 2)\n",
    "plt.plot(Rsquare_5_pf_mm['Portfoio0'],label=\"Lo 20\",alpha=0.8)\n",
    "plt.plot(Rsquare_5_pf_mm['Portfoio1'],label=\"Qnt 2\",alpha=0.8)\n",
    "plt.plot(Rsquare_5_pf_mm['Portfoio2'],label=\"Qnt 3\",alpha=0.8)\n",
    "plt.plot(Rsquare_5_pf_mm['Portfoio3'],label=\"Qnt 4\",alpha=0.8)\n",
    "plt.plot(Rsquare_5_pf_mm['Portfoio4'],label=\"Hi 20\",alpha=0.8)\n",
    "plt.legend(loc='lower right')\n",
    "plt.ylim([0.48,1.02])\n",
    "plt.title('R-squared of 5 Size Portfolios with Monthly Returns')\n",
    "plt.xlabel('Year')\n",
    "plt.ylabel('R-Squared')\n",
    "plt.xticks(rotation=90)\n",
    "\n",
    "plt.subplot(1, 3, 3)\n",
    "plt.plot(Rsquare_10_pf_mm['Portfoio0'],label=\"Lo 10\",alpha=0.8)\n",
    "plt.plot(Rsquare_10_pf_mm['Portfoio1'],label=\"2-Dec\",alpha=0.8)\n",
    "plt.plot(Rsquare_10_pf_mm['Portfoio2'],label=\"3-Dec\",alpha=0.8)\n",
    "plt.plot(Rsquare_10_pf_mm['Portfoio3'],label=\"4-Dec\",alpha=0.8)\n",
    "plt.plot(Rsquare_10_pf_mm['Portfoio4'],label=\"5-Dec\",alpha=0.8)\n",
    "plt.plot(Rsquare_10_pf_mm['Portfoio5'],label=\"6-Dec\",alpha=0.8)\n",
    "plt.plot(Rsquare_10_pf_mm['Portfoio6'],label=\"7-Dec\",alpha=0.8)\n",
    "plt.plot(Rsquare_10_pf_mm['Portfoio7'],label=\"8-Dec\",alpha=0.8)\n",
    "plt.plot(Rsquare_10_pf_mm['Portfoio8'],label=\"9-Dec\",alpha=0.8)\n",
    "plt.plot(Rsquare_10_pf_mm['Portfoio9'],label=\"Hi 10\",alpha=0.8)\n",
    "plt.legend(loc='lower right')\n",
    "plt.ylim([0.48,1.02])\n",
    "plt.title('R-squared of 10 Size Portfolios with Monthly Returns')\n",
    "plt.xlabel('Year')\n",
    "plt.ylabel('R-Squared')\n",
    "plt.xticks(rotation=90)\n",
    "\n",
    "plt.show()"
   ]
  },
  {
   "cell_type": "code",
   "execution_count": null,
   "metadata": {
    "collapsed": false
   },
   "outputs": [],
   "source": [
    "fig = plt.figure(figsize=(130, 80), dpi= 80, facecolor='w', edgecolor='k')\n",
    "\n",
    "plt.subplots(2, 3, sharex=True, sharey=True)\n",
    "\n",
    "plt.subplot(2, 3, 4)\n",
    "plt.plot(Rsquare_3_pf['Portfoio0'],label=\"Lo 30\",alpha=0.8)\n",
    "plt.plot(Rsquare_3_pf['Portfoio1'],label=\"Med 40\",alpha=0.8)\n",
    "plt.plot(Rsquare_3_pf['Portfoio2'],label=\"Hi 30\",alpha=0.8)\n",
    "plt.legend(loc='lower right')\n",
    "plt.ylim([0.48,1.02])\n",
    "plt.title('R-squared of 3 Size Portfolios with Daily Returns')\n",
    "plt.xlabel('Year')\n",
    "plt.ylabel('R-Squared')\n",
    "\n",
    "plt.subplot(2, 3, 5)\n",
    "plt.plot(Rsquare_5_pf['Portfoio0'],label=\"Lo 20\",alpha=0.8)\n",
    "plt.plot(Rsquare_5_pf['Portfoio1'],label=\"Qnt 2\",alpha=0.8)\n",
    "plt.plot(Rsquare_5_pf['Portfoio2'],label=\"Qnt 3\",alpha=0.8)\n",
    "plt.plot(Rsquare_5_pf['Portfoio3'],label=\"Qnt 4\",alpha=0.8)\n",
    "plt.plot(Rsquare_5_pf['Portfoio4'],label=\"Hi 20\",alpha=0.8)\n",
    "plt.legend(loc='lower right')\n",
    "plt.ylim([0.48,1.02])\n",
    "plt.title('R-squared of 5 Size Portfolios with Daily Returns')\n",
    "plt.xlabel('Year')\n",
    "plt.ylabel('R-Squared')\n",
    "\n",
    "plt.subplot(2, 3, 6)\n",
    "plt.plot(Rsquare_10_pf['Portfoio0'],label=\"Lo 10\",alpha=0.8)\n",
    "plt.plot(Rsquare_10_pf['Portfoio1'],label=\"2-Dec\",alpha=0.8)\n",
    "plt.plot(Rsquare_10_pf['Portfoio2'],label=\"3-Dec\",alpha=0.8)\n",
    "plt.plot(Rsquare_10_pf['Portfoio3'],label=\"4-Dec\",alpha=0.8)\n",
    "plt.plot(Rsquare_10_pf['Portfoio4'],label=\"5-Dec\",alpha=0.8)\n",
    "plt.plot(Rsquare_10_pf['Portfoio5'],label=\"6-Dec\",alpha=0.8)\n",
    "plt.plot(Rsquare_10_pf['Portfoio6'],label=\"7-Dec\",alpha=0.8)\n",
    "plt.plot(Rsquare_10_pf['Portfoio7'],label=\"8-Dec\",alpha=0.8)\n",
    "plt.plot(Rsquare_10_pf['Portfoio8'],label=\"9-Dec\",alpha=0.8)\n",
    "plt.plot(Rsquare_10_pf['Portfoio9'],label=\"Hi 10\",alpha=0.8)\n",
    "plt.legend(loc='lower right')\n",
    "plt.ylim([0.48,1.02])\n",
    "plt.title('R-squared of 10 Size Portfolios with Daily Returns')\n",
    "plt.xlabel('Year')\n",
    "plt.ylabel('R-Squared')\n",
    "\n",
    "plt.subplot(2, 3, 1)\n",
    "plt.plot(Rsquare_3_pf_mm['Portfoio0'],label=\"Lo 30\",alpha=0.8)\n",
    "plt.plot(Rsquare_3_pf_mm['Portfoio1'],label=\"Med 40\",alpha=0.8)\n",
    "plt.plot(Rsquare_3_pf_mm['Portfoio2'],label=\"Hi 30\",alpha=0.8)\n",
    "plt.legend(loc='lower right')\n",
    "plt.ylim([0.48,1.02])\n",
    "plt.xlim([\"1963\",\"2022\"])\n",
    "plt.title('R-squared of 3 Size Portfolios with Monthly Returns')\n",
    "plt.xlabel('Year')\n",
    "plt.ylabel('R-Squared')\n",
    "plt.xticks(rotation=90)\n",
    "\n",
    "plt.subplot(2, 3, 2)\n",
    "plt.plot(Rsquare_5_pf_mm['Portfoio0'],label=\"Lo 20\",alpha=0.8)\n",
    "plt.plot(Rsquare_5_pf_mm['Portfoio1'],label=\"Qnt 2\",alpha=0.8)\n",
    "plt.plot(Rsquare_5_pf_mm['Portfoio2'],label=\"Qnt 3\",alpha=0.8)\n",
    "plt.plot(Rsquare_5_pf_mm['Portfoio3'],label=\"Qnt 4\",alpha=0.8)\n",
    "plt.plot(Rsquare_5_pf_mm['Portfoio4'],label=\"Hi 20\",alpha=0.8)\n",
    "plt.legend(loc='lower right')\n",
    "plt.ylim([0.48,1.02])\n",
    "plt.title('R-squared of 5 Size Portfolios with Monthly Returns')\n",
    "plt.xlabel('Year')\n",
    "plt.ylabel('R-Squared')\n",
    "plt.xticks(rotation=90)\n",
    "\n",
    "plt.subplot(2, 3, 3)\n",
    "plt.plot(Rsquare_10_pf_mm['Portfoio0'],label=\"Lo 10\",alpha=0.8)\n",
    "plt.plot(Rsquare_10_pf_mm['Portfoio1'],label=\"2-Dec\",alpha=0.8)\n",
    "plt.plot(Rsquare_10_pf_mm['Portfoio2'],label=\"3-Dec\",alpha=0.8)\n",
    "plt.plot(Rsquare_10_pf_mm['Portfoio3'],label=\"4-Dec\",alpha=0.8)\n",
    "plt.plot(Rsquare_10_pf_mm['Portfoio4'],label=\"5-Dec\",alpha=0.8)\n",
    "plt.plot(Rsquare_10_pf_mm['Portfoio5'],label=\"6-Dec\",alpha=0.8)\n",
    "plt.plot(Rsquare_10_pf_mm['Portfoio6'],label=\"7-Dec\",alpha=0.8)\n",
    "plt.plot(Rsquare_10_pf_mm['Portfoio7'],label=\"8-Dec\",alpha=0.8)\n",
    "plt.plot(Rsquare_10_pf_mm['Portfoio8'],label=\"9-Dec\",alpha=0.8)\n",
    "plt.plot(Rsquare_10_pf_mm['Portfoio9'],label=\"Hi 10\",alpha=0.8)\n",
    "plt.legend(loc='lower right')\n",
    "plt.ylim([0.48,1.02])\n",
    "plt.title('R-squared of 10 Size Portfolios with Monthly Returns')\n",
    "plt.xlabel('Year')\n",
    "plt.ylabel('R-Squared')\n",
    "plt.xticks(rotation=90)\n",
    "\n",
    "plt.show()"
   ]
  },
  {
   "cell_type": "code",
   "execution_count": null,
   "metadata": {
    "collapsed": true
   },
   "outputs": [],
   "source": [
    "corr = ff5_mm.corr()"
   ]
  },
  {
   "cell_type": "code",
   "execution_count": null,
   "metadata": {
    "collapsed": false
   },
   "outputs": [],
   "source": [
    "print(corr)"
   ]
  },
  {
   "cell_type": "code",
   "execution_count": null,
   "metadata": {
    "collapsed": false
   },
   "outputs": [],
   "source": [
    "corr.iloc[1][4]\n",
    "\n",
    "Rsquare_5_pf_mm = {}\n",
    "for i in range(5):\n",
    "    x = []\n",
    "    for n in range(n_window_mm):  \n",
    "        x.append(models_5_pf_mm[i*n_window_mm +n].rsquared) \n",
    "    Rsquare_5_pf_mm[\"Portfoio{0}\".format(i)] = pd.Series(x,index = window_nm_month)"
   ]
  },
  {
   "cell_type": "code",
   "execution_count": null,
   "metadata": {
    "collapsed": false
   },
   "outputs": [],
   "source": [
    "correlation = []\n",
    "for m in range(n_window_mm):\n",
    "    t0 = ff5_mm.index[0+m]\n",
    "    if ff5_mm.index[0+m+window_mm-1] < end_mm:\n",
    "        t1 = ff5_mm.index[0+m+window_mm-1]\n",
    "    else:\n",
    "        t1 = end_mm\n",
    "    correlation.append(ff5_mm[t0:t1].corr())\n",
    "        "
   ]
  },
  {
   "cell_type": "code",
   "execution_count": null,
   "metadata": {
    "collapsed": false
   },
   "outputs": [],
   "source": [
    "print(correlation[1])\n",
    "correlation[0].iloc[4][1]"
   ]
  },
  {
   "cell_type": "code",
   "execution_count": null,
   "metadata": {
    "collapsed": true
   },
   "outputs": [],
   "source": [
    "Mrk_SMB = []\n",
    "Mrk_HML = []\n",
    "Mrk_RMW = []\n",
    "Mrk_CMA = []\n",
    "SMB_HML = []\n",
    "SMB_RMW = []\n",
    "SMB_CMA = []\n",
    "HML_RMW = []\n",
    "HML_CMA = []\n",
    "RMW_CMA = []\n",
    "for i in range(len(correlation)):\n",
    "    Mrk_SMB.append(correlation[i].iloc[0][1])\n",
    "    Mrk_HML.append(correlation[i].iloc[0][2])\n",
    "    Mrk_RMW.append(correlation[i].iloc[0][3])\n",
    "    Mrk_CMA.append(correlation[i].iloc[0][4])\n",
    "    SMB_HML.append(correlation[i].iloc[1][2])\n",
    "    SMB_RMW.append(correlation[i].iloc[1][3])\n",
    "    SMB_CMA.append(correlation[i].iloc[1][4])\n",
    "    HML_RMW.append(correlation[i].iloc[2][3])\n",
    "    HML_CMA.append(correlation[i].iloc[2][4])\n",
    "    RMW_CMA.append(correlation[i].iloc[3][4])\n",
    "    \n",
    "Mrk_SMB_Corr = pd.Series(Mrk_SMB,index = window_nm_month)\n",
    "Mrk_HML_Corr = pd.Series(Mrk_HML,index = window_nm_month)  \n",
    "Mrk_RMW_Corr = pd.Series(Mrk_RMW,index = window_nm_month)  \n",
    "Mrk_CMA_Corr = pd.Series(Mrk_CMA,index = window_nm_month)  \n",
    "SMB_HML_Corr = pd.Series(SMB_HML,index = window_nm_month)  \n",
    "SMB_RMW_Corr = pd.Series(SMB_RMW,index = window_nm_month)  \n",
    "SMB_CMA_Corr = pd.Series(SMB_CMA,index = window_nm_month)  \n",
    "HML_RMW_Corr = pd.Series(HML_RMW,index = window_nm_month)  \n",
    "HML_CMA_Corr = pd.Series(HML_CMA,index = window_nm_month)  \n",
    "RMW_CMA_Corr = pd.Series(RMW_CMA,index = window_nm_month)  "
   ]
  },
  {
   "cell_type": "code",
   "execution_count": null,
   "metadata": {
    "collapsed": false
   },
   "outputs": [],
   "source": [
    "fig = plt.figure(figsize=(130, 80), dpi= 80, facecolor='w', edgecolor='k')\n",
    "plt.subplots(4, 4, sharex=True, sharey=True)\n",
    "\n",
    "plt.subplot(4, 4, 1)\n",
    "plt.plot(Mrk_SMB_Corr)\n",
    "plt.xlabel('Mrk-Rf')\n",
    "plt.ylabel('SMB')\n",
    "\n",
    "plt.subplot(4, 4, 2)\n",
    "plt.plot(Mrk_HML_Corr)\n",
    "plt.xlabel('Mrk-Rf')\n",
    "plt.ylabel('HML')\n",
    "\n",
    "plt.subplot(4, 4, 3)\n",
    "plt.plot(Mrk_RMW_Corr)\n",
    "plt.xlabel('Mrk-Rf')\n",
    "plt.ylabel('RMW')\n",
    "\n",
    "plt.subplot(4, 4, 4)\n",
    "plt.plot(Mrk_CMA_Corr)\n",
    "plt.xlabel('Mrk-Rf')\n",
    "plt.ylabel('CMA')\n",
    "\n",
    "plt.subplot(4, 4, 6)\n",
    "plt.plot(SMB_HML_Corr)\n",
    "plt.xlabel('SMB')\n",
    "plt.ylabel('HML')\n",
    "\n",
    "plt.subplot(4, 4, 7)\n",
    "plt.plot(SMB_RMW_Corr)\n",
    "plt.xlabel('SMB')\n",
    "plt.ylabel('RMW')\n",
    "\n",
    "plt.subplot(4, 4, 8)\n",
    "plt.plot(SMB_CMA_Corr)\n",
    "plt.xlabel('SMB')\n",
    "plt.ylabel('CMA')\n",
    "\n",
    "plt.subplot(4, 4, 11)\n",
    "plt.plot(HML_RMW_Corr)\n",
    "plt.xlabel('HML')\n",
    "plt.ylabel('RMW')\n",
    "\n",
    "plt.subplot(4, 4, 12)\n",
    "plt.plot(HML_CMA_Corr)\n",
    "plt.xlabel('HML')\n",
    "plt.ylabel('CMA')\n",
    "\n",
    "plt.subplot(4, 4, 16)\n",
    "plt.plot(RMW_CMA_Corr)\n",
    "plt.xlabel('RMW')\n",
    "plt.ylabel('CMA')\n",
    "\n",
    "plt.show()"
   ]
  },
  {
   "cell_type": "code",
   "execution_count": null,
   "metadata": {
    "collapsed": true
   },
   "outputs": [],
   "source": []
  },
  {
   "cell_type": "code",
   "execution_count": null,
   "metadata": {},
   "outputs": [],
   "source": []
  }
 ],
 "metadata": {
  "kernelspec": {
   "display_name": "Python 3",
   "language": "python",
   "name": "python3"
  },
  "language_info": {
   "codemirror_mode": {
    "name": "ipython",
    "version": 3
   },
   "file_extension": ".py",
   "mimetype": "text/x-python",
   "name": "python",
   "nbconvert_exporter": "python",
   "pygments_lexer": "ipython3",
   "version": "3.5.6"
  }
 },
 "nbformat": 4,
 "nbformat_minor": 2
}
