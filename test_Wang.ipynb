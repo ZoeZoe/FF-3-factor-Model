{
 "cells": [
  {
   "cell_type": "code",
   "execution_count": 73,
   "metadata": {},
   "outputs": [],
   "source": [
    "import numpy as np\n",
    "import pandas as pd\n",
    "import matplotlib.pyplot as plt\n",
    "import statsmodels.api as sm\n",
    "from pandas.tseries.offsets import MonthEnd\n",
    "import datetime as dt\n",
    "from statsmodels.iolib.summary2 import summary_col #to summarize multiple regressions in one table\n",
    "import itertools"
   ]
  },
  {
   "cell_type": "code",
   "execution_count": 2,
   "metadata": {},
   "outputs": [],
   "source": [
    "p25 = pd.read_csv('25_Porfolio.csv')\n",
    "ff3 = pd.read_csv('3 factor.csv')\n",
    "#updated the field name of Year&month field\n",
    "p25.rename(columns = {'Unnamed: 0': 'YYMM'}, inplace = True)\n",
    "ff3.rename(columns = {'Unnamed: 0': 'YYMM'}, inplace = True)\n",
    "ff3['month'] = pd.to_datetime(ff3['YYMM'], format=\"%Y%m\") + MonthEnd(1)\n",
    "p25['month'] = pd.to_datetime(p25['YYMM'], format=\"%Y%m\") + MonthEnd(1)\n",
    "p25 = p25.set_index('month')\n",
    "ff3 = ff3.set_index('month')\n",
    "p25 = p25.drop('YYMM', axis=1)\n",
    "ff3 = ff3.drop('YYMM', axis=1)\n",
    "\n",
    "p25_excess = p25.sub(ff3.RF, axis=0)\n",
    "ff3 = ff3.drop('RF', axis = 1)"
   ]
  },
  {
   "cell_type": "code",
   "execution_count": 3,
   "metadata": {},
   "outputs": [],
   "source": [
    "ff3.index = pd.to_datetime(ff3.index)\n",
    "p25.index = pd.to_datetime(p25.index)"
   ]
  },
  {
   "cell_type": "code",
   "execution_count": 79,
   "metadata": {},
   "outputs": [],
   "source": [
    "p25e = p25_excess.copy()"
   ]
  },
  {
   "cell_type": "code",
   "execution_count": 106,
   "metadata": {},
   "outputs": [],
   "source": [
    "#index=['ME1','ME2','ME3','ME4','ME5'], columns=['BM1','BM2','BM3','BM4','BM5']\n",
    "arrays = [['ME1','ME2','ME3','ME4','ME5'], ['BM1','BM2','BM3','BM4','BM5']]\n",
    "tuples = list(zip(*arrays))"
   ]
  },
  {
   "cell_type": "code",
   "execution_count": null,
   "metadata": {},
   "outputs": [],
   "source": [
    "list(itertools.product(*arrays))"
   ]
  },
  {
   "cell_type": "code",
   "execution_count": 80,
   "metadata": {},
   "outputs": [],
   "source": [
    "p25e.columns = pd.MultiIndex.from_tuples(list(itertools.product(*arrays)), names=['MktCap', 'Book2Mkt'])"
   ]
  },
  {
   "cell_type": "code",
   "execution_count": 89,
   "metadata": {},
   "outputs": [],
   "source": [
    "p25e1 = p25e.stack().stack()"
   ]
  },
  {
   "cell_type": "code",
   "execution_count": 95,
   "metadata": {},
   "outputs": [],
   "source": [
    "p25e1.columns = ['ret']"
   ]
  },
  {
   "cell_type": "code",
   "execution_count": 99,
   "metadata": {},
   "outputs": [],
   "source": [
    "p25e2 = p25e1.reset_index()"
   ]
  },
  {
   "cell_type": "code",
   "execution_count": 104,
   "metadata": {},
   "outputs": [
    {
     "data": {
      "text/plain": [
       "Book2Mkt\n",
       "BM1    0.664066\n",
       "BM2    0.788332\n",
       "BM3    0.891813\n",
       "BM4    0.968196\n",
       "BM5    1.133093\n",
       "Name: ret, dtype: float64"
      ]
     },
     "execution_count": 104,
     "metadata": {},
     "output_type": "execute_result"
    }
   ],
   "source": [
    "p25e2.groupby(['Book2Mkt'])['ret'].mean()"
   ]
  },
  {
   "cell_type": "code",
   "execution_count": 103,
   "metadata": {},
   "outputs": [
    {
     "data": {
      "text/plain": [
       "MktCap\n",
       "ME1    0.955625\n",
       "ME2    0.966903\n",
       "ME3    0.937816\n",
       "ME4    0.868977\n",
       "ME5    0.716179\n",
       "Name: ret, dtype: float64"
      ]
     },
     "execution_count": 103,
     "metadata": {},
     "output_type": "execute_result"
    }
   ],
   "source": [
    "p25e2.groupby(['MktCap'])['ret'].mean()"
   ]
  },
  {
   "cell_type": "code",
   "execution_count": 105,
   "metadata": {},
   "outputs": [
    {
     "data": {
      "text/html": [
       "<div>\n",
       "<style scoped>\n",
       "    .dataframe tbody tr th:only-of-type {\n",
       "        vertical-align: middle;\n",
       "    }\n",
       "\n",
       "    .dataframe tbody tr th {\n",
       "        vertical-align: top;\n",
       "    }\n",
       "\n",
       "    .dataframe thead th {\n",
       "        text-align: right;\n",
       "    }\n",
       "</style>\n",
       "<table border=\"1\" class=\"dataframe\">\n",
       "  <thead>\n",
       "    <tr style=\"text-align: right;\">\n",
       "      <th></th>\n",
       "      <th>Mkt-RF</th>\n",
       "      <th>SMB</th>\n",
       "      <th>HML</th>\n",
       "    </tr>\n",
       "    <tr>\n",
       "      <th>month</th>\n",
       "      <th></th>\n",
       "      <th></th>\n",
       "      <th></th>\n",
       "    </tr>\n",
       "  </thead>\n",
       "  <tbody>\n",
       "    <tr>\n",
       "      <th>1926-07-31</th>\n",
       "      <td>2.96</td>\n",
       "      <td>-2.30</td>\n",
       "      <td>-2.87</td>\n",
       "    </tr>\n",
       "    <tr>\n",
       "      <th>1926-08-31</th>\n",
       "      <td>2.64</td>\n",
       "      <td>-1.40</td>\n",
       "      <td>4.19</td>\n",
       "    </tr>\n",
       "    <tr>\n",
       "      <th>1926-09-30</th>\n",
       "      <td>0.36</td>\n",
       "      <td>-1.32</td>\n",
       "      <td>0.01</td>\n",
       "    </tr>\n",
       "    <tr>\n",
       "      <th>1926-10-31</th>\n",
       "      <td>-3.24</td>\n",
       "      <td>0.04</td>\n",
       "      <td>0.51</td>\n",
       "    </tr>\n",
       "    <tr>\n",
       "      <th>1926-11-30</th>\n",
       "      <td>2.53</td>\n",
       "      <td>-0.20</td>\n",
       "      <td>-0.35</td>\n",
       "    </tr>\n",
       "  </tbody>\n",
       "</table>\n",
       "</div>"
      ],
      "text/plain": [
       "            Mkt-RF   SMB   HML\n",
       "month                         \n",
       "1926-07-31    2.96 -2.30 -2.87\n",
       "1926-08-31    2.64 -1.40  4.19\n",
       "1926-09-30    0.36 -1.32  0.01\n",
       "1926-10-31   -3.24  0.04  0.51\n",
       "1926-11-30    2.53 -0.20 -0.35"
      ]
     },
     "execution_count": 105,
     "metadata": {},
     "output_type": "execute_result"
    }
   ],
   "source": [
    "ff3.head()"
   ]
  },
  {
   "cell_type": "code",
   "execution_count": 8,
   "metadata": {},
   "outputs": [
    {
     "data": {
      "text/plain": [
       "<matplotlib.axes._subplots.AxesSubplot at 0x7f9cb36bb7b8>"
      ]
     },
     "execution_count": 8,
     "metadata": {},
     "output_type": "execute_result"
    },
    {
     "data": {
      "image/png": "[encoded data removed]",
      "text/plain": [
       "<Figure size 432x288 with 1 Axes>"
      ]
     },
     "metadata": {
      "needs_background": "light"
     },
     "output_type": "display_data"
    }
   ],
   "source": [
    "# variations of the returns for the 25 portfolios overtime.\n",
    "p25.std(1).rolling(12).mean().plot()"
   ]
  },
  {
   "cell_type": "code",
   "execution_count": null,
   "metadata": {},
   "outputs": [],
   "source": [
    "x = ff3[(ff3.index<=dt.datetime(1990,12,31)) & (ff3.index>=dt.datetime(1963,7,1))]\n",
    "x = sm.add_constant(x)\n",
    "y = p25_excess[(p25_excess.index<=dt.datetime(1990,12,31)) & (p25_excess.index>=dt.datetime(1963,7,1))]"
   ]
  },
  {
   "cell_type": "code",
   "execution_count": 12,
   "metadata": {},
   "outputs": [],
   "source": [
    "#run OLS regessions for 25 porfolios in a loop\n",
    "models = []\n",
    "for i in range (25):\n",
    "    reg = sm.OLS(y.iloc[:, i], x)\n",
    "    models.append(reg.fit())"
   ]
  },
  {
   "cell_type": "code",
   "execution_count": 56,
   "metadata": {},
   "outputs": [],
   "source": [
    "#summarize the 25 regression ouputs into one table\n",
    "info_dict={'R-squared' : lambda x: \"{}\".format(round(x.rsquared,4)),\n",
    "           'No. observations' : lambda x: '{}'.format(int(x.nobs), 'd')}"
   ]
  },
  {
   "cell_type": "code",
   "execution_count": 32,
   "metadata": {},
   "outputs": [],
   "source": [
    "def chunks(l, n):\n",
    "    \"\"\"Yield successive n-sized chunks from l.\"\"\"\n",
    "    for i in range(0, len(l), n):\n",
    "        yield l[i:i + n]"
   ]
  },
  {
   "cell_type": "code",
   "execution_count": 57,
   "metadata": {},
   "outputs": [
    {
     "name": "stdout",
     "output_type": "stream",
     "text": [
      "             Table - Small Size - OLS Regressions\n",
      "==============================================================\n",
      "                 SMALL LoBM ME1 BM2 ME1 BM3 ME1 BM4 SMALL HiBM\n",
      "--------------------------------------------------------------\n",
      "const            -0.38***   -0.09   -0.08   0.09    0.06      \n",
      "                 (0.11)     (0.08)  (0.07)  (0.06)  (0.07)    \n",
      "Mkt-RF           1.05***    0.97*** 0.94*** 0.89*** 0.95***   \n",
      "                 (0.03)     (0.02)  (0.02)  (0.02)  (0.02)    \n",
      "SMB              1.39***    1.27*** 1.15*** 1.10*** 1.19***   \n",
      "                 (0.04)     (0.03)  (0.02)  (0.02)  (0.02)    \n",
      "HML              -0.30***   0.08**  0.26*** 0.38*** 0.62***   \n",
      "                 (0.04)     (0.03)  (0.03)  (0.03)  (0.03)    \n",
      "R-squared        0.9405     0.9582  0.9649  0.9647  0.9641    \n",
      "No. observations 330        330     330     330     330       \n",
      "==============================================================\n",
      "Standard errors in parentheses.\n",
      "* p<.1, ** p<.05, ***p<.01\n",
      "          Table - Small Size - OLS Regressions\n",
      "=========================================================\n",
      "                 ME2 BM1  ME2 BM2 ME2 BM3 ME2 BM4 ME2 BM5\n",
      "---------------------------------------------------------\n",
      "const            -0.13    0.02    0.13*   0.16**  0.06   \n",
      "                 (0.09)   (0.07)  (0.07)  (0.06)  (0.07) \n",
      "Mkt-RF           1.10***  1.02*** 0.97*** 0.97*** 1.06***\n",
      "                 (0.02)   (0.02)  (0.02)  (0.02)  (0.02) \n",
      "SMB              1.00***  0.94*** 0.83*** 0.70*** 0.85***\n",
      "                 (0.03)   (0.03)  (0.02)  (0.02)  (0.03) \n",
      "HML              -0.48*** 0.02    0.24*** 0.47*** 0.69***\n",
      "                 (0.04)   (0.03)  (0.03)  (0.03)  (0.03) \n",
      "R-squared        0.9566   0.96    0.9587  0.9562  0.958  \n",
      "No. observations 330      330     330     330     330    \n",
      "=========================================================\n",
      "Standard errors in parentheses.\n",
      "* p<.1, ** p<.05, ***p<.01\n",
      "          Table - Small Size - OLS Regressions\n",
      "=========================================================\n",
      "                 ME3 BM1  ME3 BM2 ME3 BM3 ME3 BM4 ME3 BM5\n",
      "---------------------------------------------------------\n",
      "const            -0.05    0.11    -0.01   0.10    0.05   \n",
      "                 (0.08)   (0.07)  (0.08)  (0.07)  (0.08) \n",
      "Mkt-RF           1.10***  1.02*** 0.97*** 0.97*** 1.05***\n",
      "                 (0.02)   (0.02)  (0.02)  (0.02)  (0.02) \n",
      "SMB              0.71***  0.63*** 0.54*** 0.45*** 0.66***\n",
      "                 (0.03)   (0.03)  (0.03)  (0.03)  (0.03) \n",
      "HML              -0.43*** 0.04    0.30*** 0.51*** 0.70***\n",
      "                 (0.03)   (0.03)  (0.03)  (0.03)  (0.03) \n",
      "R-squared        0.9592   0.9481  0.9342  0.94    0.9317 \n",
      "No. observations 330      330     330     330     330    \n",
      "=========================================================\n",
      "Standard errors in parentheses.\n",
      "* p<.1, ** p<.05, ***p<.01\n",
      "          Table - Small Size - OLS Regressions\n",
      "=========================================================\n",
      "                 ME4 BM1  ME4 BM2 ME4 BM3 ME4 BM4 ME4 BM5\n",
      "---------------------------------------------------------\n",
      "const            0.11     -0.12   -0.00   0.06    0.02   \n",
      "                 (0.08)   (0.09)  (0.09)  (0.08)  (0.10) \n",
      "Mkt-RF           1.06***  1.08*** 1.04*** 1.04*** 1.15***\n",
      "                 (0.02)   (0.02)  (0.02)  (0.02)  (0.03) \n",
      "SMB              0.30***  0.26*** 0.24*** 0.23*** 0.37***\n",
      "                 (0.03)   (0.03)  (0.03)  (0.03)  (0.04) \n",
      "HML              -0.44*** 0.02    0.31*** 0.57*** 0.74***\n",
      "                 (0.03)   (0.03)  (0.03)  (0.03)  (0.04) \n",
      "R-squared        0.9461   0.924   0.9124  0.9109  0.8972 \n",
      "No. observations 330      330     330     330     330    \n",
      "=========================================================\n",
      "Standard errors in parentheses.\n",
      "* p<.1, ** p<.05, ***p<.01\n",
      "            Table - Small Size - OLS Regressions\n",
      "=============================================================\n",
      "                 BIG LoBM ME5 BM2  ME5 BM3  ME5 BM4  BIG HiBM\n",
      "-------------------------------------------------------------\n",
      "const            0.19***  0.01     -0.03    -0.07    -0.18   \n",
      "                 (0.07)   (0.07)   (0.09)   (0.08)   (0.11)  \n",
      "Mkt-RF           0.95***  1.02***  0.97***  1.01***  1.01*** \n",
      "                 (0.02)   (0.02)   (0.02)   (0.02)   (0.03)  \n",
      "SMB              -0.20*** -0.20*** -0.27*** -0.20*** -0.03   \n",
      "                 (0.03)   (0.03)   (0.03)   (0.03)   (0.04)  \n",
      "HML              -0.44*** -0.03    0.19***  0.56***  0.75*** \n",
      "                 (0.03)   (0.03)   (0.04)   (0.03)   (0.04)  \n",
      "R-squared        0.9366   0.9241   0.8575   0.9058   0.8286  \n",
      "No. observations 330      330      330      330      330     \n",
      "=============================================================\n",
      "Standard errors in parentheses.\n",
      "* p<.1, ** p<.05, ***p<.01\n"
     ]
    }
   ],
   "source": [
    "#summarize the regression output of Small-size portfolios\n",
    "\n",
    "for i in chunks(models, 5):\n",
    "    results_table_0 = summary_col(results= i,\n",
    "                                stars = True,\n",
    "                                float_format =\"%.2f\",\n",
    "                                info_dict = info_dict\n",
    "                               )\n",
    "\n",
    "    results_table_0.add_title('Table - Small Size - OLS Regressions')\n",
    "\n",
    "    print(results_table_0)"
   ]
  }
 ],
 "metadata": {
  "kernelspec": {
   "display_name": "Python 3",
   "language": "python",
   "name": "python3"
  },
  "language_info": {
   "codemirror_mode": {
    "name": "ipython",
    "version": 3
   },
   "file_extension": ".py",
   "mimetype": "text/x-python",
   "name": "python",
   "nbconvert_exporter": "python",
   "pygments_lexer": "ipython3",
   "version": "3.5.6"
  }
 },
 "nbformat": 4,
 "nbformat_minor": 2
}
