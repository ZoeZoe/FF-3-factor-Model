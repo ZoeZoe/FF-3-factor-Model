{
 "cells": [
  {
   "cell_type": "code",
   "execution_count": 180,
   "metadata": {
    "collapsed": true
   },
   "outputs": [],
   "source": [
    "import statsmodels.api as sm #for OLS regression\n",
    "import numpy as np\n",
    "import pandas as pd\n",
    "from pandas import DataFrame\n",
    "import matplotlib.pyplot as plt #for heatmap plotting\n",
    "from mpl_toolkits.mplot3d import Axes3D\n",
    "import seaborn as sns #for heatmap plotting\n",
    "from statsmodels.iolib.summary2 import summary_col #to summarize multiple regressions in one table\n",
    "from datetime import date\n",
    "from dateutil.relativedelta import relativedelta\n",
    "import math\n",
    "from scipy import stats\n",
    "import time\n",
    "from tqdm import tqdm\n",
    "from itertools import product\n",
    "import multiprocessing"
   ]
  },
  {
   "cell_type": "code",
   "execution_count": 2,
   "metadata": {
    "collapsed": true
   },
   "outputs": [],
   "source": [
    "####################  1. Regression with Daily Return   ###################################"
   ]
  },
  {
   "cell_type": "markdown",
   "metadata": {},
   "source": [
    "### data"
   ]
  },
  {
   "cell_type": "code",
   "execution_count": 3,
   "metadata": {
    "collapsed": false
   },
   "outputs": [],
   "source": [
    "#pf_size = pd.read_csv('C:/Users/yz2991/Desktop/Portfolios_Formed_on_ME_daily.csv')\n",
    "#ff5 = pd.read_csv('C:/Users/yz2991/Desktop/F-F_Research_Data_5_Factors_2x3_daily.csv')\n",
    "pf_size = pd.read_csv('data/Portfolios_Formed_on_ME_daily.csv')\n",
    "ff5 = pd.read_csv('data/F-F_Research_Data_5_Factors_2x3_daily.csv')"
   ]
  },
  {
   "cell_type": "code",
   "execution_count": 4,
   "metadata": {
    "collapsed": true
   },
   "outputs": [
    {
     "data": {
      "text/html": [
       "<div>\n",
       "<style scoped>\n",
       "    .dataframe tbody tr th:only-of-type {\n",
       "        vertical-align: middle;\n",
       "    }\n",
       "\n",
       "    .dataframe tbody tr th {\n",
       "        vertical-align: top;\n",
       "    }\n",
       "\n",
       "    .dataframe thead th {\n",
       "        text-align: right;\n",
       "    }\n",
       "</style>\n",
       "<table border=\"1\" class=\"dataframe\">\n",
       "  <thead>\n",
       "    <tr style=\"text-align: right;\">\n",
       "      <th></th>\n",
       "      <th>Unnamed: 0</th>\n",
       "      <th>&lt;= 0</th>\n",
       "      <th>Lo 30</th>\n",
       "      <th>Med 40</th>\n",
       "      <th>Hi 30</th>\n",
       "      <th>Lo 20</th>\n",
       "      <th>Qnt 2</th>\n",
       "      <th>Qnt 3</th>\n",
       "      <th>Qnt 4</th>\n",
       "      <th>Hi 20</th>\n",
       "      <th>Lo 10</th>\n",
       "      <th>2-Dec</th>\n",
       "      <th>3-Dec</th>\n",
       "      <th>4-Dec</th>\n",
       "      <th>5-Dec</th>\n",
       "      <th>6-Dec</th>\n",
       "      <th>7-Dec</th>\n",
       "      <th>8-Dec</th>\n",
       "      <th>9-Dec</th>\n",
       "      <th>Hi 10</th>\n",
       "    </tr>\n",
       "  </thead>\n",
       "  <tbody>\n",
       "    <tr>\n",
       "      <th>0</th>\n",
       "      <td>19630701.0</td>\n",
       "      <td>-99.99</td>\n",
       "      <td>-0.58</td>\n",
       "      <td>-0.54</td>\n",
       "      <td>-0.67</td>\n",
       "      <td>-0.61</td>\n",
       "      <td>-0.69</td>\n",
       "      <td>-0.47</td>\n",
       "      <td>-0.56</td>\n",
       "      <td>-0.68</td>\n",
       "      <td>-0.64</td>\n",
       "      <td>-0.58</td>\n",
       "      <td>-0.54</td>\n",
       "      <td>-0.81</td>\n",
       "      <td>-0.55</td>\n",
       "      <td>-0.41</td>\n",
       "      <td>-0.52</td>\n",
       "      <td>-0.59</td>\n",
       "      <td>-0.69</td>\n",
       "      <td>-0.68</td>\n",
       "    </tr>\n",
       "    <tr>\n",
       "      <th>1</th>\n",
       "      <td>19630702.0</td>\n",
       "      <td>-99.99</td>\n",
       "      <td>0.44</td>\n",
       "      <td>0.59</td>\n",
       "      <td>0.85</td>\n",
       "      <td>0.50</td>\n",
       "      <td>0.62</td>\n",
       "      <td>0.54</td>\n",
       "      <td>0.72</td>\n",
       "      <td>0.85</td>\n",
       "      <td>0.38</td>\n",
       "      <td>0.62</td>\n",
       "      <td>0.33</td>\n",
       "      <td>0.86</td>\n",
       "      <td>0.50</td>\n",
       "      <td>0.56</td>\n",
       "      <td>0.55</td>\n",
       "      <td>0.82</td>\n",
       "      <td>0.65</td>\n",
       "      <td>0.89</td>\n",
       "    </tr>\n",
       "    <tr>\n",
       "      <th>2</th>\n",
       "      <td>19630703.0</td>\n",
       "      <td>-99.99</td>\n",
       "      <td>0.55</td>\n",
       "      <td>0.58</td>\n",
       "      <td>0.65</td>\n",
       "      <td>0.52</td>\n",
       "      <td>0.57</td>\n",
       "      <td>0.62</td>\n",
       "      <td>0.62</td>\n",
       "      <td>0.65</td>\n",
       "      <td>0.41</td>\n",
       "      <td>0.63</td>\n",
       "      <td>0.61</td>\n",
       "      <td>0.54</td>\n",
       "      <td>0.40</td>\n",
       "      <td>0.78</td>\n",
       "      <td>0.56</td>\n",
       "      <td>0.66</td>\n",
       "      <td>0.63</td>\n",
       "      <td>0.65</td>\n",
       "    </tr>\n",
       "    <tr>\n",
       "      <th>3</th>\n",
       "      <td>19630705.0</td>\n",
       "      <td>-99.99</td>\n",
       "      <td>0.33</td>\n",
       "      <td>0.34</td>\n",
       "      <td>0.43</td>\n",
       "      <td>0.41</td>\n",
       "      <td>0.29</td>\n",
       "      <td>0.37</td>\n",
       "      <td>0.29</td>\n",
       "      <td>0.44</td>\n",
       "      <td>0.36</td>\n",
       "      <td>0.48</td>\n",
       "      <td>0.18</td>\n",
       "      <td>0.39</td>\n",
       "      <td>0.41</td>\n",
       "      <td>0.34</td>\n",
       "      <td>0.29</td>\n",
       "      <td>0.29</td>\n",
       "      <td>0.31</td>\n",
       "      <td>0.47</td>\n",
       "    </tr>\n",
       "    <tr>\n",
       "      <th>4</th>\n",
       "      <td>19630708.0</td>\n",
       "      <td>-99.99</td>\n",
       "      <td>-0.43</td>\n",
       "      <td>-0.53</td>\n",
       "      <td>-0.63</td>\n",
       "      <td>-0.35</td>\n",
       "      <td>-0.74</td>\n",
       "      <td>-0.62</td>\n",
       "      <td>-0.36</td>\n",
       "      <td>-0.66</td>\n",
       "      <td>-0.47</td>\n",
       "      <td>-0.22</td>\n",
       "      <td>-0.58</td>\n",
       "      <td>-0.86</td>\n",
       "      <td>-0.64</td>\n",
       "      <td>-0.60</td>\n",
       "      <td>-0.30</td>\n",
       "      <td>-0.39</td>\n",
       "      <td>-0.47</td>\n",
       "      <td>-0.70</td>\n",
       "    </tr>\n",
       "  </tbody>\n",
       "</table>\n",
       "</div>"
      ],
      "text/plain": [
       "   Unnamed: 0   <= 0  Lo 30  Med 40  Hi 30  Lo 20  Qnt 2  Qnt 3  Qnt 4  Hi 20  \\\n",
       "0  19630701.0 -99.99  -0.58   -0.54  -0.67  -0.61  -0.69  -0.47  -0.56  -0.68   \n",
       "1  19630702.0 -99.99   0.44    0.59   0.85   0.50   0.62   0.54   0.72   0.85   \n",
       "2  19630703.0 -99.99   0.55    0.58   0.65   0.52   0.57   0.62   0.62   0.65   \n",
       "3  19630705.0 -99.99   0.33    0.34   0.43   0.41   0.29   0.37   0.29   0.44   \n",
       "4  19630708.0 -99.99  -0.43   -0.53  -0.63  -0.35  -0.74  -0.62  -0.36  -0.66   \n",
       "\n",
       "   Lo 10  2-Dec  3-Dec  4-Dec  5-Dec  6-Dec  7-Dec  8-Dec  9-Dec  Hi 10  \n",
       "0  -0.64  -0.58  -0.54  -0.81  -0.55  -0.41  -0.52  -0.59  -0.69  -0.68  \n",
       "1   0.38   0.62   0.33   0.86   0.50   0.56   0.55   0.82   0.65   0.89  \n",
       "2   0.41   0.63   0.61   0.54   0.40   0.78   0.56   0.66   0.63   0.65  \n",
       "3   0.36   0.48   0.18   0.39   0.41   0.34   0.29   0.29   0.31   0.47  \n",
       "4  -0.47  -0.22  -0.58  -0.86  -0.64  -0.60  -0.30  -0.39  -0.47  -0.70  "
      ]
     },
     "execution_count": 4,
     "metadata": {},
     "output_type": "execute_result"
    }
   ],
   "source": [
    "pf_size.head()"
   ]
  },
  {
   "cell_type": "code",
   "execution_count": 5,
   "metadata": {
    "collapsed": true
   },
   "outputs": [
    {
     "data": {
      "text/html": [
       "<div>\n",
       "<style scoped>\n",
       "    .dataframe tbody tr th:only-of-type {\n",
       "        vertical-align: middle;\n",
       "    }\n",
       "\n",
       "    .dataframe tbody tr th {\n",
       "        vertical-align: top;\n",
       "    }\n",
       "\n",
       "    .dataframe thead th {\n",
       "        text-align: right;\n",
       "    }\n",
       "</style>\n",
       "<table border=\"1\" class=\"dataframe\">\n",
       "  <thead>\n",
       "    <tr style=\"text-align: right;\">\n",
       "      <th></th>\n",
       "      <th>Unnamed: 0</th>\n",
       "      <th>Mkt-RF</th>\n",
       "      <th>SMB</th>\n",
       "      <th>HML</th>\n",
       "      <th>RMW</th>\n",
       "      <th>CMA</th>\n",
       "      <th>RF</th>\n",
       "    </tr>\n",
       "  </thead>\n",
       "  <tbody>\n",
       "    <tr>\n",
       "      <th>0</th>\n",
       "      <td>19630701</td>\n",
       "      <td>-0.67</td>\n",
       "      <td>0.00</td>\n",
       "      <td>-0.32</td>\n",
       "      <td>-0.01</td>\n",
       "      <td>0.15</td>\n",
       "      <td>0.012</td>\n",
       "    </tr>\n",
       "    <tr>\n",
       "      <th>1</th>\n",
       "      <td>19630702</td>\n",
       "      <td>0.79</td>\n",
       "      <td>-0.27</td>\n",
       "      <td>0.27</td>\n",
       "      <td>-0.07</td>\n",
       "      <td>-0.19</td>\n",
       "      <td>0.012</td>\n",
       "    </tr>\n",
       "    <tr>\n",
       "      <th>2</th>\n",
       "      <td>19630703</td>\n",
       "      <td>0.63</td>\n",
       "      <td>-0.17</td>\n",
       "      <td>-0.09</td>\n",
       "      <td>0.17</td>\n",
       "      <td>-0.33</td>\n",
       "      <td>0.012</td>\n",
       "    </tr>\n",
       "    <tr>\n",
       "      <th>3</th>\n",
       "      <td>19630705</td>\n",
       "      <td>0.40</td>\n",
       "      <td>0.08</td>\n",
       "      <td>-0.28</td>\n",
       "      <td>0.08</td>\n",
       "      <td>-0.33</td>\n",
       "      <td>0.012</td>\n",
       "    </tr>\n",
       "    <tr>\n",
       "      <th>4</th>\n",
       "      <td>19630708</td>\n",
       "      <td>-0.63</td>\n",
       "      <td>0.04</td>\n",
       "      <td>-0.18</td>\n",
       "      <td>-0.29</td>\n",
       "      <td>0.13</td>\n",
       "      <td>0.012</td>\n",
       "    </tr>\n",
       "  </tbody>\n",
       "</table>\n",
       "</div>"
      ],
      "text/plain": [
       "   Unnamed: 0  Mkt-RF   SMB   HML   RMW   CMA     RF\n",
       "0    19630701   -0.67  0.00 -0.32 -0.01  0.15  0.012\n",
       "1    19630702    0.79 -0.27  0.27 -0.07 -0.19  0.012\n",
       "2    19630703    0.63 -0.17 -0.09  0.17 -0.33  0.012\n",
       "3    19630705    0.40  0.08 -0.28  0.08 -0.33  0.012\n",
       "4    19630708   -0.63  0.04 -0.18 -0.29  0.13  0.012"
      ]
     },
     "execution_count": 5,
     "metadata": {},
     "output_type": "execute_result"
    }
   ],
   "source": [
    "ff5.head()"
   ]
  },
  {
   "cell_type": "code",
   "execution_count": 6,
   "metadata": {
    "collapsed": true
   },
   "outputs": [],
   "source": [
    "pf_size.rename(columns = {'Unnamed: 0': 'YYMM'}, inplace = True)\n",
    "ff5.rename(columns = {'Unnamed: 0': 'YYMM'}, inplace = True)"
   ]
  },
  {
   "cell_type": "code",
   "execution_count": 7,
   "metadata": {
    "collapsed": false
   },
   "outputs": [
    {
     "name": "stdout",
     "output_type": "stream",
     "text": [
      "      <= 0  Lo 30  Med 40  Hi 30  Lo 20  Qnt 2  Qnt 3  Qnt 4  Hi 20  Lo 10  \\\n",
      "0 -100.002 -0.592  -0.552 -0.682 -0.622 -0.702 -0.482 -0.572 -0.692 -0.652   \n",
      "1 -100.002  0.428   0.578  0.838  0.488  0.608  0.528  0.708  0.838  0.368   \n",
      "2 -100.002  0.538   0.568  0.638  0.508  0.558  0.608  0.608  0.638  0.398   \n",
      "3 -100.002  0.318   0.328  0.418  0.398  0.278  0.358  0.278  0.428  0.348   \n",
      "4 -100.002 -0.442  -0.542 -0.642 -0.362 -0.752 -0.632 -0.372 -0.672 -0.482   \n",
      "\n",
      "   2-Dec  3-Dec  4-Dec  5-Dec  6-Dec  7-Dec  8-Dec  9-Dec  Hi 10  \n",
      "0 -0.592 -0.552 -0.822 -0.562 -0.422 -0.532 -0.602 -0.702 -0.692  \n",
      "1  0.608  0.318  0.848  0.488  0.548  0.538  0.808  0.638  0.878  \n",
      "2  0.618  0.598  0.528  0.388  0.768  0.548  0.648  0.618  0.638  \n",
      "3  0.468  0.168  0.378  0.398  0.328  0.278  0.278  0.298  0.458  \n",
      "4 -0.232 -0.592 -0.872 -0.652 -0.612 -0.312 -0.402 -0.482 -0.712  \n"
     ]
    }
   ],
   "source": [
    "pf_size_excess=(pf_size.iloc[:,1:pf_size.shape[1]]).sub(ff5.RF,axis=0)\n",
    "print(pf_size_excess.head())"
   ]
  },
  {
   "cell_type": "code",
   "execution_count": 8,
   "metadata": {
    "collapsed": false
   },
   "outputs": [
    {
     "name": "stdout",
     "output_type": "stream",
     "text": [
      "      <= 0  Lo 30  Med 40  Hi 30  Lo 20  Qnt 2  Qnt 3  Qnt 4  Hi 20  Lo 10  \\\n",
      "0 -100.002 -0.592  -0.552 -0.682 -0.622 -0.702 -0.482 -0.572 -0.692 -0.652   \n",
      "1 -100.002  0.428   0.578  0.838  0.488  0.608  0.528  0.708  0.838  0.368   \n",
      "2 -100.002  0.538   0.568  0.638  0.508  0.558  0.608  0.608  0.638  0.398   \n",
      "3 -100.002  0.318   0.328  0.418  0.398  0.278  0.358  0.278  0.428  0.348   \n",
      "4 -100.002 -0.442  -0.542 -0.642 -0.362 -0.752 -0.632 -0.372 -0.672 -0.482   \n",
      "\n",
      "   2-Dec  3-Dec  4-Dec  5-Dec  6-Dec  7-Dec  8-Dec  9-Dec  Hi 10       YYMM  \n",
      "0 -0.592 -0.552 -0.822 -0.562 -0.422 -0.532 -0.602 -0.702 -0.692 1963-07-01  \n",
      "1  0.608  0.318  0.848  0.488  0.548  0.538  0.808  0.638  0.878 1963-07-02  \n",
      "2  0.618  0.598  0.528  0.388  0.768  0.548  0.648  0.618  0.638 1963-07-03  \n",
      "3  0.468  0.168  0.378  0.398  0.328  0.278  0.278  0.298  0.458 1963-07-05  \n",
      "4 -0.232 -0.592 -0.872 -0.652 -0.612 -0.312 -0.402 -0.482 -0.712 1963-07-08  \n"
     ]
    }
   ],
   "source": [
    "ff5['YYMM'] = pd.to_datetime(ff5['YYMM'],yearfirst=True, format='%Y%m%d')\n",
    "pf_size_excess['YYMM'] = pd.to_datetime(pf_size['YYMM'],yearfirst=True, format='%Y%m%d')\n",
    "print(pf_size_excess.head())"
   ]
  },
  {
   "cell_type": "code",
   "execution_count": 9,
   "metadata": {
    "collapsed": true
   },
   "outputs": [],
   "source": [
    "ff5.index = ff5['YYMM']\n",
    "pf_size_excess.index = pf_size_excess['YYMM']\n",
    "ff5 = ff5.drop('YYMM', axis = 1)\n",
    "ff5 = ff5.drop('RF', axis = 1)\n",
    "# pf_size_excess = pf_size_excess.loc[:,['Lo 30','Med 40','Hi 30']]"
   ]
  },
  {
   "cell_type": "code",
   "execution_count": 10,
   "metadata": {
    "collapsed": false
   },
   "outputs": [
    {
     "name": "stdout",
     "output_type": "stream",
     "text": [
      "            Mkt-RF   SMB   HML   RMW   CMA\n",
      "YYMM                                      \n",
      "1963-07-01   -0.67  0.00 -0.32 -0.01  0.15\n",
      "1963-07-02    0.79 -0.27  0.27 -0.07 -0.19\n",
      "1963-07-03    0.63 -0.17 -0.09  0.17 -0.33\n",
      "1963-07-05    0.40  0.08 -0.28  0.08 -0.33\n",
      "1963-07-08   -0.63  0.04 -0.18 -0.29  0.13\n"
     ]
    }
   ],
   "source": [
    "print(ff5.head())"
   ]
  },
  {
   "cell_type": "markdown",
   "metadata": {},
   "source": [
    "### moving window"
   ]
  },
  {
   "cell_type": "code",
   "execution_count": 11,
   "metadata": {
    "collapsed": false
   },
   "outputs": [],
   "source": [
    "start = ff5.index[0]\n",
    "end = ff5.index[-1]\n",
    "n_day = end - start"
   ]
  },
  {
   "cell_type": "code",
   "execution_count": 12,
   "metadata": {
    "collapsed": false
   },
   "outputs": [
    {
     "data": {
      "text/plain": [
       "Timestamp('2019-05-31 00:00:00')"
      ]
     },
     "execution_count": 12,
     "metadata": {},
     "output_type": "execute_result"
    }
   ],
   "source": [
    "ff5.index[-1]"
   ]
  },
  {
   "cell_type": "code",
   "execution_count": 166,
   "metadata": {
    "collapsed": false
   },
   "outputs": [
    {
     "name": "stdout",
     "output_type": "stream",
     "text": [
      "20423\n",
      "(14075, 5)\n",
      "13950\n"
     ]
    }
   ],
   "source": [
    "print(n_day.days)\n",
    "print(ff5.shape)\n",
    "#because there are weekends and public holidays, we use every 126 records as a proxy of every 6-month window\\n\",\n",
    "#There are in total 14075 records, thus will have 14075 - 126 + 1 =  13950 windows\\n\",\n",
    "window = 126\n",
    "n_window = ff5.shape[0] - 126 + 1\n",
    "print(n_window)"
   ]
  },
  {
   "cell_type": "code",
   "execution_count": 14,
   "metadata": {
    "collapsed": false
   },
   "outputs": [
    {
     "data": {
      "text/html": [
       "<div>\n",
       "<style scoped>\n",
       "    .dataframe tbody tr th:only-of-type {\n",
       "        vertical-align: middle;\n",
       "    }\n",
       "\n",
       "    .dataframe tbody tr th {\n",
       "        vertical-align: top;\n",
       "    }\n",
       "\n",
       "    .dataframe thead th {\n",
       "        text-align: right;\n",
       "    }\n",
       "</style>\n",
       "<table border=\"1\" class=\"dataframe\">\n",
       "  <thead>\n",
       "    <tr style=\"text-align: right;\">\n",
       "      <th></th>\n",
       "      <th>Lo 30</th>\n",
       "      <th>Med 40</th>\n",
       "      <th>Hi 30</th>\n",
       "    </tr>\n",
       "    <tr>\n",
       "      <th>YYMM</th>\n",
       "      <th></th>\n",
       "      <th></th>\n",
       "      <th></th>\n",
       "    </tr>\n",
       "  </thead>\n",
       "  <tbody>\n",
       "    <tr>\n",
       "      <th>1963-07-01</th>\n",
       "      <td>-0.592</td>\n",
       "      <td>-0.552</td>\n",
       "      <td>-0.682</td>\n",
       "    </tr>\n",
       "    <tr>\n",
       "      <th>1963-07-02</th>\n",
       "      <td>0.428</td>\n",
       "      <td>0.578</td>\n",
       "      <td>0.838</td>\n",
       "    </tr>\n",
       "    <tr>\n",
       "      <th>1963-07-03</th>\n",
       "      <td>0.538</td>\n",
       "      <td>0.568</td>\n",
       "      <td>0.638</td>\n",
       "    </tr>\n",
       "    <tr>\n",
       "      <th>1963-07-05</th>\n",
       "      <td>0.318</td>\n",
       "      <td>0.328</td>\n",
       "      <td>0.418</td>\n",
       "    </tr>\n",
       "    <tr>\n",
       "      <th>1963-07-08</th>\n",
       "      <td>-0.442</td>\n",
       "      <td>-0.542</td>\n",
       "      <td>-0.642</td>\n",
       "    </tr>\n",
       "  </tbody>\n",
       "</table>\n",
       "</div>"
      ],
      "text/plain": [
       "            Lo 30  Med 40  Hi 30\n",
       "YYMM                            \n",
       "1963-07-01 -0.592  -0.552 -0.682\n",
       "1963-07-02  0.428   0.578  0.838\n",
       "1963-07-03  0.538   0.568  0.638\n",
       "1963-07-05  0.318   0.328  0.418\n",
       "1963-07-08 -0.442  -0.542 -0.642"
      ]
     },
     "execution_count": 14,
     "metadata": {},
     "output_type": "execute_result"
    }
   ],
   "source": [
    "#To run OLS on a 6-month rolling window basis. The logic of this loop is to run the rolling window regressions \\n\",\n",
    "#for each of the 3 portfolios. That is, the first 13950 models are for the portfolio Lo 30,\\n\",\n",
    "#the next 13950 models are for the portfolio Med 40\\n\",\n",
    "pf_3 = pf_size_excess.loc[:,['Lo 30','Med 40','Hi 30']]\n",
    "pf_3.head()"
   ]
  },
  {
   "cell_type": "code",
   "execution_count": 157,
   "metadata": {
    "collapsed": false
   },
   "outputs": [],
   "source": [
    "pf_size_excess_3_5_10 = pf_size_excess.iloc[:-4,1:-1]"
   ]
  },
  {
   "cell_type": "code",
   "execution_count": 158,
   "metadata": {
    "collapsed": false
   },
   "outputs": [
    {
     "data": {
      "text/plain": [
       "(14075, 5)"
      ]
     },
     "execution_count": 158,
     "metadata": {},
     "output_type": "execute_result"
    }
   ],
   "source": [
    "ff5.shape"
   ]
  },
  {
   "cell_type": "code",
   "execution_count": 159,
   "metadata": {
    "collapsed": false
   },
   "outputs": [
    {
     "data": {
      "text/plain": [
       "(14075, 18)"
      ]
     },
     "execution_count": 159,
     "metadata": {},
     "output_type": "execute_result"
    }
   ],
   "source": [
    "pf_size_excess_3_5_10.shape"
   ]
  },
  {
   "cell_type": "code",
   "execution_count": 160,
   "metadata": {
    "collapsed": false
   },
   "outputs": [
    {
     "data": {
      "text/plain": [
       "DatetimeIndex(['1963-07-01', '1963-07-02', '1963-07-03', '1963-07-05',\n",
       "               '1963-07-08', '1963-07-09', '1963-07-10', '1963-07-11',\n",
       "               '1963-07-12', '1963-07-15',\n",
       "               ...\n",
       "               '2019-05-17', '2019-05-20', '2019-05-21', '2019-05-22',\n",
       "               '2019-05-23', '2019-05-24', '2019-05-28', '2019-05-29',\n",
       "               '2019-05-30', '2019-05-31'],\n",
       "              dtype='datetime64[ns]', name='YYMM', length=14075, freq=None)"
      ]
     },
     "execution_count": 160,
     "metadata": {},
     "output_type": "execute_result"
    }
   ],
   "source": [
    "ff5.index"
   ]
  },
  {
   "cell_type": "code",
   "execution_count": 162,
   "metadata": {
    "collapsed": false
   },
   "outputs": [
    {
     "data": {
      "text/plain": [
       "['Lo 30',\n",
       " 'Med 40',\n",
       " 'Hi 30',\n",
       " 'Lo 20',\n",
       " 'Qnt 2',\n",
       " 'Qnt 3',\n",
       " 'Qnt 4',\n",
       " 'Hi 20',\n",
       " 'Lo 10',\n",
       " '2-Dec',\n",
       " '3-Dec',\n",
       " '4-Dec',\n",
       " '5-Dec',\n",
       " '6-Dec',\n",
       " '7-Dec',\n",
       " '8-Dec',\n",
       " '9-Dec',\n",
       " 'Hi 10']"
      ]
     },
     "execution_count": 162,
     "metadata": {},
     "output_type": "execute_result"
    }
   ],
   "source": [
    "start_dates = []\n",
    "targets = list(pf_size_excess_3_5_10.columns)\n",
    "targets"
   ]
  },
  {
   "cell_type": "code",
   "execution_count": 152,
   "metadata": {
    "collapsed": false
   },
   "outputs": [],
   "source": [
    "start_idx=0\n",
    "print(start_idx+window-1)"
   ]
  },
  {
   "cell_type": "code",
   "execution_count": null,
   "metadata": {
    "collapsed": false
   },
   "outputs": [],
   "source": [
    "ff5.iloc[0:125,:]"
   ]
  },
  {
   "cell_type": "code",
   "execution_count": null,
   "metadata": {
    "collapsed": false
   },
   "outputs": [],
   "source": [
    "ff5.iloc[start_idx: start_idx+window-1, :]"
   ]
  },
  {
   "cell_type": "code",
   "execution_count": 167,
   "metadata": {
    "collapsed": false
   },
   "outputs": [],
   "source": [
    "def reg_i(start_idx, target):\n",
    "    window_size = 126\n",
    "    x = ff5.iloc[start_idx: start_idx+window-1, :]\n",
    "    y = pf_size_excess_3_5_10.iloc[start_idx: start_idx+window-1, [target]]\n",
    "    reg = sm.OLS(y, x)   \n",
    "    return reg.fit()"
   ]
  },
  {
   "cell_type": "code",
   "execution_count": 15,
   "metadata": {
    "collapsed": false
   },
   "outputs": [],
   "source": [
    "import multiprocessing\n",
    "from itertools import product\n",
    "\n",
    "def merge_names(a, b):\n",
    "    return '{} & {}'.format(a, b)\n",
    "\n",
    "\n",
    "targets = list(pf_size_excess_3_5_10.columns)\n",
    "indices = range(n_window-window)"
   ]
  },
  {
   "cell_type": "code",
   "execution_count": null,
   "metadata": {
    "collapsed": false
   },
   "outputs": [],
   "source": [
    "res_dict = {}\n",
    "with multiprocessing.Pool() as pool:\n",
    "    args_ = product(indices, targets)\n",
    "    for idx, ret in enumerate(pool.starmap(reg_i, args_)):\n",
    "        res_dict[args[idx]] = ret"
   ]
  },
  {
   "cell_type": "code",
   "execution_count": 173,
   "metadata": {
    "collapsed": false
   },
   "outputs": [],
   "source": [
    "targets = list(pf_size_excess_3_5_10.columns)\n",
    "indices = range(n_window-window)\n",
    "a= product(indices, targets)"
   ]
  },
  {
   "cell_type": "code",
   "execution_count": 15,
   "metadata": {
    "collapsed": false
   },
   "outputs": [],
   "source": [
    "start_ = time.time()"
   ]
  },
  {
   "cell_type": "code",
   "execution_count": null,
   "metadata": {
    "collapsed": false
   },
   "outputs": [],
   "source": [
    "models_3_pf = []\n",
    "for i in range (3):\n",
    "    print('part {}/3'.format(i+1))\n",
    "    for m in tqdm(range(n_window)):\n",
    "        \n",
    "        t0 = ff5.index[0+m]\n",
    "        if ff5.index[0+m+window-1] < end:\n",
    "            t1 = ff5.index[0+m+window-1]\n",
    "        else:\n",
    "            t1 = end\n",
    "        \n",
    "        x = ff5[t0:t1]\n",
    "        x = sm.add_constant(x)\n",
    "        y = pf_3[t0:t1]\n",
    "        reg = sm.OLS(y.iloc[:,i], x)   \n",
    "        models_3_pf.append(reg.fit())\n",
    "print(time.time()-start_)"
   ]
  },
  {
   "cell_type": "code",
   "execution_count": 16,
   "metadata": {
    "collapsed": false
   },
   "outputs": [],
   "source": [
    "reg = sm.OLS(pf_3.iloc[:2000,0], sm.add_constant(ff5.iloc[:2000])) "
   ]
  },
  {
   "cell_type": "code",
   "execution_count": 178,
   "metadata": {
    "collapsed": false
   },
   "outputs": [
    {
     "data": {
      "text/html": [
       "<table class=\"simpletable\">\n",
       "<caption>OLS Regression Results</caption>\n",
       "<tr>\n",
       "  <th>Dep. Variable:</th>          <td>Hi 10</td>      <th>  R-squared:         </th> <td>   0.993</td> \n",
       "</tr>\n",
       "<tr>\n",
       "  <th>Model:</th>                   <td>OLS</td>       <th>  Adj. R-squared:    </th> <td>   0.993</td> \n",
       "</tr>\n",
       "<tr>\n",
       "  <th>Method:</th>             <td>Least Squares</td>  <th>  F-statistic:       </th> <td>   3378.</td> \n",
       "</tr>\n",
       "<tr>\n",
       "  <th>Date:</th>             <td>Fri, 12 Jul 2019</td> <th>  Prob (F-statistic):</th> <td>4.22e-122</td>\n",
       "</tr>\n",
       "<tr>\n",
       "  <th>Time:</th>                 <td>17:52:15</td>     <th>  Log-Likelihood:    </th> <td> -22.575</td> \n",
       "</tr>\n",
       "<tr>\n",
       "  <th>No. Observations:</th>      <td>   120</td>      <th>  AIC:               </th> <td>   57.15</td> \n",
       "</tr>\n",
       "<tr>\n",
       "  <th>Df Residuals:</th>          <td>   114</td>      <th>  BIC:               </th> <td>   73.88</td> \n",
       "</tr>\n",
       "<tr>\n",
       "  <th>Df Model:</th>              <td>     5</td>      <th>                     </th>     <td> </td>    \n",
       "</tr>\n",
       "<tr>\n",
       "  <th>Covariance Type:</th>      <td>nonrobust</td>    <th>                     </th>     <td> </td>    \n",
       "</tr>\n",
       "</table>\n",
       "<table class=\"simpletable\">\n",
       "<tr>\n",
       "     <td></td>       <th>coef</th>     <th>std err</th>      <th>t</th>      <th>P>|t|</th>  <th>[0.025</th>    <th>0.975]</th>  \n",
       "</tr>\n",
       "<tr>\n",
       "  <th>const</th>  <td>   -0.0212</td> <td>    0.029</td> <td>   -0.721</td> <td> 0.472</td> <td>   -0.079</td> <td>    0.037</td>\n",
       "</tr>\n",
       "<tr>\n",
       "  <th>Mkt-RF</th> <td>    0.9922</td> <td>    0.008</td> <td>  122.715</td> <td> 0.000</td> <td>    0.976</td> <td>    1.008</td>\n",
       "</tr>\n",
       "<tr>\n",
       "  <th>SMB</th>    <td>   -0.2183</td> <td>    0.013</td> <td>  -16.562</td> <td> 0.000</td> <td>   -0.244</td> <td>   -0.192</td>\n",
       "</tr>\n",
       "<tr>\n",
       "  <th>HML</th>    <td>   -0.0022</td> <td>    0.016</td> <td>   -0.137</td> <td> 0.892</td> <td>   -0.034</td> <td>    0.029</td>\n",
       "</tr>\n",
       "<tr>\n",
       "  <th>RMW</th>    <td>    0.0268</td> <td>    0.020</td> <td>    1.314</td> <td> 0.192</td> <td>   -0.014</td> <td>    0.067</td>\n",
       "</tr>\n",
       "<tr>\n",
       "  <th>CMA</th>    <td>   -0.0122</td> <td>    0.025</td> <td>   -0.490</td> <td> 0.625</td> <td>   -0.061</td> <td>    0.037</td>\n",
       "</tr>\n",
       "</table>\n",
       "<table class=\"simpletable\">\n",
       "<tr>\n",
       "  <th>Omnibus:</th>       <td> 9.160</td> <th>  Durbin-Watson:     </th> <td>   1.679</td>\n",
       "</tr>\n",
       "<tr>\n",
       "  <th>Prob(Omnibus):</th> <td> 0.010</td> <th>  Jarque-Bera (JB):  </th> <td>   9.061</td>\n",
       "</tr>\n",
       "<tr>\n",
       "  <th>Skew:</th>          <td> 0.648</td> <th>  Prob(JB):          </th> <td>  0.0108</td>\n",
       "</tr>\n",
       "<tr>\n",
       "  <th>Kurtosis:</th>      <td> 3.362</td> <th>  Cond. No.          </th> <td>    4.66</td>\n",
       "</tr>\n",
       "</table><br/><br/>Warnings:<br/>[1] Standard Errors assume that the covariance matrix of the errors is correctly specified."
      ],
      "text/plain": [
       "<class 'statsmodels.iolib.summary.Summary'>\n",
       "\"\"\"\n",
       "                            OLS Regression Results                            \n",
       "==============================================================================\n",
       "Dep. Variable:                  Hi 10   R-squared:                       0.993\n",
       "Model:                            OLS   Adj. R-squared:                  0.993\n",
       "Method:                 Least Squares   F-statistic:                     3378.\n",
       "Date:                Fri, 12 Jul 2019   Prob (F-statistic):          4.22e-122\n",
       "Time:                        17:52:15   Log-Likelihood:                -22.575\n",
       "No. Observations:                 120   AIC:                             57.15\n",
       "Df Residuals:                     114   BIC:                             73.88\n",
       "Df Model:                           5                                         \n",
       "Covariance Type:            nonrobust                                         \n",
       "==============================================================================\n",
       "                 coef    std err          t      P>|t|      [0.025      0.975]\n",
       "------------------------------------------------------------------------------\n",
       "const         -0.0212      0.029     -0.721      0.472      -0.079       0.037\n",
       "Mkt-RF         0.9922      0.008    122.715      0.000       0.976       1.008\n",
       "SMB           -0.2183      0.013    -16.562      0.000      -0.244      -0.192\n",
       "HML           -0.0022      0.016     -0.137      0.892      -0.034       0.029\n",
       "RMW            0.0268      0.020      1.314      0.192      -0.014       0.067\n",
       "CMA           -0.0122      0.025     -0.490      0.625      -0.061       0.037\n",
       "==============================================================================\n",
       "Omnibus:                        9.160   Durbin-Watson:                   1.679\n",
       "Prob(Omnibus):                  0.010   Jarque-Bera (JB):                9.061\n",
       "Skew:                           0.648   Prob(JB):                       0.0108\n",
       "Kurtosis:                       3.362   Cond. No.                         4.66\n",
       "==============================================================================\n",
       "\n",
       "Warnings:\n",
       "[1] Standard Errors assume that the covariance matrix of the errors is correctly specified.\n",
       "\"\"\""
      ]
     },
     "execution_count": 178,
     "metadata": {},
     "output_type": "execute_result"
    }
   ],
   "source": [
    "reg.fit().summary()"
   ]
  },
  {
   "cell_type": "code",
   "execution_count": 104,
   "metadata": {
    "collapsed": false
   },
   "outputs": [
    {
     "data": {
      "text/html": [
       "<table class=\"simpletable\">\n",
       "<caption>OLS Regression Results</caption>\n",
       "<tr>\n",
       "  <th>Dep. Variable:</th>          <td>Lo 30</td>      <th>  R-squared:         </th> <td>   0.980</td> \n",
       "</tr>\n",
       "<tr>\n",
       "  <th>Model:</th>                   <td>OLS</td>       <th>  Adj. R-squared:    </th> <td>   0.980</td> \n",
       "</tr>\n",
       "<tr>\n",
       "  <th>Method:</th>             <td>Least Squares</td>  <th>  F-statistic:       </th> <td>1.944e+04</td>\n",
       "</tr>\n",
       "<tr>\n",
       "  <th>Date:</th>             <td>Thu, 11 Jul 2019</td> <th>  Prob (F-statistic):</th>  <td>  0.00</td>  \n",
       "</tr>\n",
       "<tr>\n",
       "  <th>Time:</th>                 <td>11:12:44</td>     <th>  Log-Likelihood:    </th> <td>  1430.2</td> \n",
       "</tr>\n",
       "<tr>\n",
       "  <th>No. Observations:</th>      <td>  2000</td>      <th>  AIC:               </th> <td>  -2848.</td> \n",
       "</tr>\n",
       "<tr>\n",
       "  <th>Df Residuals:</th>          <td>  1994</td>      <th>  BIC:               </th> <td>  -2815.</td> \n",
       "</tr>\n",
       "<tr>\n",
       "  <th>Df Model:</th>              <td>     5</td>      <th>                     </th>     <td> </td>    \n",
       "</tr>\n",
       "<tr>\n",
       "  <th>Covariance Type:</th>      <td>nonrobust</td>    <th>                     </th>     <td> </td>    \n",
       "</tr>\n",
       "</table>\n",
       "<table class=\"simpletable\">\n",
       "<tr>\n",
       "     <td></td>       <th>coef</th>     <th>std err</th>      <th>t</th>      <th>P>|t|</th>  <th>[0.025</th>    <th>0.975]</th>  \n",
       "</tr>\n",
       "<tr>\n",
       "  <th>const</th>  <td>   -0.0004</td> <td>    0.003</td> <td>   -0.161</td> <td> 0.872</td> <td>   -0.006</td> <td>    0.005</td>\n",
       "</tr>\n",
       "<tr>\n",
       "  <th>Mkt-RF</th> <td>    1.0207</td> <td>    0.005</td> <td>  190.572</td> <td> 0.000</td> <td>    1.010</td> <td>    1.031</td>\n",
       "</tr>\n",
       "<tr>\n",
       "  <th>SMB</th>    <td>    1.0280</td> <td>    0.008</td> <td>  121.906</td> <td> 0.000</td> <td>    1.011</td> <td>    1.045</td>\n",
       "</tr>\n",
       "<tr>\n",
       "  <th>HML</th>    <td>    0.0127</td> <td>    0.011</td> <td>    1.175</td> <td> 0.240</td> <td>   -0.008</td> <td>    0.034</td>\n",
       "</tr>\n",
       "<tr>\n",
       "  <th>RMW</th>    <td>   -0.1442</td> <td>    0.012</td> <td>  -11.776</td> <td> 0.000</td> <td>   -0.168</td> <td>   -0.120</td>\n",
       "</tr>\n",
       "<tr>\n",
       "  <th>CMA</th>    <td>   -0.0044</td> <td>    0.012</td> <td>   -0.378</td> <td> 0.706</td> <td>   -0.027</td> <td>    0.018</td>\n",
       "</tr>\n",
       "</table>\n",
       "<table class=\"simpletable\">\n",
       "<tr>\n",
       "  <th>Omnibus:</th>       <td>44.752</td> <th>  Durbin-Watson:     </th> <td>   1.846</td>\n",
       "</tr>\n",
       "<tr>\n",
       "  <th>Prob(Omnibus):</th> <td> 0.000</td> <th>  Jarque-Bera (JB):  </th> <td>  82.984</td>\n",
       "</tr>\n",
       "<tr>\n",
       "  <th>Skew:</th>          <td> 0.144</td> <th>  Prob(JB):          </th> <td>9.56e-19</td>\n",
       "</tr>\n",
       "<tr>\n",
       "  <th>Kurtosis:</th>      <td> 3.955</td> <th>  Cond. No.          </th> <td>    5.23</td>\n",
       "</tr>\n",
       "</table><br/><br/>Warnings:<br/>[1] Standard Errors assume that the covariance matrix of the errors is correctly specified."
      ],
      "text/plain": [
       "<class 'statsmodels.iolib.summary.Summary'>\n",
       "\"\"\"\n",
       "                            OLS Regression Results                            \n",
       "==============================================================================\n",
       "Dep. Variable:                  Lo 30   R-squared:                       0.980\n",
       "Model:                            OLS   Adj. R-squared:                  0.980\n",
       "Method:                 Least Squares   F-statistic:                 1.944e+04\n",
       "Date:                Thu, 11 Jul 2019   Prob (F-statistic):               0.00\n",
       "Time:                        11:12:44   Log-Likelihood:                 1430.2\n",
       "No. Observations:                2000   AIC:                            -2848.\n",
       "Df Residuals:                    1994   BIC:                            -2815.\n",
       "Df Model:                           5                                         \n",
       "Covariance Type:            nonrobust                                         \n",
       "==============================================================================\n",
       "                 coef    std err          t      P>|t|      [0.025      0.975]\n",
       "------------------------------------------------------------------------------\n",
       "const         -0.0004      0.003     -0.161      0.872      -0.006       0.005\n",
       "Mkt-RF         1.0207      0.005    190.572      0.000       1.010       1.031\n",
       "SMB            1.0280      0.008    121.906      0.000       1.011       1.045\n",
       "HML            0.0127      0.011      1.175      0.240      -0.008       0.034\n",
       "RMW           -0.1442      0.012    -11.776      0.000      -0.168      -0.120\n",
       "CMA           -0.0044      0.012     -0.378      0.706      -0.027       0.018\n",
       "==============================================================================\n",
       "Omnibus:                       44.752   Durbin-Watson:                   1.846\n",
       "Prob(Omnibus):                  0.000   Jarque-Bera (JB):               82.984\n",
       "Skew:                           0.144   Prob(JB):                     9.56e-19\n",
       "Kurtosis:                       3.955   Cond. No.                         5.23\n",
       "==============================================================================\n",
       "\n",
       "Warnings:\n",
       "[1] Standard Errors assume that the covariance matrix of the errors is correctly specified.\n",
       "\"\"\""
      ]
     },
     "execution_count": 104,
     "metadata": {},
     "output_type": "execute_result"
    }
   ],
   "source": []
  },
  {
   "cell_type": "code",
   "execution_count": 84,
   "metadata": {
    "collapsed": false
   },
   "outputs": [
    {
     "data": {
      "text/plain": [
       "(14079, 3)"
      ]
     },
     "execution_count": 84,
     "metadata": {},
     "output_type": "execute_result"
    }
   ],
   "source": [
    "pf_3.shape"
   ]
  },
  {
   "cell_type": "code",
   "execution_count": 83,
   "metadata": {
    "collapsed": false
   },
   "outputs": [
    {
     "data": {
      "text/plain": [
       "(14075, 5)"
      ]
     },
     "execution_count": 83,
     "metadata": {},
     "output_type": "execute_result"
    }
   ],
   "source": [
    "ff5.shape"
   ]
  },
  {
   "cell_type": "code",
   "execution_count": 76,
   "metadata": {
    "collapsed": false
   },
   "outputs": [
    {
     "data": {
      "text/plain": [
       "(126, 3)"
      ]
     },
     "execution_count": 76,
     "metadata": {},
     "output_type": "execute_result"
    }
   ],
   "source": [
    "y.shape"
   ]
  },
  {
   "cell_type": "code",
   "execution_count": 75,
   "metadata": {
    "collapsed": false
   },
   "outputs": [
    {
     "data": {
      "text/plain": [
       "(126, 6)"
      ]
     },
     "execution_count": 75,
     "metadata": {},
     "output_type": "execute_result"
    }
   ],
   "source": [
    "x.shape"
   ]
  },
  {
   "cell_type": "code",
   "execution_count": 70,
   "metadata": {
    "collapsed": false
   },
   "outputs": [],
   "source": [
    "ret = reg.fit()"
   ]
  },
  {
   "cell_type": "code",
   "execution_count": null,
   "metadata": {
    "collapsed": false
   },
   "outputs": [],
   "source": [
    "ret.summary()"
   ]
  },
  {
   "cell_type": "code",
   "execution_count": 54,
   "metadata": {
    "collapsed": false
   },
   "outputs": [],
   "source": [
    "t1 = time.time()"
   ]
  },
  {
   "cell_type": "code",
   "execution_count": 57,
   "metadata": {
    "collapsed": false
   },
   "outputs": [
    {
     "data": {
      "text/plain": [
       "pandas._libs.tslibs.timestamps.Timestamp"
      ]
     },
     "execution_count": 57,
     "metadata": {},
     "output_type": "execute_result"
    }
   ],
   "source": [
    "type(t0)"
   ]
  },
  {
   "cell_type": "code",
   "execution_count": 48,
   "metadata": {
    "collapsed": false
   },
   "outputs": [
    {
     "data": {
      "text/plain": [
       "Timestamp('2018-11-28 00:00:00')"
      ]
     },
     "execution_count": 48,
     "metadata": {},
     "output_type": "execute_result"
    }
   ],
   "source": [
    "t0"
   ]
  },
  {
   "cell_type": "code",
   "execution_count": 47,
   "metadata": {
    "collapsed": false
   },
   "outputs": [
    {
     "data": {
      "text/plain": [
       "41850"
      ]
     },
     "execution_count": 47,
     "metadata": {},
     "output_type": "execute_result"
    }
   ],
   "source": [
    "len(models_3_pf)"
   ]
  },
  {
   "cell_type": "code",
   "execution_count": null,
   "metadata": {
    "collapsed": false
   },
   "outputs": [],
   "source": []
  },
  {
   "cell_type": "code",
   "execution_count": 12,
   "metadata": {
    "collapsed": false
   },
   "outputs": [
    {
     "name": "stdout",
     "output_type": "stream",
     "text": [
      "                            OLS Regression Results                            \n",
      "==============================================================================\n",
      "Dep. Variable:                  Lo 30   R-squared:                       0.967\n",
      "Model:                            OLS   Adj. R-squared:                  0.966\n",
      "Method:                 Least Squares   F-statistic:                     701.9\n",
      "Date:                Thu, 11 Jul 2019   Prob (F-statistic):           4.98e-87\n",
      "Time:                        10:28:42   Log-Likelihood:                 113.16\n",
      "No. Observations:                 126   AIC:                            -214.3\n",
      "Df Residuals:                     120   BIC:                            -197.3\n",
      "Df Model:                           5                                         \n",
      "Covariance Type:            nonrobust                                         \n",
      "==============================================================================\n",
      "                 coef    std err          t      P>|t|      [0.025      0.975]\n",
      "------------------------------------------------------------------------------\n",
      "const         -0.0204      0.009     -2.222      0.028      -0.039      -0.002\n",
      "Mkt-RF         0.9331      0.020     46.120      0.000       0.893       0.973\n",
      "SMB            0.9752      0.039     24.763      0.000       0.897       1.053\n",
      "HML            0.1863      0.048      3.902      0.000       0.092       0.281\n",
      "RMW            0.0626      0.055      1.138      0.258      -0.046       0.171\n",
      "CMA            0.0054      0.045      0.119      0.905      -0.085       0.095\n",
      "==============================================================================\n",
      "Omnibus:                        0.677   Durbin-Watson:                   1.924\n",
      "Prob(Omnibus):                  0.713   Jarque-Bera (JB):                0.804\n",
      "Skew:                          -0.109   Prob(JB):                        0.669\n",
      "Kurtosis:                       2.675   Cond. No.                         7.23\n",
      "==============================================================================\n",
      "\n",
      "Warnings:\n",
      "[1] Standard Errors assume that the covariance matrix of the errors is correctly specified.\n"
     ]
    }
   ],
   "source": [
    "print(models_3_pf[0].summary())"
   ]
  },
  {
   "cell_type": "code",
   "execution_count": 19,
   "metadata": {
    "collapsed": false
   },
   "outputs": [
    {
     "name": "stdout",
     "output_type": "stream",
     "text": [
      "126\n",
      "13950\n",
      "Index(['Lo 30', 'Med 40', 'Hi 30'], dtype='object')\n"
     ]
    }
   ],
   "source": [
    "print(window)\n",
    "window_nm = []\n",
    "for i in range(n_window):\n",
    "    nm = ff5.index[i+int(window/2)]\n",
    "    window_nm.append(nm)\n",
    "print(len(window_nm))\n",
    "portfolio_nm_3 = pf_size_excess.columns[1:4]\n",
    "print(portfolio_nm_3)"
   ]
  },
  {
   "cell_type": "code",
   "execution_count": 25,
   "metadata": {
    "collapsed": false
   },
   "outputs": [],
   "source": [
    "Rsquare_3_pf = {}\n",
    "for i in range(3):\n",
    "    x = []\n",
    "    for n in range(n_window):  \n",
    "        x.append(models_3_pf[i*n_window +n].rsquared) \n",
    "    Rsquare_3_pf[\"Portfoio{0}\".format(i)] = pd.Series(x,index = window_nm)"
   ]
  },
  {
   "cell_type": "code",
   "execution_count": 107,
   "metadata": {
    "collapsed": false
   },
   "outputs": [],
   "source": []
  },
  {
   "cell_type": "code",
   "execution_count": 17,
   "metadata": {
    "collapsed": false
   },
   "outputs": [
    {
     "name": "stderr",
     "output_type": "stream",
     "text": [
      "  0%|          | 14/13950 [00:00<01:42, 136.44it/s]"
     ]
    },
    {
     "name": "stdout",
     "output_type": "stream",
     "text": [
      "part 1/5\n"
     ]
    },
    {
     "name": "stderr",
     "output_type": "stream",
     "text": [
      "100%|██████████| 13950/13950 [00:59<00:00, 232.66it/s]\n",
      "  0%|          | 27/13950 [00:00<00:53, 262.64it/s]"
     ]
    },
    {
     "name": "stdout",
     "output_type": "stream",
     "text": [
      "part 2/5\n"
     ]
    },
    {
     "name": "stderr",
     "output_type": "stream",
     "text": [
      "100%|██████████| 13950/13950 [01:00<00:00, 230.94it/s]\n",
      "  0%|          | 26/13950 [00:00<00:55, 252.81it/s]"
     ]
    },
    {
     "name": "stdout",
     "output_type": "stream",
     "text": [
      "part 3/5\n"
     ]
    },
    {
     "name": "stderr",
     "output_type": "stream",
     "text": [
      "100%|██████████| 13950/13950 [00:59<00:00, 232.54it/s]\n",
      "  0%|          | 20/13950 [00:00<01:10, 198.21it/s]"
     ]
    },
    {
     "name": "stdout",
     "output_type": "stream",
     "text": [
      "part 4/5\n"
     ]
    },
    {
     "name": "stderr",
     "output_type": "stream",
     "text": [
      "100%|██████████| 13950/13950 [01:02<00:00, 223.03it/s]\n",
      "  0%|          | 14/13950 [00:00<01:40, 139.34it/s]"
     ]
    },
    {
     "name": "stdout",
     "output_type": "stream",
     "text": [
      "part 5/5\n"
     ]
    },
    {
     "name": "stderr",
     "output_type": "stream",
     "text": [
      "100%|██████████| 13950/13950 [00:56<00:00, 248.06it/s]"
     ]
    },
    {
     "name": "stdout",
     "output_type": "stream",
     "text": [
      "299.1550078392029\n"
     ]
    },
    {
     "name": "stderr",
     "output_type": "stream",
     "text": [
      "\n"
     ]
    }
   ],
   "source": [
    "start_ = time.time()\n",
    "pf_5 = pf_size_excess.loc[:,['Lo 20', 'Qnt 2', 'Qnt 3', 'Qnt 4', 'Hi 20']]\n",
    "models_5_pf = []\n",
    "for i in range (5):\n",
    "    print('part {}/5'.format(i+1))\n",
    "    for m in tqdm(range(n_window)):\n",
    "        \n",
    "        t0 = ff5.index[0+m]\n",
    "        if ff5.index[0+m+window-1] < end:\n",
    "            t1 = ff5.index[0+m+window-1]\n",
    "        else:\n",
    "            t1 = end\n",
    "        \n",
    "        x = ff5[t0:t1]\n",
    "        x = sm.add_constant(x)\n",
    "        y = pf_5[t0:t1]\n",
    "        reg = sm.OLS(y.iloc[:,i], x)   \n",
    "        models_5_pf.append(reg.fit())\n",
    "print(time.time()-start_)"
   ]
  },
  {
   "cell_type": "code",
   "execution_count": 24,
   "metadata": {
    "collapsed": false
   },
   "outputs": [],
   "source": [
    "Rsquare_5_pf = {}\n",
    "for i in range(5):\n",
    "    x = []\n",
    "    for n in range(n_window):  \n",
    "        x.append(models_5_pf[i*n_window +n].rsquared) \n",
    "    Rsquare_5_pf[\"Portfoio{0}\".format(i)] = pd.Series(x,index = window_nm)"
   ]
  },
  {
   "cell_type": "code",
   "execution_count": 21,
   "metadata": {
    "collapsed": false
   },
   "outputs": [
    {
     "name": "stderr",
     "output_type": "stream",
     "text": [
      "  0%|          | 17/13950 [00:00<01:23, 166.44it/s]"
     ]
    },
    {
     "name": "stdout",
     "output_type": "stream",
     "text": [
      "part 1/10\n"
     ]
    },
    {
     "name": "stderr",
     "output_type": "stream",
     "text": [
      "100%|██████████| 13950/13950 [01:00<00:00, 230.05it/s]\n",
      "  0%|          | 27/13950 [00:00<00:52, 262.88it/s]"
     ]
    },
    {
     "name": "stdout",
     "output_type": "stream",
     "text": [
      "part 2/10\n"
     ]
    },
    {
     "name": "stderr",
     "output_type": "stream",
     "text": [
      "100%|██████████| 13950/13950 [00:55<00:00, 250.70it/s]\n",
      "  0%|          | 27/13950 [00:00<00:53, 261.96it/s]"
     ]
    },
    {
     "name": "stdout",
     "output_type": "stream",
     "text": [
      "part 3/10\n"
     ]
    },
    {
     "name": "stderr",
     "output_type": "stream",
     "text": [
      "100%|██████████| 13950/13950 [01:03<00:00, 220.33it/s]\n",
      "  0%|          | 26/13950 [00:00<00:55, 251.13it/s]"
     ]
    },
    {
     "name": "stdout",
     "output_type": "stream",
     "text": [
      "part 4/10\n"
     ]
    },
    {
     "name": "stderr",
     "output_type": "stream",
     "text": [
      "100%|██████████| 13950/13950 [00:57<00:00, 241.44it/s]\n",
      "  0%|          | 15/13950 [00:00<01:34, 147.81it/s]"
     ]
    },
    {
     "name": "stdout",
     "output_type": "stream",
     "text": [
      "part 5/10\n"
     ]
    },
    {
     "name": "stderr",
     "output_type": "stream",
     "text": [
      "100%|██████████| 13950/13950 [00:58<00:00, 240.02it/s]\n",
      "  0%|          | 26/13950 [00:00<00:54, 257.75it/s]"
     ]
    },
    {
     "name": "stdout",
     "output_type": "stream",
     "text": [
      "part 6/10\n"
     ]
    },
    {
     "name": "stderr",
     "output_type": "stream",
     "text": [
      "100%|██████████| 13950/13950 [01:00<00:00, 230.02it/s]\n",
      "  0%|          | 26/13950 [00:00<00:54, 255.90it/s]"
     ]
    },
    {
     "name": "stdout",
     "output_type": "stream",
     "text": [
      "part 7/10\n"
     ]
    },
    {
     "name": "stderr",
     "output_type": "stream",
     "text": [
      "100%|██████████| 13950/13950 [01:00<00:00, 230.13it/s]\n",
      "  0%|          | 14/13950 [00:00<01:41, 136.75it/s]"
     ]
    },
    {
     "name": "stdout",
     "output_type": "stream",
     "text": [
      "part 8/10\n"
     ]
    },
    {
     "name": "stderr",
     "output_type": "stream",
     "text": [
      "100%|██████████| 13950/13950 [01:12<00:00, 191.63it/s]\n",
      "  0%|          | 14/13950 [00:00<01:40, 138.14it/s]"
     ]
    },
    {
     "name": "stdout",
     "output_type": "stream",
     "text": [
      "part 9/10\n"
     ]
    },
    {
     "name": "stderr",
     "output_type": "stream",
     "text": [
      "100%|██████████| 13950/13950 [01:17<00:00, 179.58it/s]\n",
      "  0%|          | 13/13950 [00:00<01:48, 128.18it/s]"
     ]
    },
    {
     "name": "stdout",
     "output_type": "stream",
     "text": [
      "part 10/10\n"
     ]
    },
    {
     "name": "stderr",
     "output_type": "stream",
     "text": [
      "100%|██████████| 13950/13950 [01:06<00:00, 208.76it/s]"
     ]
    },
    {
     "name": "stdout",
     "output_type": "stream",
     "text": [
      "634.0860238075256\n"
     ]
    },
    {
     "name": "stderr",
     "output_type": "stream",
     "text": [
      "\n"
     ]
    }
   ],
   "source": [
    "start_ = time.time()\n",
    "\n",
    "pf_10 = pf_size_excess.loc[:,['Lo 10', '2-Dec', '3-Dec','4-Dec', '5-Dec', '6-Dec', '7-Dec', '8-Dec','9-Dec', 'Hi 10']]\n",
    "models_10_pf = []\n",
    "for i in range (10):\n",
    "    print('part {}/10'.format(i+1))\n",
    "    for m in tqdm(range(n_window)):\n",
    "        \n",
    "        t0 = ff5.index[0+m]\n",
    "        if ff5.index[0+m+window-1] < end:\n",
    "            t1 = ff5.index[0+m+window-1]\n",
    "        else:\n",
    "            t1 = end\n",
    "        \n",
    "        x = ff5[t0:t1]\n",
    "        x = sm.add_constant(x)\n",
    "        y = pf_10[t0:t1]\n",
    "        reg = sm.OLS(y.iloc[:,i], x)   \n",
    "        models_10_pf.append(reg.fit())\n",
    "print(time.time()-start_)"
   ]
  },
  {
   "cell_type": "code",
   "execution_count": 22,
   "metadata": {
    "collapsed": true
   },
   "outputs": [],
   "source": [
    "Rsquare_10_pf = {}\n",
    "for i in range(10):\n",
    "    x = []\n",
    "    for n in range(n_window):  \n",
    "        x.append(models_10_pf[i*n_window +n].rsquared) \n",
    "    Rsquare_10_pf[\"Portfoio{0}\".format(i)] = pd.Series(x,index = window_nm)"
   ]
  },
  {
   "cell_type": "code",
   "execution_count": 26,
   "metadata": {
    "collapsed": false,
    "scrolled": true
   },
   "outputs": [
    {
     "name": "stderr",
     "output_type": "stream",
     "text": [
      "/home/whan/miniconda3/envs/eqai/lib/python3.5/site-packages/pandas/plotting/_converter.py:129: FutureWarning: Using an implicitly registered datetime converter for a matplotlib plotting method. The converter was registered by pandas on import. Future versions of pandas will require you to explicitly register matplotlib converters.\n",
      "\n",
      "To register the converters:\n",
      "\t>>> from pandas.plotting import register_matplotlib_converters\n",
      "\t>>> register_matplotlib_converters()\n",
      "  warnings.warn(msg, FutureWarning)\n"
     ]
    },
    {
     "data": {
      "image/png": "[encoded data removed]",
      "text/plain": [
       "<Figure size 1440x320 with 3 Axes>"
      ]
     },
     "metadata": {},
     "output_type": "display_data"
    }
   ],
   "source": [
    "fig=plt.figure(figsize=(18, 4), dpi= 80, facecolor='w', edgecolor='k')\n",
    "plt.subplot(1, 3, 1)\n",
    "plt.plot(Rsquare_3_pf['Portfoio0'],label=\"Lo 30\",alpha=0.8)\n",
    "plt.plot(Rsquare_3_pf['Portfoio1'],label=\"Med 40\",alpha=0.8)\n",
    "plt.plot(Rsquare_3_pf['Portfoio2'],label=\"Hi 30\",alpha=0.8)\n",
    "plt.legend(loc='lower right')\n",
    "plt.ylim([0.48,1.02])\n",
    "plt.title('R-squared of 3 Size Portfolios with Daily Returns')\n",
    "plt.xlabel('Year')\n",
    "plt.ylabel('R-Squared')\n",
    "\n",
    "plt.subplot(1, 3, 2)\n",
    "plt.plot(Rsquare_5_pf['Portfoio0'],label=\"Lo 20\",alpha=0.8)\n",
    "plt.plot(Rsquare_5_pf['Portfoio1'],label=\"Qnt 2\",alpha=0.8)\n",
    "plt.plot(Rsquare_5_pf['Portfoio2'],label=\"Qnt 3\",alpha=0.8)\n",
    "plt.plot(Rsquare_5_pf['Portfoio3'],label=\"Qnt 4\",alpha=0.8)\n",
    "plt.plot(Rsquare_5_pf['Portfoio4'],label=\"Hi 20\",alpha=0.8)\n",
    "plt.legend(loc='lower right')\n",
    "plt.ylim([0.48,1.02])\n",
    "plt.title('R-squared of 5 Size Portfolios with Daily Returns')\n",
    "plt.xlabel('Year')\n",
    "plt.ylabel('R-Squared')\n",
    "\n",
    "plt.subplot(1, 3, 3)\n",
    "plt.plot(Rsquare_10_pf['Portfoio0'],label=\"Lo 10\",alpha=0.8)\n",
    "plt.plot(Rsquare_10_pf['Portfoio1'],label=\"2-Dec\",alpha=0.8)\n",
    "plt.plot(Rsquare_10_pf['Portfoio2'],label=\"3-Dec\",alpha=0.8)\n",
    "plt.plot(Rsquare_10_pf['Portfoio3'],label=\"4-Dec\",alpha=0.8)\n",
    "plt.plot(Rsquare_10_pf['Portfoio4'],label=\"5-Dec\",alpha=0.8)\n",
    "plt.plot(Rsquare_10_pf['Portfoio5'],label=\"6-Dec\",alpha=0.8)\n",
    "plt.plot(Rsquare_10_pf['Portfoio6'],label=\"7-Dec\",alpha=0.8)\n",
    "plt.plot(Rsquare_10_pf['Portfoio7'],label=\"8-Dec\",alpha=0.8)\n",
    "plt.plot(Rsquare_10_pf['Portfoio8'],label=\"9-Dec\",alpha=0.8)\n",
    "plt.plot(Rsquare_10_pf['Portfoio9'],label=\"Hi 10\",alpha=0.8)\n",
    "plt.legend(loc='lower right')\n",
    "plt.ylim([0.48,1.02])\n",
    "plt.title('R-squared of 10 Size Portfolios with Daily Returns')\n",
    "plt.xlabel('Year')\n",
    "plt.ylabel('R-Squared')\n",
    "\n",
    "plt.show()\n"
   ]
  },
  {
   "cell_type": "code",
   "execution_count": null,
   "metadata": {
    "collapsed": true
   },
   "outputs": [],
   "source": [
    "####################  2. Regression with Monthly Return   ###################################"
   ]
  },
  {
   "cell_type": "code",
   "execution_count": 28,
   "metadata": {
    "collapsed": true
   },
   "outputs": [],
   "source": [
    "#pf_size_mm = pd.read_csv('C:/Users/yz2991/Desktop/Portfolios_Formed_on_ME_monthly.csv')\n",
    "#ff5_mm = pd.read_csv('C:/Users/yz2991/Desktop/F-F_Research_Data_5_Factors_2x3_monthly.csv')\n",
    "\n",
    "pf_size_mm = pd.read_csv('data/Portfolios_Formed_on_ME_monthly.csv')\n",
    "ff5_mm = pd.read_csv('data/F-F_Research_Data_5_Factors_2x3_monthly.csv')\n"
   ]
  },
  {
   "cell_type": "code",
   "execution_count": 29,
   "metadata": {
    "collapsed": false
   },
   "outputs": [
    {
     "name": "stdout",
     "output_type": "stream",
     "text": [
      "     Unnamed: 0   <= 0  Lo 30  Med 40  Hi 30  Lo 20  Qnt 2  Qnt 3  Qnt 4  \\\n",
      "666      201901 -99.99  10.35   12.28   8.02  10.16  10.74  12.33  11.18   \n",
      "667      201902 -99.99   5.82    5.68   3.30   5.93   5.46   5.29   4.84   \n",
      "668      201903 -99.99  -2.50   -1.41   1.75  -2.82  -2.42  -1.53   0.50   \n",
      "669      201904 -99.99   2.49    4.28   4.24   1.75   2.87   4.69   3.82   \n",
      "670      201905 -99.99  -7.50   -8.27  -6.58  -7.15  -8.94  -7.48  -7.00   \n",
      "\n",
      "     Hi 20  Lo 10  2-Dec  3-Dec  4-Dec  5-Dec  6-Dec  7-Dec  8-Dec  9-Dec  \\\n",
      "666   7.82  10.59   9.88  10.55  10.89  12.91  11.85  12.74  10.27  10.24   \n",
      "667   3.24   5.33   6.33   5.71   5.26   4.63   5.84   6.29   3.99   5.16   \n",
      "668   1.78  -2.98  -2.71  -2.16  -2.63  -2.31  -0.88  -0.82   1.30   0.49   \n",
      "669   4.31   1.26   2.08   3.24   2.55   4.19   5.10   4.46   3.45   4.08   \n",
      "670  -6.62  -6.47  -7.60  -7.86  -9.87  -8.10  -6.97  -8.58  -6.07  -6.16   \n",
      "\n",
      "     Hi 10  \n",
      "666   7.40  \n",
      "667   2.89  \n",
      "668   2.03  \n",
      "669   4.35  \n",
      "670  -6.70  \n"
     ]
    }
   ],
   "source": [
    "print(pf_size_mm.tail())"
   ]
  },
  {
   "cell_type": "code",
   "execution_count": 30,
   "metadata": {
    "collapsed": false
   },
   "outputs": [],
   "source": [
    "pf_size_mm.rename(columns = {'Unnamed: 0': 'YYMM'}, inplace = True)\n",
    "ff5_mm.rename(columns = {'Unnamed: 0': 'YYMM'}, inplace = True)"
   ]
  },
  {
   "cell_type": "code",
   "execution_count": 31,
   "metadata": {
    "collapsed": true
   },
   "outputs": [],
   "source": [
    "pf_size_excess_mm=(pf_size_mm.iloc[:,1:pf_size_mm.shape[1]]).sub(ff5_mm.RF,axis=0)"
   ]
  },
  {
   "cell_type": "code",
   "execution_count": 32,
   "metadata": {
    "collapsed": false
   },
   "outputs": [],
   "source": [
    "ff5_mm['YYMM'] = pd.to_datetime(ff5_mm['YYMM'],yearfirst=True, format='%Y%m')\n",
    "pf_size_excess_mm['YYMM'] = pd.to_datetime(pf_size_mm['YYMM'],yearfirst=True, format='%Y%m')"
   ]
  },
  {
   "cell_type": "code",
   "execution_count": 33,
   "metadata": {
    "collapsed": false
   },
   "outputs": [
    {
     "name": "stdout",
     "output_type": "stream",
     "text": [
      "       <= 0  Lo 30  Med 40  Hi 30  Lo 20  Qnt 2  Qnt 3  Qnt 4  Hi 20  Lo 10  \\\n",
      "666 -100.20  10.14   12.07   7.81   9.95  10.53  12.12  10.97   7.61  10.38   \n",
      "667 -100.17   5.64    5.50   3.12   5.75   5.28   5.11   4.66   3.06   5.15   \n",
      "668 -100.18  -2.69   -1.60   1.56  -3.01  -2.61  -1.72   0.31   1.59  -3.17   \n",
      "669 -100.20   2.28    4.07   4.03   1.54   2.66   4.48   3.61   4.10   1.05   \n",
      "670 -100.20  -7.71   -8.48  -6.79  -7.36  -9.15  -7.69  -7.21  -6.83  -6.68   \n",
      "\n",
      "     2-Dec  3-Dec  4-Dec  5-Dec  6-Dec  7-Dec  8-Dec  9-Dec  Hi 10       YYMM  \n",
      "666   9.67  10.34  10.68  12.70  11.64  12.53  10.06  10.03   7.19 2019-01-01  \n",
      "667   6.15   5.53   5.08   4.45   5.66   6.11   3.81   4.98   2.71 2019-02-01  \n",
      "668  -2.90  -2.35  -2.82  -2.50  -1.07  -1.01   1.11   0.30   1.84 2019-03-01  \n",
      "669   1.87   3.03   2.34   3.98   4.89   4.25   3.24   3.87   4.14 2019-04-01  \n",
      "670  -7.81  -8.07 -10.08  -8.31  -7.18  -8.79  -6.28  -6.37  -6.91 2019-05-01  \n"
     ]
    }
   ],
   "source": [
    "print(pf_size_excess_mm.tail())"
   ]
  },
  {
   "cell_type": "code",
   "execution_count": 34,
   "metadata": {
    "collapsed": true
   },
   "outputs": [],
   "source": [
    "ff5_mm.index = ff5_mm['YYMM']\n",
    "pf_size_excess_mm.index = pf_size_excess_mm['YYMM']\n",
    "ff5_mm = ff5_mm.drop('YYMM', axis = 1)\n",
    "ff5_mm = ff5_mm.drop('RF', axis = 1)"
   ]
  },
  {
   "cell_type": "code",
   "execution_count": 163,
   "metadata": {
    "collapsed": false
   },
   "outputs": [
    {
     "name": "stdout",
     "output_type": "stream",
     "text": [
      "671\n",
      "552\n",
      "2019-05-01 00:00:00\n"
     ]
    }
   ],
   "source": [
    "#use 10 year window (number of obs will be close to daily models with half-year window)\n",
    "start_mm = ff5_mm.index[0]\n",
    "end_mm = ff5_mm.index[ff5_mm.shape[0]-1]\n",
    "n_month = end_mm - start_mm\n",
    "print(ff5_mm.shape[0])\n",
    "window_mm = 120\n",
    "n_window_mm = ff5_mm.shape[0] - window_mm + 1\n",
    "print(n_window_mm)\n",
    "print(end_mm)"
   ]
  },
  {
   "cell_type": "code",
   "execution_count": 164,
   "metadata": {
    "collapsed": false
   },
   "outputs": [
    {
     "name": "stdout",
     "output_type": "stream",
     "text": [
      "120\n",
      "552\n",
      "Index(['Lo 30', 'Med 40', 'Hi 30'], dtype='object')\n"
     ]
    }
   ],
   "source": [
    "print(window_mm)\n",
    "window_nm_month = []\n",
    "for i in range(n_window_mm):\n",
    "    nm = ff5_mm.index[i+int(window_mm/2)]\n",
    "    window_nm_month.append(nm)\n",
    "print(len(window_nm_month))\n",
    "portfolio_nm_3 = pf_size_excess.columns[1:4]\n",
    "print(portfolio_nm_3)"
   ]
  },
  {
   "cell_type": "code",
   "execution_count": 37,
   "metadata": {
    "collapsed": false
   },
   "outputs": [],
   "source": [
    "#To run OLS on a 120-month rolling window basis. The logic of this loop is to run the rolling window regressions \\n\",\n",
    "#for each of the 3 portfolios. That is, the first 552 models are for the portfolio Lo 30,\\n\",\n",
    "#the next 552 models are for the portfolio Med 40\\n\",\n",
    "pf_3_mm = pf_size_excess_mm.loc[:,['Lo 30','Med 40','Hi 30']]\n",
    "models_3_pf_mm = []\n",
    "for i in range (3):\n",
    "    for m in range(n_window_mm):\n",
    "        \n",
    "        t0 = ff5_mm.index[0+m]\n",
    "        if ff5_mm.index[0+m+window_mm-1] < end_mm:\n",
    "            t1 = ff5_mm.index[0+m+window_mm-1]\n",
    "        else:\n",
    "            t1 = end_mm\n",
    "        \n",
    "        x = ff5_mm[t0:t1]\n",
    "        x = sm.add_constant(x)\n",
    "        y = pf_3_mm[t0:t1]\n",
    "        reg = sm.OLS(y.iloc[:,i], x)   \n",
    "        models_3_pf_mm.append(reg.fit())\n",
    "    "
   ]
  },
  {
   "cell_type": "code",
   "execution_count": 65,
   "metadata": {
    "collapsed": true
   },
   "outputs": [],
   "source": [
    "Rsquare_3_pf_mm = {}\n",
    "for i in range(3):\n",
    "    x = []\n",
    "    for n in range(n_window_mm):  \n",
    "        x.append(models_3_pf_mm[i*n_window_mm +n].rsquared) \n",
    "    Rsquare_3_pf_mm[\"Portfoio{0}\".format(i)] = pd.Series(x,index = window_nm_month)"
   ]
  },
  {
   "cell_type": "code",
   "execution_count": 66,
   "metadata": {
    "collapsed": true
   },
   "outputs": [],
   "source": [
    "#To run OLS on a 120-month rolling window basis. The logic of this loop is to run the rolling window regressions \\n\",\n",
    "#for each of the 3 portfolios. That is, the first 552 models are for the portfolio Lo 30,\\n\",\n",
    "#the next 552 models are for the portfolio Med 40\\n\",\n",
    "pf_5_mm = pf_size_excess_mm.loc[:,['Lo 20', 'Qnt 2', 'Qnt 3', 'Qnt 4', 'Hi 20']]\n",
    "models_5_pf_mm = []\n",
    "for i in range (5):\n",
    "    for m in range(n_window_mm):\n",
    "        \n",
    "        t0 = ff5_mm.index[0+m]\n",
    "        if ff5_mm.index[0+m+window_mm-1] < end_mm:\n",
    "            t1 = ff5_mm.index[0+m+window_mm-1]\n",
    "        else:\n",
    "            t1 = end_mm\n",
    "        \n",
    "        x = ff5_mm[t0:t1]\n",
    "        x = sm.add_constant(x)\n",
    "        y = pf_5_mm[t0:t1]\n",
    "        reg = sm.OLS(y.iloc[:,i], x)   \n",
    "        models_5_pf_mm.append(reg.fit())"
   ]
  },
  {
   "cell_type": "code",
   "execution_count": 67,
   "metadata": {
    "collapsed": true
   },
   "outputs": [],
   "source": [
    "Rsquare_5_pf_mm = {}\n",
    "for i in range(5):\n",
    "    x = []\n",
    "    for n in range(n_window_mm):  \n",
    "        x.append(models_5_pf_mm[i*n_window_mm +n].rsquared) \n",
    "    Rsquare_5_pf_mm[\"Portfoio{0}\".format(i)] = pd.Series(x,index = window_nm_month)"
   ]
  },
  {
   "cell_type": "code",
   "execution_count": 68,
   "metadata": {
    "collapsed": true
   },
   "outputs": [],
   "source": [
    "#To run OLS on a 120-month rolling window basis. The logic of this loop is to run the rolling window regressions \\n\",\n",
    "#for each of the 3 portfolios. That is, the first 552 models are for the portfolio Lo 30,\\n\",\n",
    "#the next 552 models are for the portfolio Med 40\\n\",\n",
    "pf_10_mm = pf_size_excess_mm.loc[:,['Lo 10', '2-Dec', '3-Dec','4-Dec', '5-Dec', '6-Dec', '7-Dec', '8-Dec','9-Dec', 'Hi 10']]\n",
    "models_10_pf_mm = []\n",
    "for i in range (10):\n",
    "    for m in range(n_window_mm):\n",
    "        \n",
    "        t0 = ff5_mm.index[0+m]\n",
    "        if ff5_mm.index[0+m+window_mm-1] < end_mm:\n",
    "            t1 = ff5_mm.index[0+m+window_mm-1]\n",
    "        else:\n",
    "            t1 = end_mm\n",
    "        \n",
    "        x = ff5_mm[t0:t1]\n",
    "        x = sm.add_constant(x)\n",
    "        y = pf_10_mm[t0:t1]\n",
    "        reg = sm.OLS(y.iloc[:,i], x)   \n",
    "        models_10_pf_mm.append(reg.fit())"
   ]
  },
  {
   "cell_type": "code",
   "execution_count": 69,
   "metadata": {
    "collapsed": true
   },
   "outputs": [],
   "source": [
    "Rsquare_10_pf_mm = {}\n",
    "for i in range(10):\n",
    "    x = []\n",
    "    for n in range(n_window_mm):  \n",
    "        x.append(models_10_pf_mm[i*n_window_mm +n].rsquared) \n",
    "    Rsquare_10_pf_mm[\"Portfoio{0}\".format(i)] = pd.Series(x,index = window_nm_month)"
   ]
  },
  {
   "cell_type": "code",
   "execution_count": 69,
   "metadata": {
    "collapsed": true
   },
   "outputs": [],
   "source": []
  },
  {
   "cell_type": "code",
   "execution_count": 70,
   "metadata": {
    "collapsed": false
   },
   "outputs": [
    {
     "data": {
      "image/png": "[encoded data removed]",
      "text/plain": [
       "<Figure size 1440x320 with 3 Axes>"
      ]
     },
     "metadata": {},
     "output_type": "display_data"
    }
   ],
   "source": [
    "fig=plt.figure(figsize=(18, 4), dpi= 80, facecolor='w', edgecolor='k')\n",
    "plt.subplot(1, 3, 1)\n",
    "plt.plot(Rsquare_3_pf_mm['Portfoio0'],label=\"Lo 30\",alpha=0.8)\n",
    "plt.plot(Rsquare_3_pf_mm['Portfoio1'],label=\"Med 40\",alpha=0.8)\n",
    "plt.plot(Rsquare_3_pf_mm['Portfoio2'],label=\"Hi 30\",alpha=0.8)\n",
    "plt.legend(loc='lower right')\n",
    "plt.ylim([0.48,1.02])\n",
    "plt.xlim([\"1963\",\"2022\"])\n",
    "plt.title('R-squared of 3 Size Portfolios with Monthly Returns')\n",
    "plt.xlabel('Year')\n",
    "plt.ylabel('R-Squared')\n",
    "plt.xticks(rotation=90)\n",
    "\n",
    "plt.subplot(1, 3, 2)\n",
    "plt.plot(Rsquare_5_pf_mm['Portfoio0'],label=\"Lo 20\",alpha=0.8)\n",
    "plt.plot(Rsquare_5_pf_mm['Portfoio1'],label=\"Qnt 2\",alpha=0.8)\n",
    "plt.plot(Rsquare_5_pf_mm['Portfoio2'],label=\"Qnt 3\",alpha=0.8)\n",
    "plt.plot(Rsquare_5_pf_mm['Portfoio3'],label=\"Qnt 4\",alpha=0.8)\n",
    "plt.plot(Rsquare_5_pf_mm['Portfoio4'],label=\"Hi 20\",alpha=0.8)\n",
    "plt.legend(loc='lower right')\n",
    "plt.ylim([0.48,1.02])\n",
    "plt.title('R-squared of 5 Size Portfolios with Monthly Returns')\n",
    "plt.xlabel('Year')\n",
    "plt.ylabel('R-Squared')\n",
    "plt.xticks(rotation=90)\n",
    "\n",
    "plt.subplot(1, 3, 3)\n",
    "plt.plot(Rsquare_10_pf_mm['Portfoio0'],label=\"Lo 10\",alpha=0.8)\n",
    "plt.plot(Rsquare_10_pf_mm['Portfoio1'],label=\"2-Dec\",alpha=0.8)\n",
    "plt.plot(Rsquare_10_pf_mm['Portfoio2'],label=\"3-Dec\",alpha=0.8)\n",
    "plt.plot(Rsquare_10_pf_mm['Portfoio3'],label=\"4-Dec\",alpha=0.8)\n",
    "plt.plot(Rsquare_10_pf_mm['Portfoio4'],label=\"5-Dec\",alpha=0.8)\n",
    "plt.plot(Rsquare_10_pf_mm['Portfoio5'],label=\"6-Dec\",alpha=0.8)\n",
    "plt.plot(Rsquare_10_pf_mm['Portfoio6'],label=\"7-Dec\",alpha=0.8)\n",
    "plt.plot(Rsquare_10_pf_mm['Portfoio7'],label=\"8-Dec\",alpha=0.8)\n",
    "plt.plot(Rsquare_10_pf_mm['Portfoio8'],label=\"9-Dec\",alpha=0.8)\n",
    "plt.plot(Rsquare_10_pf_mm['Portfoio9'],label=\"Hi 10\",alpha=0.8)\n",
    "plt.legend(loc='lower right')\n",
    "plt.ylim([0.48,1.02])\n",
    "plt.title('R-squared of 10 Size Portfolios with Monthly Returns')\n",
    "plt.xlabel('Year')\n",
    "plt.ylabel('R-Squared')\n",
    "plt.xticks(rotation=90)\n",
    "\n",
    "plt.show()"
   ]
  },
  {
   "cell_type": "code",
   "execution_count": 84,
   "metadata": {
    "collapsed": false
   },
   "outputs": [
    {
     "data": {
      "text/plain": [
       "<Figure size 5400x5400 with 0 Axes>"
      ]
     },
     "metadata": {},
     "output_type": "display_data"
    },
    {
     "data": {
      "image/png": "[encoded data removed]",
      "text/plain": [
       "<Figure size 432x288 with 6 Axes>"
      ]
     },
     "metadata": {
      "needs_background": "light"
     },
     "output_type": "display_data"
    }
   ],
   "source": [
    "plt.figure(figsize=(30, 30), dpi= 180, facecolor='w', edgecolor='k')\n",
    "#plt.figure(figsize=(20,10))\n",
    "plt.subplots(2, 3, sharex=True, sharey=True)\n",
    "\n",
    "plt.subplot(2, 3, 4)\n",
    "plt.plot(Rsquare_3_pf['Portfoio0'],label=\"Lo 30\",alpha=0.8)\n",
    "plt.plot(Rsquare_3_pf['Portfoio1'],label=\"Med 40\",alpha=0.8)\n",
    "plt.plot(Rsquare_3_pf['Portfoio2'],label=\"Hi 30\",alpha=0.8)\n",
    "plt.legend(loc='lower right')\n",
    "plt.ylim([0.48,1.02])\n",
    "plt.title('R-squared of 3 Size Portfolios with Daily Returns')\n",
    "plt.xlabel('Year')\n",
    "plt.ylabel('R-Squared')\n",
    "\n",
    "plt.subplot(2, 3, 5)\n",
    "plt.plot(Rsquare_5_pf['Portfoio0'],label=\"Lo 20\",alpha=0.8)\n",
    "plt.plot(Rsquare_5_pf['Portfoio1'],label=\"Qnt 2\",alpha=0.8)\n",
    "plt.plot(Rsquare_5_pf['Portfoio2'],label=\"Qnt 3\",alpha=0.8)\n",
    "plt.plot(Rsquare_5_pf['Portfoio3'],label=\"Qnt 4\",alpha=0.8)\n",
    "plt.plot(Rsquare_5_pf['Portfoio4'],label=\"Hi 20\",alpha=0.8)\n",
    "plt.legend(loc='lower right')\n",
    "plt.ylim([0.48,1.02])\n",
    "plt.title('R-squared of 5 Size Portfolios with Daily Returns')\n",
    "plt.xlabel('Year')\n",
    "plt.ylabel('R-Squared')\n",
    "\n",
    "plt.subplot(2, 3, 6)\n",
    "plt.plot(Rsquare_10_pf['Portfoio0'],label=\"Lo 10\",alpha=0.8)\n",
    "plt.plot(Rsquare_10_pf['Portfoio1'],label=\"2-Dec\",alpha=0.8)\n",
    "plt.plot(Rsquare_10_pf['Portfoio2'],label=\"3-Dec\",alpha=0.8)\n",
    "plt.plot(Rsquare_10_pf['Portfoio3'],label=\"4-Dec\",alpha=0.8)\n",
    "plt.plot(Rsquare_10_pf['Portfoio4'],label=\"5-Dec\",alpha=0.8)\n",
    "plt.plot(Rsquare_10_pf['Portfoio5'],label=\"6-Dec\",alpha=0.8)\n",
    "plt.plot(Rsquare_10_pf['Portfoio6'],label=\"7-Dec\",alpha=0.8)\n",
    "plt.plot(Rsquare_10_pf['Portfoio7'],label=\"8-Dec\",alpha=0.8)\n",
    "plt.plot(Rsquare_10_pf['Portfoio8'],label=\"9-Dec\",alpha=0.8)\n",
    "plt.plot(Rsquare_10_pf['Portfoio9'],label=\"Hi 10\",alpha=0.8)\n",
    "plt.legend(loc='lower right')\n",
    "plt.ylim([0.48,1.02])\n",
    "plt.title('R-squared of 10 Size Portfolios with Daily Returns')\n",
    "plt.xlabel('Year')\n",
    "plt.ylabel('R-Squared')\n",
    "\n",
    "plt.subplot(2, 3, 1)\n",
    "plt.plot(Rsquare_3_pf_mm['Portfoio0'],label=\"Lo 30\",alpha=0.8)\n",
    "plt.plot(Rsquare_3_pf_mm['Portfoio1'],label=\"Med 40\",alpha=0.8)\n",
    "plt.plot(Rsquare_3_pf_mm['Portfoio2'],label=\"Hi 30\",alpha=0.8)\n",
    "plt.legend(loc='lower right')\n",
    "plt.ylim([0.48,1.02])\n",
    "plt.xlim([\"1963\",\"2022\"])\n",
    "plt.title('R-squared of 3 Size Portfolios with Monthly Returns')\n",
    "plt.xlabel('Year')\n",
    "plt.ylabel('R-Squared')\n",
    "plt.xticks(rotation=90)\n",
    "\n",
    "plt.subplot(2, 3, 2)\n",
    "plt.plot(Rsquare_5_pf_mm['Portfoio0'],label=\"Lo 20\",alpha=0.8)\n",
    "plt.plot(Rsquare_5_pf_mm['Portfoio1'],label=\"Qnt 2\",alpha=0.8)\n",
    "plt.plot(Rsquare_5_pf_mm['Portfoio2'],label=\"Qnt 3\",alpha=0.8)\n",
    "plt.plot(Rsquare_5_pf_mm['Portfoio3'],label=\"Qnt 4\",alpha=0.8)\n",
    "plt.plot(Rsquare_5_pf_mm['Portfoio4'],label=\"Hi 20\",alpha=0.8)\n",
    "plt.legend(loc='lower right')\n",
    "plt.ylim([0.48,1.02])\n",
    "plt.title('R-squared of 5 Size Portfolios with Monthly Returns')\n",
    "plt.xlabel('Year')\n",
    "plt.ylabel('R-Squared')\n",
    "plt.xticks(rotation=90)\n",
    "\n",
    "plt.subplot(2, 3, 3)\n",
    "plt.plot(Rsquare_10_pf_mm['Portfoio0'],label=\"Lo 10\",alpha=0.8)\n",
    "plt.plot(Rsquare_10_pf_mm['Portfoio1'],label=\"2-Dec\",alpha=0.8)\n",
    "plt.plot(Rsquare_10_pf_mm['Portfoio2'],label=\"3-Dec\",alpha=0.8)\n",
    "plt.plot(Rsquare_10_pf_mm['Portfoio3'],label=\"4-Dec\",alpha=0.8)\n",
    "plt.plot(Rsquare_10_pf_mm['Portfoio4'],label=\"5-Dec\",alpha=0.8)\n",
    "plt.plot(Rsquare_10_pf_mm['Portfoio5'],label=\"6-Dec\",alpha=0.8)\n",
    "plt.plot(Rsquare_10_pf_mm['Portfoio6'],label=\"7-Dec\",alpha=0.8)\n",
    "plt.plot(Rsquare_10_pf_mm['Portfoio7'],label=\"8-Dec\",alpha=0.8)\n",
    "plt.plot(Rsquare_10_pf_mm['Portfoio8'],label=\"9-Dec\",alpha=0.8)\n",
    "plt.plot(Rsquare_10_pf_mm['Portfoio9'],label=\"Hi 10\",alpha=0.8)\n",
    "plt.legend(loc='lower right')\n",
    "plt.ylim([0.48,1.02])\n",
    "plt.title('R-squared of 10 Size Portfolios with Monthly Returns')\n",
    "plt.xlabel('Year')\n",
    "plt.ylabel('R-Squared')\n",
    "plt.xticks(rotation=90)\n",
    "\n",
    "plt.show()"
   ]
  },
  {
   "cell_type": "code",
   "execution_count": 85,
   "metadata": {
    "collapsed": false
   },
   "outputs": [
    {
     "data": {
      "image/png": "[encoded data removed]",
      "text/plain": [
       "<Figure size 720x720 with 1 Axes>"
      ]
     },
     "metadata": {
      "needs_background": "light"
     },
     "output_type": "display_data"
    }
   ],
   "source": [
    "plt.figure(figsize=(10,10))\n",
    "plt.plot(Rsquare_10_pf_mm['Portfoio0'],label=\"Lo 10\",alpha=0.8)\n",
    "plt.show()"
   ]
  },
  {
   "cell_type": "code",
   "execution_count": 45,
   "metadata": {
    "collapsed": true
   },
   "outputs": [],
   "source": [
    "####################  3. Factor Correlations with Monthly Return   ###################################"
   ]
  },
  {
   "cell_type": "code",
   "execution_count": 46,
   "metadata": {
    "collapsed": false
   },
   "outputs": [],
   "source": [
    "corr = ff5_mm.corr()"
   ]
  },
  {
   "cell_type": "code",
   "execution_count": 47,
   "metadata": {
    "collapsed": false
   },
   "outputs": [
    {
     "name": "stdout",
     "output_type": "stream",
     "text": [
      "          Mkt-RF       SMB       HML       RMW       CMA\n",
      "Mkt-RF  1.000000  0.276618 -0.254758 -0.228337 -0.386550\n",
      "SMB     0.276618  1.000000 -0.068078 -0.347595 -0.105261\n",
      "HML    -0.254758 -0.068078  1.000000  0.061226  0.692952\n",
      "RMW    -0.228337 -0.347595  0.061226  1.000000 -0.037308\n",
      "CMA    -0.386550 -0.105261  0.692952 -0.037308  1.000000\n"
     ]
    }
   ],
   "source": [
    "print(corr)"
   ]
  },
  {
   "cell_type": "code",
   "execution_count": 48,
   "metadata": {
    "collapsed": false
   },
   "outputs": [],
   "source": [
    "corr.iloc[1][4]\n",
    "\n",
    "Rsquare_5_pf_mm = {}\n",
    "for i in range(5):\n",
    "    x = []\n",
    "    for n in range(n_window_mm):  \n",
    "        x.append(models_5_pf_mm[i*n_window_mm +n].rsquared) \n",
    "    Rsquare_5_pf_mm[\"Portfoio{0}\".format(i)] = pd.Series(x,index = window_nm_month)"
   ]
  },
  {
   "cell_type": "code",
   "execution_count": 49,
   "metadata": {
    "collapsed": false
   },
   "outputs": [],
   "source": [
    "correlation = []\n",
    "for m in range(n_window_mm):\n",
    "    t0 = ff5_mm.index[0+m]\n",
    "    if ff5_mm.index[0+m+window_mm-1] < end_mm:\n",
    "        t1 = ff5_mm.index[0+m+window_mm-1]\n",
    "    else:\n",
    "        t1 = end_mm\n",
    "    correlation.append(ff5_mm[t0:t1].corr())        "
   ]
  },
  {
   "cell_type": "code",
   "execution_count": 50,
   "metadata": {
    "collapsed": false
   },
   "outputs": [
    {
     "name": "stdout",
     "output_type": "stream",
     "text": [
      "          Mkt-RF       SMB       HML       RMW       CMA\n",
      "Mkt-RF  1.000000  0.522292 -0.164799 -0.029840 -0.363053\n",
      "SMB     0.522292  1.000000 -0.209512 -0.144585 -0.363920\n",
      "HML    -0.164799 -0.209512  1.000000 -0.649084  0.771785\n",
      "RMW    -0.029840 -0.144585 -0.649084  1.000000 -0.615301\n",
      "CMA    -0.363053 -0.363920  0.771785 -0.615301  1.000000\n"
     ]
    },
    {
     "data": {
      "text/plain": [
       "-0.34243811368283755"
      ]
     },
     "execution_count": 50,
     "metadata": {},
     "output_type": "execute_result"
    }
   ],
   "source": [
    "print(correlation[1])\n",
    "correlation[0].iloc[4][1]"
   ]
  },
  {
   "cell_type": "code",
   "execution_count": 51,
   "metadata": {
    "collapsed": true
   },
   "outputs": [],
   "source": [
    "Mrk_SMB = []\n",
    "Mrk_HML = []\n",
    "Mrk_RMW = []\n",
    "Mrk_CMA = []\n",
    "SMB_HML = []\n",
    "SMB_RMW = []\n",
    "SMB_CMA = []\n",
    "HML_RMW = []\n",
    "HML_CMA = []\n",
    "RMW_CMA = []\n",
    "for i in range(len(correlation)):\n",
    "    Mrk_SMB.append(correlation[i].iloc[0][1])\n",
    "    Mrk_HML.append(correlation[i].iloc[0][2])\n",
    "    Mrk_RMW.append(correlation[i].iloc[0][3])\n",
    "    Mrk_CMA.append(correlation[i].iloc[0][4])\n",
    "    SMB_HML.append(correlation[i].iloc[1][2])\n",
    "    SMB_RMW.append(correlation[i].iloc[1][3])\n",
    "    SMB_CMA.append(correlation[i].iloc[1][4])\n",
    "    HML_RMW.append(correlation[i].iloc[2][3])\n",
    "    HML_CMA.append(correlation[i].iloc[2][4])\n",
    "    RMW_CMA.append(correlation[i].iloc[3][4])\n",
    "    \n",
    "Mrk_SMB_Corr = pd.Series(Mrk_SMB,index = window_nm_month)\n",
    "Mrk_HML_Corr = pd.Series(Mrk_HML,index = window_nm_month)  \n",
    "Mrk_RMW_Corr = pd.Series(Mrk_RMW,index = window_nm_month)  \n",
    "Mrk_CMA_Corr = pd.Series(Mrk_CMA,index = window_nm_month)  \n",
    "SMB_HML_Corr = pd.Series(SMB_HML,index = window_nm_month)  \n",
    "SMB_RMW_Corr = pd.Series(SMB_RMW,index = window_nm_month)  \n",
    "SMB_CMA_Corr = pd.Series(SMB_CMA,index = window_nm_month)  \n",
    "HML_RMW_Corr = pd.Series(HML_RMW,index = window_nm_month)  \n",
    "HML_CMA_Corr = pd.Series(HML_CMA,index = window_nm_month)  \n",
    "RMW_CMA_Corr = pd.Series(RMW_CMA,index = window_nm_month)  "
   ]
  },
  {
   "cell_type": "code",
   "execution_count": 90,
   "metadata": {
    "collapsed": false
   },
   "outputs": [],
   "source": [
    "plt.figure(figsize=(130, 180), dpi= 800, facecolor='w', edgecolor='k')\n",
    "plt.subplots(4, 4, sharex=True, sharey=True)\n",
    "\n",
    "plt.subplot(4, 4, 1)\n",
    "plt.plot(Mrk_SMB_Corr)\n",
    "plt.title('SMB')\n",
    "plt.ylabel('Mrk-Rf')\n",
    "\n",
    "plt.subplot(4, 4, 2)\n",
    "plt.plot(Mrk_HML_Corr)\n",
    "plt.title('HML')\n",
    "\n",
    "plt.subplot(4, 4, 3)\n",
    "plt.plot(Mrk_RMW_Corr)\n",
    "plt.title('RMW')\n",
    "\n",
    "plt.subplot(4, 4, 4)\n",
    "plt.plot(Mrk_CMA_Corr)\n",
    "plt.title('CMA')\n",
    "\n",
    "plt.subplot(4, 4, 6)\n",
    "plt.plot(SMB_HML_Corr)\n",
    "plt.ylabel('SMB')\n",
    "\n",
    "plt.subplot(4, 4, 7)\n",
    "plt.plot(SMB_RMW_Corr)\n",
    "\n",
    "\n",
    "plt.subplot(4, 4, 8)\n",
    "plt.plot(SMB_CMA_Corr)\n",
    "\n",
    "\n",
    "plt.subplot(4, 4, 11)\n",
    "plt.plot(HML_RMW_Corr)\n",
    "plt.ylabel('RMW')\n",
    "\n",
    "plt.subplot(4, 4, 12)\n",
    "plt.plot(HML_CMA_Corr)\n",
    "\n",
    "plt.subplot(4, 4, 16)\n",
    "plt.plot(RMW_CMA_Corr)\n",
    "plt.ylabel('CMA')\n",
    "\n",
    "plt.show()"
   ]
  },
  {
   "cell_type": "code",
   "execution_count": 121,
   "metadata": {
    "collapsed": false
   },
   "outputs": [
    {
     "data": {
      "image/png": "[encoded data removed]",
      "text/plain": [
       "<Figure size 2160x1080 with 2 Axes>"
      ]
     },
     "metadata": {
      "needs_background": "light"
     },
     "output_type": "display_data"
    }
   ],
   "source": [
    "fig1 = plt.figure(figsize=(30, 15))\n",
    "\n",
    "ax1 = fig1.add_subplot(441)\n",
    "ax1.plot(Mrk_SMB_Corr)\n",
    "ax1.set_title('SMB')\n",
    "ax1.set_ylabel('Mrk-Rf')\n",
    "\n",
    "ax2 = fig1.add_subplot(442)\n",
    "ax2.plot(Mrk_HML_Corr)\n",
    "ax2.set_title('HML')\n",
    "ax2.set_ylabel('Mrk-Rf')\n",
    "\n",
    "\n",
    "\n",
    "plt.show()"
   ]
  },
  {
   "cell_type": "code",
   "execution_count": 103,
   "metadata": {
    "collapsed": false
   },
   "outputs": [],
   "source": [
    "ax1.plot(Mrk_SMB_Corr)\n",
    "plt.show()"
   ]
  },
  {
   "cell_type": "code",
   "execution_count": 104,
   "metadata": {
    "collapsed": false
   },
   "outputs": [
    {
     "data": {
      "image/png": "[encoded data removed]",
      "text/plain": [
       "<Figure size 432x288 with 16 Axes>"
      ]
     },
     "metadata": {
      "needs_background": "light"
     },
     "output_type": "display_data"
    }
   ],
   "source": [
    "plt.subplots(4, 4, sharex=True, sharey=True)\n",
    "\n",
    "plt.subplot(4, 4, 1)\n",
    "plt.plot(Mrk_SMB_Corr)\n",
    "plt.title('SMB')\n",
    "plt.ylabel('Mrk-Rf')\n",
    "\n",
    "plt.subplot(4, 4, 2)\n",
    "plt.plot(Mrk_HML_Corr)\n",
    "plt.title('HML')\n",
    "\n",
    "plt.subplot(4, 4, 3)\n",
    "plt.plot(Mrk_RMW_Corr)\n",
    "plt.title('RMW')\n",
    "\n",
    "plt.subplot(4, 4, 4)\n",
    "plt.plot(Mrk_CMA_Corr)\n",
    "plt.title('CMA')\n",
    "\n",
    "plt.subplot(4, 4, 6)\n",
    "plt.plot(SMB_HML_Corr)\n",
    "plt.ylabel('SMB')\n",
    "\n",
    "plt.subplot(4, 4, 7)\n",
    "plt.plot(SMB_RMW_Corr)\n",
    "\n",
    "\n",
    "plt.subplot(4, 4, 8)\n",
    "plt.plot(SMB_CMA_Corr)\n",
    "\n",
    "\n",
    "plt.subplot(4, 4, 11)\n",
    "plt.plot(HML_RMW_Corr)\n",
    "plt.ylabel('RMW')\n",
    "\n",
    "plt.subplot(4, 4, 12)\n",
    "plt.plot(HML_CMA_Corr)\n",
    "\n",
    "plt.subplot(4, 4, 16)\n",
    "plt.plot(RMW_CMA_Corr)\n",
    "plt.ylabel('CMA')\n",
    "\n",
    "plt.show()"
   ]
  },
  {
   "cell_type": "code",
   "execution_count": 53,
   "metadata": {
    "collapsed": true
   },
   "outputs": [],
   "source": [
    "####################  4. Factor Significance in Daily Return ###################################"
   ]
  },
  {
   "cell_type": "code",
   "execution_count": 54,
   "metadata": {
    "collapsed": false
   },
   "outputs": [],
   "source": [
    "\n",
    "lo_30_p = {}\n",
    "Med_40_p = {}\n",
    "Hi_30_p = {}\n",
    "\n",
    "factor = ['Const', 'Mrk-Rf', 'SMB', 'HML', 'RMW', 'CMA']\n",
    "\n",
    "for j in range(6):\n",
    "    x= []\n",
    "    for i in range(int(len(models_3_pf)/3)):            \n",
    "        x.append(models_3_pf[i].pvalues[j])\n",
    "    lo_30_p[factor[j]] = pd.Series(x, index = window_nm)\n",
    "\n",
    "for j in range(6):\n",
    "    x= []\n",
    "    for i in range(int(len(models_3_pf)/3)-1, 2*int(len(models_3_pf)/3)-1):            \n",
    "        x.append(models_3_pf[i].pvalues[j])\n",
    "    Med_40_p[factor[j]] = pd.Series(x, index=window_nm)\n",
    "    \n",
    "for j in range(6):\n",
    "    x= []\n",
    "    for i in range(2*int(len(models_3_pf)/3)-1, len(models_3_pf)-1):            \n",
    "        x.append(models_3_pf[i].pvalues[j])\n",
    "    Hi_30_p[factor[j]] = pd.Series(x, index = window_nm)\n",
    "\n",
    "lo_30_p_summary = pd.concat([lo_30_p[factor[1]],lo_30_p[factor[2]],lo_30_p[factor[3]],lo_30_p[factor[4]],lo_30_p[factor[5]]], axis=1)\n",
    "Med_40_p_summary = pd.concat([Med_40_p[factor[1]],Med_40_p[factor[2]],Med_40_p[factor[3]],Med_40_p[factor[4]],Med_40_p[factor[5]]], axis=1)\n",
    "Hi_30_p_summary = pd.concat([Hi_30_p[factor[1]],Hi_30_p[factor[2]],Hi_30_p[factor[3]],Hi_30_p[factor[4]],Hi_30_p[factor[5]]], axis=1)\n"
   ]
  },
  {
   "cell_type": "code",
   "execution_count": 55,
   "metadata": {
    "collapsed": false
   },
   "outputs": [],
   "source": [
    "lo_30_p_summary['Mrk-Rf Ind'] = [1 if x < 0.05 else 0 for x in lo_30_p_summary[0]]\n",
    "lo_30_p_summary['SMB Ind'] = [1 if x < 0.05 else 0 for x in lo_30_p_summary[1]]\n",
    "lo_30_p_summary['HML Ind'] = [1 if x < 0.05 else 0 for x in lo_30_p_summary[2]]\n",
    "lo_30_p_summary['RMW Ind'] = [1 if x < 0.05 else 0 for x in lo_30_p_summary[3]]\n",
    "lo_30_p_summary['CMA Ind'] = [1 if x < 0.05 else 0 for x in lo_30_p_summary[4]]\n",
    "\n",
    "Med_40_p_summary['Mrk-Rf Ind'] = [1 if x < 0.05 else 0 for x in Med_40_p_summary[0]]\n",
    "Med_40_p_summary['SMB Ind'] = [1 if x < 0.05 else 0 for x in Med_40_p_summary[1]]\n",
    "Med_40_p_summary['HML Ind'] = [1 if x < 0.05 else 0 for x in Med_40_p_summary[2]]\n",
    "Med_40_p_summary['RMW Ind'] = [1 if x < 0.05 else 0 for x in Med_40_p_summary[3]]\n",
    "Med_40_p_summary['CMA Ind'] = [1 if x < 0.05 else 0 for x in Med_40_p_summary[4]]\n",
    "\n",
    "Hi_30_p_summary['Mrk-Rf Ind'] = [1 if x < 0.05 else 0 for x in Hi_30_p_summary[0]]\n",
    "Hi_30_p_summary['SMB Ind'] = [1 if x < 0.05 else 0 for x in Hi_30_p_summary[1]]\n",
    "Hi_30_p_summary['HML Ind'] = [1 if x < 0.05 else 0 for x in Hi_30_p_summary[2]]\n",
    "Hi_30_p_summary['RMW Ind'] = [1 if x < 0.05 else 0 for x in Hi_30_p_summary[3]]\n",
    "Hi_30_p_summary['CMA Ind'] = [1 if x < 0.05 else 0 for x in Hi_30_p_summary[4]]\n"
   ]
  },
  {
   "cell_type": "code",
   "execution_count": 56,
   "metadata": {
    "collapsed": false
   },
   "outputs": [
    {
     "data": {
      "text/plain": [
       "<Figure size 1440x480 with 0 Axes>"
      ]
     },
     "metadata": {},
     "output_type": "display_data"
    },
    {
     "data": {
      "image/png": "[encoded data removed]",
      "text/plain": [
       "<Figure size 432x288 with 15 Axes>"
      ]
     },
     "metadata": {
      "needs_background": "light"
     },
     "output_type": "display_data"
    }
   ],
   "source": [
    "fig=plt.figure(figsize=(18, 6), dpi= 80, facecolor='w', edgecolor='k')\n",
    "plt.subplots(5, 3, sharex=True, sharey=True)\n",
    "\n",
    "plt.subplot(5, 3, 1)\n",
    "plt.plot(lo_30_p_summary['Mrk-Rf Ind'],'o',markersize = 0.5,label=\"Mrk\",alpha=0.8)\n",
    "plt.title('Lo_30 Portfolio')\n",
    "plt.ylabel('Mrk-Rf')\n",
    "plt.ylim([-0.1,1.1])\n",
    "plt.yticks(np.arange(0, 1, step=1))\n",
    "\n",
    "plt.subplot(5, 3, 2)\n",
    "plt.plot(Med_40_p_summary['Mrk-Rf Ind'],'o',markersize = 0.5, label=\"Mrk\",alpha=0.8)\n",
    "plt.title('Med_40 Portfolio')\n",
    "plt.ylim([0,1])\n",
    "plt.subplot(5, 3, 3)\n",
    "plt.plot(Hi_30_p_summary['Mrk-Rf Ind'],'o',markersize = 0.5, label=\"Mrk\",alpha=0.8)\n",
    "plt.title('Hi_30 Portfolio')\n",
    "plt.ylim([0,1])\n",
    "\n",
    "plt.subplot(5, 3, 4)\n",
    "plt.plot(lo_30_p_summary['SMB Ind'],'o',markersize = 0.5,label=\"SMB\",alpha=0.8)\n",
    "plt.ylabel('SMB')\n",
    "plt.ylim([0,1])\n",
    "plt.subplot(5, 3, 5)\n",
    "plt.plot(Med_40_p_summary['SMB Ind'],'o',markersize = 0.5, label=\"SMB\",alpha=0.8)\n",
    "plt.ylim([0,1])\n",
    "plt.subplot(5, 3, 6)\n",
    "plt.plot(Hi_30_p_summary['SMB Ind'],'o',markersize = 0.5, label=\"SMB\",alpha=0.8)\n",
    "plt.ylim([0,1])\n",
    "\n",
    "plt.subplot(5, 3, 7)\n",
    "plt.plot(lo_30_p_summary['HML Ind'],'o',markersize = 0.5,label=\"HML\",alpha=0.8)\n",
    "plt.ylabel('HML')\n",
    "plt.subplot(5, 3, 8)\n",
    "plt.plot(Med_40_p_summary['HML Ind'],'o',markersize = 0.5, label=\"HML\",alpha=0.8)\n",
    "plt.subplot(5, 3, 9)\n",
    "plt.plot(Hi_30_p_summary['HML Ind'],'o',markersize = 0.5, label=\"HML\",alpha=0.8)\n",
    "\n",
    "plt.subplot(5, 3, 10)\n",
    "plt.plot(lo_30_p_summary['RMW Ind'],'o',markersize = 0.5,label=\"RMW\",alpha=0.8)\n",
    "plt.ylabel('RMW')\n",
    "plt.subplot(5, 3, 11)\n",
    "plt.plot(Med_40_p_summary['RMW Ind'],'o',markersize = 0.5, label=\"RMW\",alpha=0.8)\n",
    "plt.subplot(5, 3, 12)\n",
    "plt.plot(Hi_30_p_summary['RMW Ind'],'o',markersize = 0.5, label=\"RMW\",alpha=0.8)\n",
    "\n",
    "plt.subplot(5, 3, 13)\n",
    "plt.plot(lo_30_p_summary['CMA Ind'],'o',markersize = 0.5,label=\"CMA\",alpha=0.8)\n",
    "plt.ylabel('CMA')\n",
    "plt.xlabel('Year')\n",
    "plt.subplot(5, 3, 14)\n",
    "plt.plot(Med_40_p_summary['CMA Ind'],'o',markersize = 0.5, label=\"CMA\",alpha=0.8)\n",
    "plt.xlabel('Year')\n",
    "plt.subplot(5, 3, 15)\n",
    "plt.plot(Hi_30_p_summary['CMA Ind'],'o',markersize = 0.5, label=\"CMA\",alpha=0.8)\n",
    "plt.xlabel('Year')\n",
    "\n",
    "\n",
    "plt.legend(loc='upper left')\n",
    "plt.show()"
   ]
  },
  {
   "cell_type": "code",
   "execution_count": 57,
   "metadata": {
    "collapsed": false
   },
   "outputs": [
    {
     "data": {
      "image/png": "[encoded data removed]",
      "text/plain": [
       "<Figure size 432x288 with 1 Axes>"
      ]
     },
     "metadata": {
      "needs_background": "light"
     },
     "output_type": "display_data"
    },
    {
     "data": {
      "text/plain": [
       "0.08458781362007169"
      ]
     },
     "execution_count": 57,
     "metadata": {},
     "output_type": "execute_result"
    }
   ],
   "source": [
    "#when all 5 factors are significant\n",
    "all_sign_lo30 = lo_30_p_summary.iloc[:,5:10].product(axis = 1)\n",
    "plt.plot(all_sign_lo30,'o',markersize = 0.5) \n",
    "plt.show()\n",
    "all_sign_lo30.sum(axis=0)/len(all_sign_lo30)"
   ]
  },
  {
   "cell_type": "code",
   "execution_count": 58,
   "metadata": {
    "collapsed": false
   },
   "outputs": [],
   "source": [
    "signperc_lo30 = lo_30_p_summary.iloc[:,5:10].sum(axis = 0)/len(lo_30_p_summary)\n",
    "signperc_Med40 = Med_40_p_summary.iloc[:,5:10].sum(axis = 0)/len(Med_40_p_summary)\n",
    "signperc_Hi30 = Hi_30_p_summary.iloc[:,5:10].sum(axis = 0)/len(Hi_30_p_summary)"
   ]
  },
  {
   "cell_type": "code",
   "execution_count": 59,
   "metadata": {
    "collapsed": false
   },
   "outputs": [],
   "source": [
    "signperc_summary = pd.concat([signperc_lo30,signperc_Med40,signperc_Hi30], axis=1)\n",
    "signperc_summary.columns = ['Lo 30', 'Med 40', 'Hi 30']"
   ]
  },
  {
   "cell_type": "code",
   "execution_count": 60,
   "metadata": {
    "collapsed": false
   },
   "outputs": [
    {
     "name": "stdout",
     "output_type": "stream",
     "text": [
      "Mrk-Rf Ind    1.000000\n",
      "SMB Ind       1.000000\n",
      "HML Ind       0.426738\n",
      "RMW Ind       0.671828\n",
      "CMA Ind       0.252832\n",
      "dtype: float64\n",
      "Mrk-Rf Ind    1.000000\n",
      "SMB Ind       1.000000\n",
      "HML Ind       0.526237\n",
      "RMW Ind       0.398351\n",
      "CMA Ind       0.296201\n",
      "dtype: float64\n",
      "Mrk-Rf Ind    1.000000\n",
      "SMB Ind       1.000000\n",
      "HML Ind       0.518136\n",
      "RMW Ind       0.635842\n",
      "CMA Ind       0.345018\n",
      "dtype: float64\n",
      "               Lo 30    Med 40     Hi 30\n",
      "Mrk-Rf Ind  1.000000  1.000000  1.000000\n",
      "SMB Ind     1.000000  1.000000  1.000000\n",
      "HML Ind     0.426738  0.526237  0.518136\n",
      "RMW Ind     0.671828  0.398351  0.635842\n",
      "CMA Ind     0.252832  0.296201  0.345018\n"
     ]
    }
   ],
   "source": [
    "print(signperc_lo30)\n",
    "print(signperc_Med40)\n",
    "print(signperc_Hi30)\n",
    "print(signperc_summary)"
   ]
  },
  {
   "cell_type": "code",
   "execution_count": 61,
   "metadata": {
    "collapsed": false
   },
   "outputs": [
    {
     "data": {
      "image/png": "[encoded data removed]",
      "text/plain": [
       "<Figure size 280x400 with 2 Axes>"
      ]
     },
     "metadata": {},
     "output_type": "display_data"
    }
   ],
   "source": [
    "plt.close()\n",
    "fig=plt.figure(figsize=(3.5, 5), dpi= 80, facecolor='w', edgecolor='k')\n",
    "plt.pcolor(signperc_summary, cmap=plt.cm.Blues)\n",
    "plt.yticks(np.arange(0.5, len(signperc_lo30), 1), signperc_lo30.index)\n",
    "plt.xticks(np.arange(0.5, 3, 1), ['Lo30', 'Med40', 'Hi30'])\n",
    "plt.colorbar()\n",
    "plt.show()"
   ]
  },
  {
   "cell_type": "code",
   "execution_count": 62,
   "metadata": {
    "collapsed": false
   },
   "outputs": [
    {
     "data": {
      "image/png": "[encoded data removed]",
      "text/plain": [
       "<Figure size 280x400 with 2 Axes>"
      ]
     },
     "metadata": {},
     "output_type": "display_data"
    }
   ],
   "source": [
    "plt.close()\n",
    "plt.figure(figsize=(3.5, 5), dpi= 80, facecolor='w', edgecolor='k')\n",
    "sns.heatmap(signperc_summary,annot=True)\n",
    "plt.title('Percentage of Significant Occurance - Regression with Daily Return')\n",
    "plt.show()"
   ]
  },
  {
   "cell_type": "code",
   "execution_count": 63,
   "metadata": {
    "collapsed": true
   },
   "outputs": [],
   "source": [
    "####################  5. Factor Significance in Daily Monthly Regressions   ###################################"
   ]
  },
  {
   "cell_type": "code",
   "execution_count": 64,
   "metadata": {
    "collapsed": false
   },
   "outputs": [],
   "source": [
    "lo_30_p_mm = {}\n",
    "Med_40_p_mm = {}\n",
    "Hi_30_p_mm = {}\n",
    "\n",
    "factor = ['Const', 'Mrk-Rf', 'SMB', 'HML', 'RMW', 'CMA']\n",
    "\n",
    "for j in range(6):\n",
    "    x= []\n",
    "    for i in range(int(len(models_3_pf_mm)/3)):            \n",
    "        x.append(models_3_pf_mm[i].pvalues[j])\n",
    "    lo_30_p_mm[factor[j]] = pd.Series(x, index = window_nm_month)\n",
    "\n",
    "for j in range(6):\n",
    "    x= []\n",
    "    for i in range(int(len(models_3_pf_mm)/3)-1, 2*int(len(models_3_pf_mm)/3)-1):            \n",
    "        x.append(models_3_pf_mm[i].pvalues[j])\n",
    "    Med_40_p_mm[factor[j]] = pd.Series(x, index=window_nm_month)\n",
    "    \n",
    "for j in range(6):\n",
    "    x= []\n",
    "    for i in range(2*int(len(models_3_pf_mm)/3)-1, len(models_3_pf_mm)-1):            \n",
    "        x.append(models_3_pf_mm[i].pvalues[j])\n",
    "    Hi_30_p_mm[factor[j]] = pd.Series(x, index = window_nm_month)\n",
    "\n",
    "lo_30_p_mm_summary = pd.concat([lo_30_p_mm[factor[1]],lo_30_p_mm[factor[2]],lo_30_p_mm[factor[3]],lo_30_p_mm[factor[4]],lo_30_p_mm[factor[5]]], axis=1)\n",
    "Med_40_p_mm_summary = pd.concat([Med_40_p_mm[factor[1]],Med_40_p_mm[factor[2]],Med_40_p_mm[factor[3]],Med_40_p_mm[factor[4]],Med_40_p_mm[factor[5]]], axis=1)\n",
    "Hi_30_p_mm_summary = pd.concat([Hi_30_p_mm[factor[1]],Hi_30_p_mm[factor[2]],Hi_30_p_mm[factor[3]],Hi_30_p_mm[factor[4]],Hi_30_p_mm[factor[5]]], axis=1)\n"
   ]
  },
  {
   "cell_type": "code",
   "execution_count": null,
   "metadata": {
    "collapsed": true
   },
   "outputs": [],
   "source": [
    "lo_30_p_mm_summary['Mrk-Rf Ind'] = [1 if x < 0.05 else 0 for x in lo_30_p_mm_summary[0]]\n",
    "lo_30_p_mm_summary['SMB Ind'] = [1 if x < 0.05 else 0 for x in lo_30_p_mm_summary[1]]\n",
    "lo_30_p_mm_summary['HML Ind'] = [1 if x < 0.05 else 0 for x in lo_30_p_mm_summary[2]]\n",
    "lo_30_p_mm_summary['RMW Ind'] = [1 if x < 0.05 else 0 for x in lo_30_p_mm_summary[3]]\n",
    "lo_30_p_mm_summary['CMA Ind'] = [1 if x < 0.05 else 0 for x in lo_30_p_mm_summary[4]]\n",
    "\n",
    "Med_40_p_mm_summary['Mrk-Rf Ind'] = [1 if x < 0.05 else 0 for x in Med_40_p_mm_summary[0]]\n",
    "Med_40_p_mm_summary['SMB Ind'] = [1 if x < 0.05 else 0 for x in Med_40_p_mm_summary[1]]\n",
    "Med_40_p_mm_summary['HML Ind'] = [1 if x < 0.05 else 0 for x in Med_40_p_mm_summary[2]]\n",
    "Med_40_p_mm_summary['RMW Ind'] = [1 if x < 0.05 else 0 for x in Med_40_p_mm_summary[3]]\n",
    "Med_40_p_mm_summary['CMA Ind'] = [1 if x < 0.05 else 0 for x in Med_40_p_mm_summary[4]]\n",
    "\n",
    "Hi_30_p_mm_summary['Mrk-Rf Ind'] = [1 if x < 0.05 else 0 for x in Hi_30_p_mm_summary[0]]\n",
    "Hi_30_p_mm_summary['SMB Ind'] = [1 if x < 0.05 else 0 for x in Hi_30_p_mm_summary[1]]\n",
    "Hi_30_p_mm_summary['HML Ind'] = [1 if x < 0.05 else 0 for x in Hi_30_p_mm_summary[2]]\n",
    "Hi_30_p_mm_summary['RMW Ind'] = [1 if x < 0.05 else 0 for x in Hi_30_p_mm_summary[3]]\n",
    "Hi_30_p_mm_summary['CMA Ind'] = [1 if x < 0.05 else 0 for x in Hi_30_p_mm_summary[4]]\n"
   ]
  },
  {
   "cell_type": "code",
   "execution_count": null,
   "metadata": {
    "collapsed": true
   },
   "outputs": [],
   "source": [
    "signperc_lo30_mm = lo_30_p_mm_summary.iloc[:,5:10].sum(axis = 0)/len(lo_30_p_mm_summary)\n",
    "signperc_Med40_mm = Med_40_p_mm_summary.iloc[:,5:10].sum(axis = 0)/len(Med_40_p_mm_summary)\n",
    "signperc_Hi30_mm = Hi_30_p_mm_summary.iloc[:,5:10].sum(axis = 0)/len(Hi_30_p_mm_summary)"
   ]
  },
  {
   "cell_type": "code",
   "execution_count": null,
   "metadata": {
    "collapsed": true
   },
   "outputs": [],
   "source": [
    "signperc_mm_summary = pd.concat([signperc_lo30_mm,signperc_Med40_mm,signperc_Hi30_mm], axis=1)\n",
    "signperc_mm_summary.columns = ['Lo 30', 'Med 40', 'Hi 30']"
   ]
  },
  {
   "cell_type": "code",
   "execution_count": null,
   "metadata": {
    "collapsed": false
   },
   "outputs": [],
   "source": [
    "plt.close()\n",
    "plt.figure(figsize=(3.5, 5), dpi= 80, facecolor='w', edgecolor='k')\n",
    "sns.heatmap(signperc_mm_summary,annot=True)\n",
    "plt.title('Percentage of Significant Occurance - Regression with Monthly Return')\n",
    "plt.show()"
   ]
  },
  {
   "cell_type": "code",
   "execution_count": null,
   "metadata": {
    "collapsed": true
   },
   "outputs": [],
   "source": []
  },
  {
   "cell_type": "code",
   "execution_count": null,
   "metadata": {},
   "outputs": [],
   "source": []
  }
 ],
 "metadata": {
  "kernelspec": {
   "display_name": "Python 3",
   "language": "python",
   "name": "python3"
  },
  "language_info": {
   "codemirror_mode": {
    "name": "ipython",
    "version": 3
   },
   "file_extension": ".py",
   "mimetype": "text/x-python",
   "name": "python",
   "nbconvert_exporter": "python",
   "pygments_lexer": "ipython3",
   "version": "3.5.6"
  }
 },
 "nbformat": 4,
 "nbformat_minor": 2
}
