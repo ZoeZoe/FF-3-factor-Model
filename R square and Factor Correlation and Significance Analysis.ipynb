{
 "cells": [
  {
   "cell_type": "code",
   "execution_count": 1,
   "metadata": {
    "collapsed": true
   },
   "outputs": [],
   "source": [
    "import statsmodels.api as sm #for OLS regression\n",
    "import numpy as np\n",
    "import pandas as pd\n",
    "from pandas import DataFrame\n",
    "import matplotlib.pyplot as plt #for heatmap plotting\n",
    "from mpl_toolkits.mplot3d import Axes3D\n",
    "import seaborn as sns #for heatmap plotting\n",
    "from statsmodels.iolib.summary2 import summary_col #to summarize multiple regressions in one table\n",
    "from datetime import date\n",
    "from dateutil.relativedelta import relativedelta\n",
    "import math\n",
    "from scipy import stats\n",
    "import time\n",
    "from tqdm import tqdm\n",
    "from itertools import product\n",
    "import multiprocessing\n",
    "import sys"
   ]
  },
  {
   "cell_type": "code",
   "execution_count": 2,
   "metadata": {
    "collapsed": true
   },
   "outputs": [],
   "source": [
    "####################  1. Regression with Daily Return   ###################################"
   ]
  },
  {
   "cell_type": "markdown",
   "metadata": {},
   "source": [
    "### data"
   ]
  },
  {
   "cell_type": "code",
   "execution_count": 3,
   "metadata": {
    "collapsed": false
   },
   "outputs": [],
   "source": [
    "#pf_size = pd.read_csv('C:/Users/yz2991/Desktop/Portfolios_Formed_on_ME_daily.csv')\n",
    "#ff5 = pd.read_csv('C:/Users/yz2991/Desktop/F-F_Research_Data_5_Factors_2x3_daily.csv')\n",
    "pf_size = pd.read_csv('data/Portfolios_Formed_on_ME_daily.csv')\n",
    "ff5 = pd.read_csv('data/F-F_Research_Data_5_Factors_2x3_daily.csv')"
   ]
  },
  {
   "cell_type": "code",
   "execution_count": 4,
   "metadata": {
    "collapsed": true
   },
   "outputs": [
    {
     "data": {
      "text/html": [
       "<div>\n",
       "<style scoped>\n",
       "    .dataframe tbody tr th:only-of-type {\n",
       "        vertical-align: middle;\n",
       "    }\n",
       "\n",
       "    .dataframe tbody tr th {\n",
       "        vertical-align: top;\n",
       "    }\n",
       "\n",
       "    .dataframe thead th {\n",
       "        text-align: right;\n",
       "    }\n",
       "</style>\n",
       "<table border=\"1\" class=\"dataframe\">\n",
       "  <thead>\n",
       "    <tr style=\"text-align: right;\">\n",
       "      <th></th>\n",
       "      <th>Unnamed: 0</th>\n",
       "      <th>&lt;= 0</th>\n",
       "      <th>Lo 30</th>\n",
       "      <th>Med 40</th>\n",
       "      <th>Hi 30</th>\n",
       "      <th>Lo 20</th>\n",
       "      <th>Qnt 2</th>\n",
       "      <th>Qnt 3</th>\n",
       "      <th>Qnt 4</th>\n",
       "      <th>Hi 20</th>\n",
       "      <th>Lo 10</th>\n",
       "      <th>2-Dec</th>\n",
       "      <th>3-Dec</th>\n",
       "      <th>4-Dec</th>\n",
       "      <th>5-Dec</th>\n",
       "      <th>6-Dec</th>\n",
       "      <th>7-Dec</th>\n",
       "      <th>8-Dec</th>\n",
       "      <th>9-Dec</th>\n",
       "      <th>Hi 10</th>\n",
       "    </tr>\n",
       "  </thead>\n",
       "  <tbody>\n",
       "    <tr>\n",
       "      <th>0</th>\n",
       "      <td>19630701.0</td>\n",
       "      <td>-99.99</td>\n",
       "      <td>-0.58</td>\n",
       "      <td>-0.54</td>\n",
       "      <td>-0.67</td>\n",
       "      <td>-0.61</td>\n",
       "      <td>-0.69</td>\n",
       "      <td>-0.47</td>\n",
       "      <td>-0.56</td>\n",
       "      <td>-0.68</td>\n",
       "      <td>-0.64</td>\n",
       "      <td>-0.58</td>\n",
       "      <td>-0.54</td>\n",
       "      <td>-0.81</td>\n",
       "      <td>-0.55</td>\n",
       "      <td>-0.41</td>\n",
       "      <td>-0.52</td>\n",
       "      <td>-0.59</td>\n",
       "      <td>-0.69</td>\n",
       "      <td>-0.68</td>\n",
       "    </tr>\n",
       "    <tr>\n",
       "      <th>1</th>\n",
       "      <td>19630702.0</td>\n",
       "      <td>-99.99</td>\n",
       "      <td>0.44</td>\n",
       "      <td>0.59</td>\n",
       "      <td>0.85</td>\n",
       "      <td>0.50</td>\n",
       "      <td>0.62</td>\n",
       "      <td>0.54</td>\n",
       "      <td>0.72</td>\n",
       "      <td>0.85</td>\n",
       "      <td>0.38</td>\n",
       "      <td>0.62</td>\n",
       "      <td>0.33</td>\n",
       "      <td>0.86</td>\n",
       "      <td>0.50</td>\n",
       "      <td>0.56</td>\n",
       "      <td>0.55</td>\n",
       "      <td>0.82</td>\n",
       "      <td>0.65</td>\n",
       "      <td>0.89</td>\n",
       "    </tr>\n",
       "    <tr>\n",
       "      <th>2</th>\n",
       "      <td>19630703.0</td>\n",
       "      <td>-99.99</td>\n",
       "      <td>0.55</td>\n",
       "      <td>0.58</td>\n",
       "      <td>0.65</td>\n",
       "      <td>0.52</td>\n",
       "      <td>0.57</td>\n",
       "      <td>0.62</td>\n",
       "      <td>0.62</td>\n",
       "      <td>0.65</td>\n",
       "      <td>0.41</td>\n",
       "      <td>0.63</td>\n",
       "      <td>0.61</td>\n",
       "      <td>0.54</td>\n",
       "      <td>0.40</td>\n",
       "      <td>0.78</td>\n",
       "      <td>0.56</td>\n",
       "      <td>0.66</td>\n",
       "      <td>0.63</td>\n",
       "      <td>0.65</td>\n",
       "    </tr>\n",
       "    <tr>\n",
       "      <th>3</th>\n",
       "      <td>19630705.0</td>\n",
       "      <td>-99.99</td>\n",
       "      <td>0.33</td>\n",
       "      <td>0.34</td>\n",
       "      <td>0.43</td>\n",
       "      <td>0.41</td>\n",
       "      <td>0.29</td>\n",
       "      <td>0.37</td>\n",
       "      <td>0.29</td>\n",
       "      <td>0.44</td>\n",
       "      <td>0.36</td>\n",
       "      <td>0.48</td>\n",
       "      <td>0.18</td>\n",
       "      <td>0.39</td>\n",
       "      <td>0.41</td>\n",
       "      <td>0.34</td>\n",
       "      <td>0.29</td>\n",
       "      <td>0.29</td>\n",
       "      <td>0.31</td>\n",
       "      <td>0.47</td>\n",
       "    </tr>\n",
       "    <tr>\n",
       "      <th>4</th>\n",
       "      <td>19630708.0</td>\n",
       "      <td>-99.99</td>\n",
       "      <td>-0.43</td>\n",
       "      <td>-0.53</td>\n",
       "      <td>-0.63</td>\n",
       "      <td>-0.35</td>\n",
       "      <td>-0.74</td>\n",
       "      <td>-0.62</td>\n",
       "      <td>-0.36</td>\n",
       "      <td>-0.66</td>\n",
       "      <td>-0.47</td>\n",
       "      <td>-0.22</td>\n",
       "      <td>-0.58</td>\n",
       "      <td>-0.86</td>\n",
       "      <td>-0.64</td>\n",
       "      <td>-0.60</td>\n",
       "      <td>-0.30</td>\n",
       "      <td>-0.39</td>\n",
       "      <td>-0.47</td>\n",
       "      <td>-0.70</td>\n",
       "    </tr>\n",
       "  </tbody>\n",
       "</table>\n",
       "</div>"
      ],
      "text/plain": [
       "   Unnamed: 0   <= 0  Lo 30  Med 40  Hi 30  Lo 20  Qnt 2  Qnt 3  Qnt 4  Hi 20  \\\n",
       "0  19630701.0 -99.99  -0.58   -0.54  -0.67  -0.61  -0.69  -0.47  -0.56  -0.68   \n",
       "1  19630702.0 -99.99   0.44    0.59   0.85   0.50   0.62   0.54   0.72   0.85   \n",
       "2  19630703.0 -99.99   0.55    0.58   0.65   0.52   0.57   0.62   0.62   0.65   \n",
       "3  19630705.0 -99.99   0.33    0.34   0.43   0.41   0.29   0.37   0.29   0.44   \n",
       "4  19630708.0 -99.99  -0.43   -0.53  -0.63  -0.35  -0.74  -0.62  -0.36  -0.66   \n",
       "\n",
       "   Lo 10  2-Dec  3-Dec  4-Dec  5-Dec  6-Dec  7-Dec  8-Dec  9-Dec  Hi 10  \n",
       "0  -0.64  -0.58  -0.54  -0.81  -0.55  -0.41  -0.52  -0.59  -0.69  -0.68  \n",
       "1   0.38   0.62   0.33   0.86   0.50   0.56   0.55   0.82   0.65   0.89  \n",
       "2   0.41   0.63   0.61   0.54   0.40   0.78   0.56   0.66   0.63   0.65  \n",
       "3   0.36   0.48   0.18   0.39   0.41   0.34   0.29   0.29   0.31   0.47  \n",
       "4  -0.47  -0.22  -0.58  -0.86  -0.64  -0.60  -0.30  -0.39  -0.47  -0.70  "
      ]
     },
     "execution_count": 4,
     "metadata": {},
     "output_type": "execute_result"
    }
   ],
   "source": [
    "pf_size.head()"
   ]
  },
  {
   "cell_type": "code",
   "execution_count": 5,
   "metadata": {
    "collapsed": true
   },
   "outputs": [
    {
     "data": {
      "text/html": [
       "<div>\n",
       "<style scoped>\n",
       "    .dataframe tbody tr th:only-of-type {\n",
       "        vertical-align: middle;\n",
       "    }\n",
       "\n",
       "    .dataframe tbody tr th {\n",
       "        vertical-align: top;\n",
       "    }\n",
       "\n",
       "    .dataframe thead th {\n",
       "        text-align: right;\n",
       "    }\n",
       "</style>\n",
       "<table border=\"1\" class=\"dataframe\">\n",
       "  <thead>\n",
       "    <tr style=\"text-align: right;\">\n",
       "      <th></th>\n",
       "      <th>Unnamed: 0</th>\n",
       "      <th>Mkt-RF</th>\n",
       "      <th>SMB</th>\n",
       "      <th>HML</th>\n",
       "      <th>RMW</th>\n",
       "      <th>CMA</th>\n",
       "      <th>RF</th>\n",
       "    </tr>\n",
       "  </thead>\n",
       "  <tbody>\n",
       "    <tr>\n",
       "      <th>0</th>\n",
       "      <td>19630701</td>\n",
       "      <td>-0.67</td>\n",
       "      <td>0.00</td>\n",
       "      <td>-0.32</td>\n",
       "      <td>-0.01</td>\n",
       "      <td>0.15</td>\n",
       "      <td>0.012</td>\n",
       "    </tr>\n",
       "    <tr>\n",
       "      <th>1</th>\n",
       "      <td>19630702</td>\n",
       "      <td>0.79</td>\n",
       "      <td>-0.27</td>\n",
       "      <td>0.27</td>\n",
       "      <td>-0.07</td>\n",
       "      <td>-0.19</td>\n",
       "      <td>0.012</td>\n",
       "    </tr>\n",
       "    <tr>\n",
       "      <th>2</th>\n",
       "      <td>19630703</td>\n",
       "      <td>0.63</td>\n",
       "      <td>-0.17</td>\n",
       "      <td>-0.09</td>\n",
       "      <td>0.17</td>\n",
       "      <td>-0.33</td>\n",
       "      <td>0.012</td>\n",
       "    </tr>\n",
       "    <tr>\n",
       "      <th>3</th>\n",
       "      <td>19630705</td>\n",
       "      <td>0.40</td>\n",
       "      <td>0.08</td>\n",
       "      <td>-0.28</td>\n",
       "      <td>0.08</td>\n",
       "      <td>-0.33</td>\n",
       "      <td>0.012</td>\n",
       "    </tr>\n",
       "    <tr>\n",
       "      <th>4</th>\n",
       "      <td>19630708</td>\n",
       "      <td>-0.63</td>\n",
       "      <td>0.04</td>\n",
       "      <td>-0.18</td>\n",
       "      <td>-0.29</td>\n",
       "      <td>0.13</td>\n",
       "      <td>0.012</td>\n",
       "    </tr>\n",
       "  </tbody>\n",
       "</table>\n",
       "</div>"
      ],
      "text/plain": [
       "   Unnamed: 0  Mkt-RF   SMB   HML   RMW   CMA     RF\n",
       "0    19630701   -0.67  0.00 -0.32 -0.01  0.15  0.012\n",
       "1    19630702    0.79 -0.27  0.27 -0.07 -0.19  0.012\n",
       "2    19630703    0.63 -0.17 -0.09  0.17 -0.33  0.012\n",
       "3    19630705    0.40  0.08 -0.28  0.08 -0.33  0.012\n",
       "4    19630708   -0.63  0.04 -0.18 -0.29  0.13  0.012"
      ]
     },
     "execution_count": 5,
     "metadata": {},
     "output_type": "execute_result"
    }
   ],
   "source": [
    "ff5.head()"
   ]
  },
  {
   "cell_type": "code",
   "execution_count": 6,
   "metadata": {
    "collapsed": true
   },
   "outputs": [],
   "source": [
    "pf_size.rename(columns = {'Unnamed: 0': 'YYMM'}, inplace = True)\n",
    "ff5.rename(columns = {'Unnamed: 0': 'YYMM'}, inplace = True)"
   ]
  },
  {
   "cell_type": "code",
   "execution_count": 7,
   "metadata": {
    "collapsed": false
   },
   "outputs": [
    {
     "name": "stdout",
     "output_type": "stream",
     "text": [
      "      <= 0  Lo 30  Med 40  Hi 30  Lo 20  Qnt 2  Qnt 3  Qnt 4  Hi 20  Lo 10  \\\n",
      "0 -100.002 -0.592  -0.552 -0.682 -0.622 -0.702 -0.482 -0.572 -0.692 -0.652   \n",
      "1 -100.002  0.428   0.578  0.838  0.488  0.608  0.528  0.708  0.838  0.368   \n",
      "2 -100.002  0.538   0.568  0.638  0.508  0.558  0.608  0.608  0.638  0.398   \n",
      "3 -100.002  0.318   0.328  0.418  0.398  0.278  0.358  0.278  0.428  0.348   \n",
      "4 -100.002 -0.442  -0.542 -0.642 -0.362 -0.752 -0.632 -0.372 -0.672 -0.482   \n",
      "\n",
      "   2-Dec  3-Dec  4-Dec  5-Dec  6-Dec  7-Dec  8-Dec  9-Dec  Hi 10  \n",
      "0 -0.592 -0.552 -0.822 -0.562 -0.422 -0.532 -0.602 -0.702 -0.692  \n",
      "1  0.608  0.318  0.848  0.488  0.548  0.538  0.808  0.638  0.878  \n",
      "2  0.618  0.598  0.528  0.388  0.768  0.548  0.648  0.618  0.638  \n",
      "3  0.468  0.168  0.378  0.398  0.328  0.278  0.278  0.298  0.458  \n",
      "4 -0.232 -0.592 -0.872 -0.652 -0.612 -0.312 -0.402 -0.482 -0.712  \n"
     ]
    }
   ],
   "source": [
    "pf_size_excess=(pf_size.iloc[:,1:pf_size.shape[1]]).sub(ff5.RF,axis=0)\n",
    "print(pf_size_excess.head())"
   ]
  },
  {
   "cell_type": "code",
   "execution_count": 8,
   "metadata": {
    "collapsed": false
   },
   "outputs": [
    {
     "name": "stdout",
     "output_type": "stream",
     "text": [
      "      <= 0  Lo 30  Med 40  Hi 30  Lo 20  Qnt 2  Qnt 3  Qnt 4  Hi 20  Lo 10  \\\n",
      "0 -100.002 -0.592  -0.552 -0.682 -0.622 -0.702 -0.482 -0.572 -0.692 -0.652   \n",
      "1 -100.002  0.428   0.578  0.838  0.488  0.608  0.528  0.708  0.838  0.368   \n",
      "2 -100.002  0.538   0.568  0.638  0.508  0.558  0.608  0.608  0.638  0.398   \n",
      "3 -100.002  0.318   0.328  0.418  0.398  0.278  0.358  0.278  0.428  0.348   \n",
      "4 -100.002 -0.442  -0.542 -0.642 -0.362 -0.752 -0.632 -0.372 -0.672 -0.482   \n",
      "\n",
      "   2-Dec  3-Dec  4-Dec  5-Dec  6-Dec  7-Dec  8-Dec  9-Dec  Hi 10       YYMM  \n",
      "0 -0.592 -0.552 -0.822 -0.562 -0.422 -0.532 -0.602 -0.702 -0.692 1963-07-01  \n",
      "1  0.608  0.318  0.848  0.488  0.548  0.538  0.808  0.638  0.878 1963-07-02  \n",
      "2  0.618  0.598  0.528  0.388  0.768  0.548  0.648  0.618  0.638 1963-07-03  \n",
      "3  0.468  0.168  0.378  0.398  0.328  0.278  0.278  0.298  0.458 1963-07-05  \n",
      "4 -0.232 -0.592 -0.872 -0.652 -0.612 -0.312 -0.402 -0.482 -0.712 1963-07-08  \n"
     ]
    }
   ],
   "source": [
    "ff5['YYMM'] = pd.to_datetime(ff5['YYMM'],yearfirst=True, format='%Y%m%d')\n",
    "pf_size_excess['YYMM'] = pd.to_datetime(pf_size['YYMM'],yearfirst=True, format='%Y%m%d')\n",
    "print(pf_size_excess.head())"
   ]
  },
  {
   "cell_type": "code",
   "execution_count": 9,
   "metadata": {
    "collapsed": true
   },
   "outputs": [],
   "source": [
    "ff5.index = ff5['YYMM']\n",
    "pf_size_excess.index = pf_size_excess['YYMM']\n",
    "ff5 = ff5.drop('YYMM', axis = 1)\n",
    "ff5 = ff5.drop('RF', axis = 1)\n",
    "# pf_size_excess = pf_size_excess.loc[:,['Lo 30','Med 40','Hi 30']]"
   ]
  },
  {
   "cell_type": "code",
   "execution_count": 10,
   "metadata": {
    "collapsed": false
   },
   "outputs": [
    {
     "name": "stdout",
     "output_type": "stream",
     "text": [
      "            Mkt-RF   SMB   HML   RMW   CMA\n",
      "YYMM                                      \n",
      "1963-07-01   -0.67  0.00 -0.32 -0.01  0.15\n",
      "1963-07-02    0.79 -0.27  0.27 -0.07 -0.19\n",
      "1963-07-03    0.63 -0.17 -0.09  0.17 -0.33\n",
      "1963-07-05    0.40  0.08 -0.28  0.08 -0.33\n",
      "1963-07-08   -0.63  0.04 -0.18 -0.29  0.13\n"
     ]
    }
   ],
   "source": [
    "print(ff5.head())"
   ]
  },
  {
   "cell_type": "markdown",
   "metadata": {},
   "source": [
    "### moving window"
   ]
  },
  {
   "cell_type": "code",
   "execution_count": 11,
   "metadata": {
    "collapsed": false
   },
   "outputs": [],
   "source": [
    "start = ff5.index[0]\n",
    "end = ff5.index[-1]\n",
    "n_day = end - start"
   ]
  },
  {
   "cell_type": "code",
   "execution_count": 12,
   "metadata": {
    "collapsed": false
   },
   "outputs": [
    {
     "data": {
      "text/plain": [
       "Timestamp('2019-05-31 00:00:00')"
      ]
     },
     "execution_count": 12,
     "metadata": {},
     "output_type": "execute_result"
    }
   ],
   "source": [
    "ff5.index[-1]"
   ]
  },
  {
   "cell_type": "code",
   "execution_count": 13,
   "metadata": {
    "collapsed": false
   },
   "outputs": [
    {
     "name": "stdout",
     "output_type": "stream",
     "text": [
      "20423\n",
      "(14075, 5)\n",
      "13950\n"
     ]
    }
   ],
   "source": [
    "print(n_day.days)\n",
    "print(ff5.shape)\n",
    "#because there are weekends and public holidays, we use every 126 records as a proxy of every 6-month window\\n\",\n",
    "#There are in total 14075 records, thus will have 14075 - 126 + 1 =  13950 windows\\n\",\n",
    "window = 126\n",
    "n_window = ff5.shape[0] - 126 + 1\n",
    "print(n_window)"
   ]
  },
  {
   "cell_type": "code",
   "execution_count": 14,
   "metadata": {
    "collapsed": false
   },
   "outputs": [
    {
     "data": {
      "text/html": [
       "<div>\n",
       "<style scoped>\n",
       "    .dataframe tbody tr th:only-of-type {\n",
       "        vertical-align: middle;\n",
       "    }\n",
       "\n",
       "    .dataframe tbody tr th {\n",
       "        vertical-align: top;\n",
       "    }\n",
       "\n",
       "    .dataframe thead th {\n",
       "        text-align: right;\n",
       "    }\n",
       "</style>\n",
       "<table border=\"1\" class=\"dataframe\">\n",
       "  <thead>\n",
       "    <tr style=\"text-align: right;\">\n",
       "      <th></th>\n",
       "      <th>Lo 30</th>\n",
       "      <th>Med 40</th>\n",
       "      <th>Hi 30</th>\n",
       "    </tr>\n",
       "    <tr>\n",
       "      <th>YYMM</th>\n",
       "      <th></th>\n",
       "      <th></th>\n",
       "      <th></th>\n",
       "    </tr>\n",
       "  </thead>\n",
       "  <tbody>\n",
       "    <tr>\n",
       "      <th>1963-07-01</th>\n",
       "      <td>-0.592</td>\n",
       "      <td>-0.552</td>\n",
       "      <td>-0.682</td>\n",
       "    </tr>\n",
       "    <tr>\n",
       "      <th>1963-07-02</th>\n",
       "      <td>0.428</td>\n",
       "      <td>0.578</td>\n",
       "      <td>0.838</td>\n",
       "    </tr>\n",
       "    <tr>\n",
       "      <th>1963-07-03</th>\n",
       "      <td>0.538</td>\n",
       "      <td>0.568</td>\n",
       "      <td>0.638</td>\n",
       "    </tr>\n",
       "    <tr>\n",
       "      <th>1963-07-05</th>\n",
       "      <td>0.318</td>\n",
       "      <td>0.328</td>\n",
       "      <td>0.418</td>\n",
       "    </tr>\n",
       "    <tr>\n",
       "      <th>1963-07-08</th>\n",
       "      <td>-0.442</td>\n",
       "      <td>-0.542</td>\n",
       "      <td>-0.642</td>\n",
       "    </tr>\n",
       "  </tbody>\n",
       "</table>\n",
       "</div>"
      ],
      "text/plain": [
       "            Lo 30  Med 40  Hi 30\n",
       "YYMM                            \n",
       "1963-07-01 -0.592  -0.552 -0.682\n",
       "1963-07-02  0.428   0.578  0.838\n",
       "1963-07-03  0.538   0.568  0.638\n",
       "1963-07-05  0.318   0.328  0.418\n",
       "1963-07-08 -0.442  -0.542 -0.642"
      ]
     },
     "execution_count": 14,
     "metadata": {},
     "output_type": "execute_result"
    }
   ],
   "source": [
    "#To run OLS on a 6-month rolling window basis. The logic of this loop is to run the rolling window regressions \\n\",\n",
    "#for each of the 3 portfolios. That is, the first 13950 models are for the portfolio Lo 30,\\n\",\n",
    "#the next 13950 models are for the portfolio Med 40\\n\",\n",
    "pf_3 = pf_size_excess.loc[:,['Lo 30','Med 40','Hi 30']]\n",
    "pf_3.head()"
   ]
  },
  {
   "cell_type": "code",
   "execution_count": 15,
   "metadata": {
    "collapsed": false
   },
   "outputs": [],
   "source": [
    "pf_size_excess_3_5_10 = pf_size_excess.iloc[:-4,1:-1]"
   ]
  },
  {
   "cell_type": "code",
   "execution_count": 46,
   "metadata": {
    "collapsed": false
   },
   "outputs": [
    {
     "data": {
      "text/plain": [
       "DatetimeIndex(['1963-07-01', '1963-07-02', '1963-07-03', '1963-07-05',\n",
       "               '1963-07-08', '1963-07-09', '1963-07-10', '1963-07-11',\n",
       "               '1963-07-12', '1963-07-15',\n",
       "               ...\n",
       "               '2019-05-17', '2019-05-20', '2019-05-21', '2019-05-22',\n",
       "               '2019-05-23', '2019-05-24', '2019-05-28', '2019-05-29',\n",
       "               '2019-05-30', '2019-05-31'],\n",
       "              dtype='datetime64[ns]', name='YYMM', length=14075, freq=None)"
      ]
     },
     "execution_count": 46,
     "metadata": {},
     "output_type": "execute_result"
    }
   ],
   "source": [
    "ff5.index"
   ]
  },
  {
   "cell_type": "code",
   "execution_count": 19,
   "metadata": {
    "collapsed": false
   },
   "outputs": [
    {
     "data": {
      "text/plain": [
       "['Lo 30',\n",
       " 'Med 40',\n",
       " 'Hi 30',\n",
       " 'Lo 20',\n",
       " 'Qnt 2',\n",
       " 'Qnt 3',\n",
       " 'Qnt 4',\n",
       " 'Hi 20',\n",
       " 'Lo 10',\n",
       " '2-Dec',\n",
       " '3-Dec',\n",
       " '4-Dec',\n",
       " '5-Dec',\n",
       " '6-Dec',\n",
       " '7-Dec',\n",
       " '8-Dec',\n",
       " '9-Dec',\n",
       " 'Hi 10']"
      ]
     },
     "execution_count": 19,
     "metadata": {},
     "output_type": "execute_result"
    }
   ],
   "source": [
    "start_dates = []\n",
    "targets = list(pf_size_excess_3_5_10.columns)\n",
    "targets"
   ]
  },
  {
   "cell_type": "code",
   "execution_count": 23,
   "metadata": {
    "collapsed": false
   },
   "outputs": [],
   "source": [
    "def reg_i(startIdx_targets):\n",
    "    start_idx = startIdx_targets[0]\n",
    "    target = startIdx_targets[1]\n",
    "    window_size = 126\n",
    "    x = ff5.iloc[start_idx: start_idx+window-1, :]\n",
    "    y = pf_size_excess_3_5_10.iloc[start_idx: start_idx+window-1, :][[target]]\n",
    "    reg = sm.OLS(y, x)\n",
    "    return reg.fit()"
   ]
  },
  {
   "cell_type": "code",
   "execution_count": 24,
   "metadata": {
    "collapsed": false
   },
   "outputs": [],
   "source": [
    "import multiprocessing\n",
    "from itertools import product\n",
    "\n",
    "targets = list(pf_size_excess_3_5_10.columns)\n",
    "indices = range(n_window-window)\n",
    "args_ = list(product(indices, targets))\n",
    "type(args_)"
   ]
  },
  {
   "cell_type": "code",
   "execution_count": 26,
   "metadata": {
    "collapsed": false
   },
   "outputs": [
    {
     "name": "stderr",
     "output_type": "stream",
     "text": [
      "processing individual names 99.953382%"
     ]
    },
    {
     "name": "stdout",
     "output_type": "stream",
     "text": [
      "255.4633710384369\n"
     ]
    },
    {
     "name": "stderr",
     "output_type": "stream",
     "text": [
      "processing individual names 99.999598%"
     ]
    }
   ],
   "source": [
    "start_ = time.time()\n",
    "res_dict = {}\n",
    "with multiprocessing.Pool() as pool:\n",
    "    for idx, ret in enumerate(pool.imap_unordered(reg_i, args_)):\n",
    "        res_dict[args_[idx]] = ret\n",
    "        sys.stderr.write('\\rprocessing individual names {0:%}'.format(idx / (len(args_))))\n",
    "print(time.time() - start_)"
   ]
  },
  {
   "cell_type": "code",
   "execution_count": 28,
   "metadata": {
    "collapsed": false
   },
   "outputs": [],
   "source": [
    "start_ = time.time()"
   ]
  },
  {
   "cell_type": "code",
   "execution_count": null,
   "metadata": {
    "collapsed": false
   },
   "outputs": [],
   "source": [
    "res_dict.keys()"
   ]
  },
  {
   "cell_type": "code",
   "execution_count": 32,
   "metadata": {
    "collapsed": false
   },
   "outputs": [
    {
     "name": "stdout",
     "output_type": "stream",
     "text": [
      "126\n",
      "13950\n",
      "Index(['Lo 30', 'Med 40', 'Hi 30'], dtype='object')\n"
     ]
    }
   ],
   "source": [
    "print(window)\n",
    "window_nm = []\n",
    "for i in range(n_window):\n",
    "    nm = ff5.index[i+int(window/2)]\n",
    "    window_nm.append(nm)\n",
    "print(len(window_nm))\n",
    "portfolio_nm_3 = pf_size_excess.columns[1:4]\n",
    "print(portfolio_nm_3)"
   ]
  },
  {
   "cell_type": "code",
   "execution_count": 35,
   "metadata": {
    "collapsed": false
   },
   "outputs": [],
   "source": [
    "all_keys = res_dict.keys()"
   ]
  },
  {
   "cell_type": "code",
   "execution_count": 98,
   "metadata": {
    "collapsed": false
   },
   "outputs": [],
   "source": [
    "Rsquare_3_pf = {}\n",
    "\n",
    "for target in ['Lo 30', 'Med 40', 'Hi 30']:\n",
    "    rsquare_dict = {}\n",
    "    target_keys = sorted([x for x in all_keys if x[1]==target])\n",
    "    for key_ in target_keys:\n",
    "        rsquare_dict[ff5.index[key_[0]]] = res_dict[key_].rsquared\n",
    "    \n",
    "    df = pd.DataFrame(data = rsquare_dict, index=[0]).T\n",
    "    df.index.name = 'date'\n",
    "    df.columns =['rsquared']\n",
    "    Rsquare_3_pf[target] = df"
   ]
  },
  {
   "cell_type": "code",
   "execution_count": 88,
   "metadata": {
    "collapsed": false
   },
   "outputs": [],
   "source": [
    "df = pd.DataFrame(data = rsquare_dict, index=[0]).T"
   ]
  },
  {
   "cell_type": "code",
   "execution_count": 94,
   "metadata": {
    "collapsed": false
   },
   "outputs": [],
   "source": [
    "df.index.name = 'date'\n",
    "df.columns =['rsquared']"
   ]
  },
  {
   "cell_type": "code",
   "execution_count": 101,
   "metadata": {
    "collapsed": false
   },
   "outputs": [],
   "source": [
    "Rsquare_5_pf = {}\n",
    "\n",
    "for target in ['Lo 20',  'Qnt 2',  'Qnt 3',  'Qnt 4', 'Hi 20']:\n",
    "    rsquare_dict = {}\n",
    "    target_keys = sorted([x for x in all_keys if x[1]==target])\n",
    "    for key_ in target_keys:\n",
    "        rsquare_dict[ff5.index[key_[0]]] = res_dict[key_].rsquared\n",
    "\n",
    "    \n",
    "    df = pd.DataFrame(data = rsquare_dict, index=[0]).T\n",
    "    df.index.name = 'date'\n",
    "    df.columns =['rsquared']\n",
    "    Rsquare_5_pf[target] = df"
   ]
  },
  {
   "cell_type": "code",
   "execution_count": 102,
   "metadata": {
    "collapsed": false
   },
   "outputs": [],
   "source": [
    "Rsquare_10_pf = {}\n",
    "\n",
    "for target in ['Lo 10', '2-Dec', '3-Dec', '4-Dec', '5-Dec', '6-Dec', '7-Dec', '8-Dec', '9-Dec', 'Hi 10']:\n",
    "    rsquare_dict = {}\n",
    "    target_keys = sorted([x for x in all_keys if x[1]==target])\n",
    "    for key_ in target_keys:\n",
    "        rsquare_dict[ff5.index[key_[0]]] = res_dict[key_].rsquared\n",
    "\n",
    "    \n",
    "    df = pd.DataFrame(data = rsquare_dict, index=[0]).T\n",
    "    df.index.name = 'date'\n",
    "    df.columns =['rsquared']\n",
    "    Rsquare_10_pf[target] = df"
   ]
  },
  {
   "cell_type": "code",
   "execution_count": 104,
   "metadata": {
    "collapsed": false,
    "scrolled": true
   },
   "outputs": [
    {
     "name": "stderr",
     "output_type": "stream",
     "text": [
      "/home/whan/miniconda3/envs/eqai/lib/python3.5/site-packages/pandas/plotting/_converter.py:129: FutureWarning: Using an implicitly registered datetime converter for a matplotlib plotting method. The converter was registered by pandas on import. Future versions of pandas will require you to explicitly register matplotlib converters.\n",
      "\n",
      "To register the converters:\n",
      "\t>>> from pandas.plotting import register_matplotlib_converters\n",
      "\t>>> register_matplotlib_converters()\n",
      "  warnings.warn(msg, FutureWarning)\n"
     ]
    },
    {
     "data": {
      "image/png": "[encoded data removed]",
      "text/plain": [
       "<Figure size 1440x320 with 3 Axes>"
      ]
     },
     "metadata": {},
     "output_type": "display_data"
    }
   ],
   "source": [
    "fig=plt.figure(figsize=(18, 4), dpi= 80, facecolor='w', edgecolor='k')\n",
    "plt.subplot(1, 3, 1)\n",
    "for target in ['Lo 30','Med 40','Hi 30']:\n",
    "    plt.plot(Rsquare_3_pf[target],label=target,alpha=0.8)\n",
    "\n",
    "plt.legend(loc='lower right')\n",
    "plt.ylim([0.4, 1.1])\n",
    "plt.title('R-squared of 3 Size Portfolios with Daily Returns')\n",
    "plt.xlabel('Year')\n",
    "plt.ylabel('R-Squared')\n",
    "\n",
    "plt.subplot(1, 3, 2)\n",
    "for target in ['Lo 20',  'Qnt 2',  'Qnt 3',  'Qnt 4', 'Hi 20']:\n",
    "    plt.plot(Rsquare_5_pf[target],label=target,alpha=0.8)\n",
    "\n",
    "plt.legend(loc='lower right')\n",
    "plt.ylim([0.4,1.1])\n",
    "plt.title('R-squared of 5 Size Portfolios with Daily Returns')\n",
    "plt.xlabel('Year')\n",
    "plt.ylabel('R-Squared')\n",
    "\n",
    "plt.subplot(1, 3, 3)\n",
    "for target in ['Lo 10', '2-Dec', '3-Dec', '4-Dec', '5-Dec', '6-Dec', '7-Dec', '8-Dec', '9-Dec', 'Hi 10']:\n",
    "    plt.plot(Rsquare_10_pf[target],label=target,alpha=0.8)\n",
    "plt.legend(loc='lower right')\n",
    "plt.ylim([0.4, 1.1])\n",
    "plt.title('R-squared of 10 Size Portfolios with Daily Returns')\n",
    "plt.xlabel('Year')\n",
    "plt.ylabel('R-Squared')\n",
    "\n",
    "plt.show()"
   ]
  },
  {
   "cell_type": "code",
   "execution_count": null,
   "metadata": {
    "collapsed": true
   },
   "outputs": [],
   "source": [
    "####################  2. Regression with Monthly Return   ###################################"
   ]
  },
  {
   "cell_type": "code",
   "execution_count": null,
   "metadata": {
    "collapsed": true
   },
   "outputs": [],
   "source": [
    "#pf_size_mm = pd.read_csv('C:/Users/yz2991/Desktop/Portfolios_Formed_on_ME_monthly.csv')\n",
    "#ff5_mm = pd.read_csv('C:/Users/yz2991/Desktop/F-F_Research_Data_5_Factors_2x3_monthly.csv')\n",
    "\n",
    "pf_size_mm = pd.read_csv('data/Portfolios_Formed_on_ME_monthly.csv')\n",
    "ff5_mm = pd.read_csv('data/F-F_Research_Data_5_Factors_2x3_monthly.csv')\n"
   ]
  },
  {
   "cell_type": "code",
   "execution_count": null,
   "metadata": {
    "collapsed": false
   },
   "outputs": [],
   "source": [
    "print(pf_size_mm.tail())"
   ]
  },
  {
   "cell_type": "code",
   "execution_count": null,
   "metadata": {
    "collapsed": false
   },
   "outputs": [],
   "source": [
    "pf_size_mm.rename(columns = {'Unnamed: 0': 'YYMM'}, inplace = True)\n",
    "ff5_mm.rename(columns = {'Unnamed: 0': 'YYMM'}, inplace = True)"
   ]
  },
  {
   "cell_type": "code",
   "execution_count": null,
   "metadata": {
    "collapsed": true
   },
   "outputs": [],
   "source": [
    "pf_size_excess_mm=(pf_size_mm.iloc[:,1:pf_size_mm.shape[1]]).sub(ff5_mm.RF,axis=0)"
   ]
  },
  {
   "cell_type": "code",
   "execution_count": null,
   "metadata": {
    "collapsed": false
   },
   "outputs": [],
   "source": [
    "ff5_mm['YYMM'] = pd.to_datetime(ff5_mm['YYMM'],yearfirst=True, format='%Y%m')\n",
    "pf_size_excess_mm['YYMM'] = pd.to_datetime(pf_size_mm['YYMM'],yearfirst=True, format='%Y%m')"
   ]
  },
  {
   "cell_type": "code",
   "execution_count": null,
   "metadata": {
    "collapsed": false
   },
   "outputs": [],
   "source": [
    "print(pf_size_excess_mm.tail())"
   ]
  },
  {
   "cell_type": "code",
   "execution_count": null,
   "metadata": {
    "collapsed": true
   },
   "outputs": [],
   "source": [
    "ff5_mm.index = ff5_mm['YYMM']\n",
    "pf_size_excess_mm.index = pf_size_excess_mm['YYMM']\n",
    "ff5_mm = ff5_mm.drop('YYMM', axis = 1)\n",
    "ff5_mm = ff5_mm.drop('RF', axis = 1)"
   ]
  },
  {
   "cell_type": "code",
   "execution_count": null,
   "metadata": {
    "collapsed": false
   },
   "outputs": [],
   "source": [
    "#use 10 year window (number of obs will be close to daily models with half-year window)\n",
    "start_mm = ff5_mm.index[0]\n",
    "end_mm = ff5_mm.index[ff5_mm.shape[0]-1]\n",
    "n_month = end_mm - start_mm\n",
    "print(ff5_mm.shape[0])\n",
    "window_mm = 120\n",
    "n_window_mm = ff5_mm.shape[0] - window_mm + 1\n",
    "print(n_window_mm)\n",
    "print(end_mm)"
   ]
  },
  {
   "cell_type": "code",
   "execution_count": null,
   "metadata": {
    "collapsed": false
   },
   "outputs": [],
   "source": [
    "print(window_mm)\n",
    "window_nm_month = []\n",
    "for i in range(n_window_mm):\n",
    "    nm = ff5_mm.index[i+int(window_mm/2)]\n",
    "    window_nm_month.append(nm)\n",
    "print(len(window_nm_month))\n",
    "portfolio_nm_3 = pf_size_excess.columns[1:4]\n",
    "print(portfolio_nm_3)"
   ]
  },
  {
   "cell_type": "code",
   "execution_count": null,
   "metadata": {
    "collapsed": false
   },
   "outputs": [],
   "source": [
    "#To run OLS on a 120-month rolling window basis. The logic of this loop is to run the rolling window regressions \\n\",\n",
    "#for each of the 3 portfolios. That is, the first 552 models are for the portfolio Lo 30,\\n\",\n",
    "#the next 552 models are for the portfolio Med 40\\n\",\n",
    "pf_3_mm = pf_size_excess_mm.loc[:,['Lo 30','Med 40','Hi 30']]\n",
    "models_3_pf_mm = []\n",
    "for i in range (3):\n",
    "    for m in range(n_window_mm):\n",
    "        \n",
    "        t0 = ff5_mm.index[0+m]\n",
    "        if ff5_mm.index[0+m+window_mm-1] < end_mm:\n",
    "            t1 = ff5_mm.index[0+m+window_mm-1]\n",
    "        else:\n",
    "            t1 = end_mm\n",
    "        \n",
    "        x = ff5_mm[t0:t1]\n",
    "        x = sm.add_constant(x)\n",
    "        y = pf_3_mm[t0:t1]\n",
    "        reg = sm.OLS(y.iloc[:,i], x)   \n",
    "        models_3_pf_mm.append(reg.fit())\n",
    "    "
   ]
  },
  {
   "cell_type": "code",
   "execution_count": null,
   "metadata": {
    "collapsed": true
   },
   "outputs": [],
   "source": [
    "Rsquare_3_pf_mm = {}\n",
    "for i in range(3):\n",
    "    x = []\n",
    "    for n in range(n_window_mm):  \n",
    "        x.append(models_3_pf_mm[i*n_window_mm +n].rsquared) \n",
    "    Rsquare_3_pf_mm[\"Portfoio{0}\".format(i)] = pd.Series(x,index = window_nm_month)"
   ]
  },
  {
   "cell_type": "code",
   "execution_count": null,
   "metadata": {
    "collapsed": true
   },
   "outputs": [],
   "source": [
    "#To run OLS on a 120-month rolling window basis. The logic of this loop is to run the rolling window regressions \\n\",\n",
    "#for each of the 3 portfolios. That is, the first 552 models are for the portfolio Lo 30,\\n\",\n",
    "#the next 552 models are for the portfolio Med 40\\n\",\n",
    "pf_5_mm = pf_size_excess_mm.loc[:,['Lo 20', 'Qnt 2', 'Qnt 3', 'Qnt 4', 'Hi 20']]\n",
    "models_5_pf_mm = []\n",
    "for i in range (5):\n",
    "    for m in range(n_window_mm):\n",
    "        \n",
    "        t0 = ff5_mm.index[0+m]\n",
    "        if ff5_mm.index[0+m+window_mm-1] < end_mm:\n",
    "            t1 = ff5_mm.index[0+m+window_mm-1]\n",
    "        else:\n",
    "            t1 = end_mm\n",
    "        \n",
    "        x = ff5_mm[t0:t1]\n",
    "        x = sm.add_constant(x)\n",
    "        y = pf_5_mm[t0:t1]\n",
    "        reg = sm.OLS(y.iloc[:,i], x)   \n",
    "        models_5_pf_mm.append(reg.fit())"
   ]
  },
  {
   "cell_type": "code",
   "execution_count": null,
   "metadata": {
    "collapsed": true
   },
   "outputs": [],
   "source": [
    "Rsquare_5_pf_mm = {}\n",
    "for i in range(5):\n",
    "    x = []\n",
    "    for n in range(n_window_mm):  \n",
    "        x.append(models_5_pf_mm[i*n_window_mm +n].rsquared) \n",
    "    Rsquare_5_pf_mm[\"Portfoio{0}\".format(i)] = pd.Series(x,index = window_nm_month)"
   ]
  },
  {
   "cell_type": "code",
   "execution_count": null,
   "metadata": {
    "collapsed": true
   },
   "outputs": [],
   "source": [
    "#To run OLS on a 120-month rolling window basis. The logic of this loop is to run the rolling window regressions \\n\",\n",
    "#for each of the 3 portfolios. That is, the first 552 models are for the portfolio Lo 30,\\n\",\n",
    "#the next 552 models are for the portfolio Med 40\\n\",\n",
    "pf_10_mm = pf_size_excess_mm.loc[:,['Lo 10', '2-Dec', '3-Dec','4-Dec', '5-Dec', '6-Dec', '7-Dec', '8-Dec','9-Dec', 'Hi 10']]\n",
    "models_10_pf_mm = []\n",
    "for i in range (10):\n",
    "    for m in range(n_window_mm):\n",
    "        \n",
    "        t0 = ff5_mm.index[0+m]\n",
    "        if ff5_mm.index[0+m+window_mm-1] < end_mm:\n",
    "            t1 = ff5_mm.index[0+m+window_mm-1]\n",
    "        else:\n",
    "            t1 = end_mm\n",
    "        \n",
    "        x = ff5_mm[t0:t1]\n",
    "        x = sm.add_constant(x)\n",
    "        y = pf_10_mm[t0:t1]\n",
    "        reg = sm.OLS(y.iloc[:,i], x)   \n",
    "        models_10_pf_mm.append(reg.fit())"
   ]
  },
  {
   "cell_type": "code",
   "execution_count": null,
   "metadata": {
    "collapsed": true
   },
   "outputs": [],
   "source": [
    "Rsquare_10_pf_mm = {}\n",
    "for i in range(10):\n",
    "    x = []\n",
    "    for n in range(n_window_mm):  \n",
    "        x.append(models_10_pf_mm[i*n_window_mm +n].rsquared) \n",
    "    Rsquare_10_pf_mm[\"Portfoio{0}\".format(i)] = pd.Series(x,index = window_nm_month)"
   ]
  },
  {
   "cell_type": "code",
   "execution_count": null,
   "metadata": {
    "collapsed": true
   },
   "outputs": [],
   "source": []
  },
  {
   "cell_type": "code",
   "execution_count": null,
   "metadata": {
    "collapsed": false
   },
   "outputs": [],
   "source": [
    "fig=plt.figure(figsize=(18, 4), dpi= 80, facecolor='w', edgecolor='k')\n",
    "plt.subplot(1, 3, 1)\n",
    "plt.plot(Rsquare_3_pf_mm['Portfoio0'],label=\"Lo 30\",alpha=0.8)\n",
    "plt.plot(Rsquare_3_pf_mm['Portfoio1'],label=\"Med 40\",alpha=0.8)\n",
    "plt.plot(Rsquare_3_pf_mm['Portfoio2'],label=\"Hi 30\",alpha=0.8)\n",
    "plt.legend(loc='lower right')\n",
    "plt.ylim([0.48,1.02])\n",
    "plt.xlim([\"1963\",\"2022\"])\n",
    "plt.title('R-squared of 3 Size Portfolios with Monthly Returns')\n",
    "plt.xlabel('Year')\n",
    "plt.ylabel('R-Squared')\n",
    "plt.xticks(rotation=90)\n",
    "\n",
    "plt.subplot(1, 3, 2)\n",
    "plt.plot(Rsquare_5_pf_mm['Portfoio0'],label=\"Lo 20\",alpha=0.8)\n",
    "plt.plot(Rsquare_5_pf_mm['Portfoio1'],label=\"Qnt 2\",alpha=0.8)\n",
    "plt.plot(Rsquare_5_pf_mm['Portfoio2'],label=\"Qnt 3\",alpha=0.8)\n",
    "plt.plot(Rsquare_5_pf_mm['Portfoio3'],label=\"Qnt 4\",alpha=0.8)\n",
    "plt.plot(Rsquare_5_pf_mm['Portfoio4'],label=\"Hi 20\",alpha=0.8)\n",
    "plt.legend(loc='lower right')\n",
    "plt.ylim([0.48,1.02])\n",
    "plt.title('R-squared of 5 Size Portfolios with Monthly Returns')\n",
    "plt.xlabel('Year')\n",
    "plt.ylabel('R-Squared')\n",
    "plt.xticks(rotation=90)\n",
    "\n",
    "plt.subplot(1, 3, 3)\n",
    "plt.plot(Rsquare_10_pf_mm['Portfoio0'],label=\"Lo 10\",alpha=0.8)\n",
    "plt.plot(Rsquare_10_pf_mm['Portfoio1'],label=\"2-Dec\",alpha=0.8)\n",
    "plt.plot(Rsquare_10_pf_mm['Portfoio2'],label=\"3-Dec\",alpha=0.8)\n",
    "plt.plot(Rsquare_10_pf_mm['Portfoio3'],label=\"4-Dec\",alpha=0.8)\n",
    "plt.plot(Rsquare_10_pf_mm['Portfoio4'],label=\"5-Dec\",alpha=0.8)\n",
    "plt.plot(Rsquare_10_pf_mm['Portfoio5'],label=\"6-Dec\",alpha=0.8)\n",
    "plt.plot(Rsquare_10_pf_mm['Portfoio6'],label=\"7-Dec\",alpha=0.8)\n",
    "plt.plot(Rsquare_10_pf_mm['Portfoio7'],label=\"8-Dec\",alpha=0.8)\n",
    "plt.plot(Rsquare_10_pf_mm['Portfoio8'],label=\"9-Dec\",alpha=0.8)\n",
    "plt.plot(Rsquare_10_pf_mm['Portfoio9'],label=\"Hi 10\",alpha=0.8)\n",
    "plt.legend(loc='lower right')\n",
    "plt.ylim([0.48,1.02])\n",
    "plt.title('R-squared of 10 Size Portfolios with Monthly Returns')\n",
    "plt.xlabel('Year')\n",
    "plt.ylabel('R-Squared')\n",
    "plt.xticks(rotation=90)\n",
    "\n",
    "plt.show()"
   ]
  },
  {
   "cell_type": "code",
   "execution_count": null,
   "metadata": {
    "collapsed": false
   },
   "outputs": [],
   "source": [
    "plt.figure(figsize=(30, 30), dpi= 180, facecolor='w', edgecolor='k')\n",
    "#plt.figure(figsize=(20,10))\n",
    "plt.subplots(2, 3, sharex=True, sharey=True)\n",
    "\n",
    "plt.subplot(2, 3, 4)\n",
    "plt.plot(Rsquare_3_pf['Portfoio0'],label=\"Lo 30\",alpha=0.8)\n",
    "plt.plot(Rsquare_3_pf['Portfoio1'],label=\"Med 40\",alpha=0.8)\n",
    "plt.plot(Rsquare_3_pf['Portfoio2'],label=\"Hi 30\",alpha=0.8)\n",
    "plt.legend(loc='lower right')\n",
    "plt.ylim([0.48,1.02])\n",
    "plt.title('R-squared of 3 Size Portfolios with Daily Returns')\n",
    "plt.xlabel('Year')\n",
    "plt.ylabel('R-Squared')\n",
    "\n",
    "plt.subplot(2, 3, 5)\n",
    "plt.plot(Rsquare_5_pf['Portfoio0'],label=\"Lo 20\",alpha=0.8)\n",
    "plt.plot(Rsquare_5_pf['Portfoio1'],label=\"Qnt 2\",alpha=0.8)\n",
    "plt.plot(Rsquare_5_pf['Portfoio2'],label=\"Qnt 3\",alpha=0.8)\n",
    "plt.plot(Rsquare_5_pf['Portfoio3'],label=\"Qnt 4\",alpha=0.8)\n",
    "plt.plot(Rsquare_5_pf['Portfoio4'],label=\"Hi 20\",alpha=0.8)\n",
    "plt.legend(loc='lower right')\n",
    "plt.ylim([0.48,1.02])\n",
    "plt.title('R-squared of 5 Size Portfolios with Daily Returns')\n",
    "plt.xlabel('Year')\n",
    "plt.ylabel('R-Squared')\n",
    "\n",
    "plt.subplot(2, 3, 6)\n",
    "plt.plot(Rsquare_10_pf['Portfoio0'],label=\"Lo 10\",alpha=0.8)\n",
    "plt.plot(Rsquare_10_pf['Portfoio1'],label=\"2-Dec\",alpha=0.8)\n",
    "plt.plot(Rsquare_10_pf['Portfoio2'],label=\"3-Dec\",alpha=0.8)\n",
    "plt.plot(Rsquare_10_pf['Portfoio3'],label=\"4-Dec\",alpha=0.8)\n",
    "plt.plot(Rsquare_10_pf['Portfoio4'],label=\"5-Dec\",alpha=0.8)\n",
    "plt.plot(Rsquare_10_pf['Portfoio5'],label=\"6-Dec\",alpha=0.8)\n",
    "plt.plot(Rsquare_10_pf['Portfoio6'],label=\"7-Dec\",alpha=0.8)\n",
    "plt.plot(Rsquare_10_pf['Portfoio7'],label=\"8-Dec\",alpha=0.8)\n",
    "plt.plot(Rsquare_10_pf['Portfoio8'],label=\"9-Dec\",alpha=0.8)\n",
    "plt.plot(Rsquare_10_pf['Portfoio9'],label=\"Hi 10\",alpha=0.8)\n",
    "plt.legend(loc='lower right')\n",
    "plt.ylim([0.48,1.02])\n",
    "plt.title('R-squared of 10 Size Portfolios with Daily Returns')\n",
    "plt.xlabel('Year')\n",
    "plt.ylabel('R-Squared')\n",
    "\n",
    "plt.subplot(2, 3, 1)\n",
    "plt.plot(Rsquare_3_pf_mm['Portfoio0'],label=\"Lo 30\",alpha=0.8)\n",
    "plt.plot(Rsquare_3_pf_mm['Portfoio1'],label=\"Med 40\",alpha=0.8)\n",
    "plt.plot(Rsquare_3_pf_mm['Portfoio2'],label=\"Hi 30\",alpha=0.8)\n",
    "plt.legend(loc='lower right')\n",
    "plt.ylim([0.48,1.02])\n",
    "plt.xlim([\"1963\",\"2022\"])\n",
    "plt.title('R-squared of 3 Size Portfolios with Monthly Returns')\n",
    "plt.xlabel('Year')\n",
    "plt.ylabel('R-Squared')\n",
    "plt.xticks(rotation=90)\n",
    "\n",
    "plt.subplot(2, 3, 2)\n",
    "plt.plot(Rsquare_5_pf_mm['Portfoio0'],label=\"Lo 20\",alpha=0.8)\n",
    "plt.plot(Rsquare_5_pf_mm['Portfoio1'],label=\"Qnt 2\",alpha=0.8)\n",
    "plt.plot(Rsquare_5_pf_mm['Portfoio2'],label=\"Qnt 3\",alpha=0.8)\n",
    "plt.plot(Rsquare_5_pf_mm['Portfoio3'],label=\"Qnt 4\",alpha=0.8)\n",
    "plt.plot(Rsquare_5_pf_mm['Portfoio4'],label=\"Hi 20\",alpha=0.8)\n",
    "plt.legend(loc='lower right')\n",
    "plt.ylim([0.48,1.02])\n",
    "plt.title('R-squared of 5 Size Portfolios with Monthly Returns')\n",
    "plt.xlabel('Year')\n",
    "plt.ylabel('R-Squared')\n",
    "plt.xticks(rotation=90)\n",
    "\n",
    "plt.subplot(2, 3, 3)\n",
    "plt.plot(Rsquare_10_pf_mm['Portfoio0'],label=\"Lo 10\",alpha=0.8)\n",
    "plt.plot(Rsquare_10_pf_mm['Portfoio1'],label=\"2-Dec\",alpha=0.8)\n",
    "plt.plot(Rsquare_10_pf_mm['Portfoio2'],label=\"3-Dec\",alpha=0.8)\n",
    "plt.plot(Rsquare_10_pf_mm['Portfoio3'],label=\"4-Dec\",alpha=0.8)\n",
    "plt.plot(Rsquare_10_pf_mm['Portfoio4'],label=\"5-Dec\",alpha=0.8)\n",
    "plt.plot(Rsquare_10_pf_mm['Portfoio5'],label=\"6-Dec\",alpha=0.8)\n",
    "plt.plot(Rsquare_10_pf_mm['Portfoio6'],label=\"7-Dec\",alpha=0.8)\n",
    "plt.plot(Rsquare_10_pf_mm['Portfoio7'],label=\"8-Dec\",alpha=0.8)\n",
    "plt.plot(Rsquare_10_pf_mm['Portfoio8'],label=\"9-Dec\",alpha=0.8)\n",
    "plt.plot(Rsquare_10_pf_mm['Portfoio9'],label=\"Hi 10\",alpha=0.8)\n",
    "plt.legend(loc='lower right')\n",
    "plt.ylim([0.48,1.02])\n",
    "plt.title('R-squared of 10 Size Portfolios with Monthly Returns')\n",
    "plt.xlabel('Year')\n",
    "plt.ylabel('R-Squared')\n",
    "plt.xticks(rotation=90)\n",
    "\n",
    "plt.show()"
   ]
  },
  {
   "cell_type": "code",
   "execution_count": null,
   "metadata": {
    "collapsed": false
   },
   "outputs": [],
   "source": [
    "plt.figure(figsize=(10,10))\n",
    "plt.plot(Rsquare_10_pf_mm['Portfoio0'],label=\"Lo 10\",alpha=0.8)\n",
    "plt.show()"
   ]
  },
  {
   "cell_type": "code",
   "execution_count": null,
   "metadata": {
    "collapsed": true
   },
   "outputs": [],
   "source": [
    "####################  3. Factor Correlations with Monthly Return   ###################################"
   ]
  },
  {
   "cell_type": "code",
   "execution_count": null,
   "metadata": {
    "collapsed": false
   },
   "outputs": [],
   "source": [
    "corr = ff5_mm.corr()"
   ]
  },
  {
   "cell_type": "code",
   "execution_count": null,
   "metadata": {
    "collapsed": false
   },
   "outputs": [],
   "source": [
    "print(corr)"
   ]
  },
  {
   "cell_type": "code",
   "execution_count": null,
   "metadata": {
    "collapsed": false
   },
   "outputs": [],
   "source": [
    "corr.iloc[1][4]\n",
    "\n",
    "Rsquare_5_pf_mm = {}\n",
    "for i in range(5):\n",
    "    x = []\n",
    "    for n in range(n_window_mm):  \n",
    "        x.append(models_5_pf_mm[i*n_window_mm +n].rsquared) \n",
    "    Rsquare_5_pf_mm[\"Portfoio{0}\".format(i)] = pd.Series(x,index = window_nm_month)"
   ]
  },
  {
   "cell_type": "code",
   "execution_count": null,
   "metadata": {
    "collapsed": false
   },
   "outputs": [],
   "source": [
    "correlation = []\n",
    "for m in range(n_window_mm):\n",
    "    t0 = ff5_mm.index[0+m]\n",
    "    if ff5_mm.index[0+m+window_mm-1] < end_mm:\n",
    "        t1 = ff5_mm.index[0+m+window_mm-1]\n",
    "    else:\n",
    "        t1 = end_mm\n",
    "    correlation.append(ff5_mm[t0:t1].corr())        "
   ]
  },
  {
   "cell_type": "code",
   "execution_count": null,
   "metadata": {
    "collapsed": false
   },
   "outputs": [],
   "source": [
    "print(correlation[1])\n",
    "correlation[0].iloc[4][1]"
   ]
  },
  {
   "cell_type": "code",
   "execution_count": null,
   "metadata": {
    "collapsed": true
   },
   "outputs": [],
   "source": [
    "Mrk_SMB = []\n",
    "Mrk_HML = []\n",
    "Mrk_RMW = []\n",
    "Mrk_CMA = []\n",
    "SMB_HML = []\n",
    "SMB_RMW = []\n",
    "SMB_CMA = []\n",
    "HML_RMW = []\n",
    "HML_CMA = []\n",
    "RMW_CMA = []\n",
    "for i in range(len(correlation)):\n",
    "    Mrk_SMB.append(correlation[i].iloc[0][1])\n",
    "    Mrk_HML.append(correlation[i].iloc[0][2])\n",
    "    Mrk_RMW.append(correlation[i].iloc[0][3])\n",
    "    Mrk_CMA.append(correlation[i].iloc[0][4])\n",
    "    SMB_HML.append(correlation[i].iloc[1][2])\n",
    "    SMB_RMW.append(correlation[i].iloc[1][3])\n",
    "    SMB_CMA.append(correlation[i].iloc[1][4])\n",
    "    HML_RMW.append(correlation[i].iloc[2][3])\n",
    "    HML_CMA.append(correlation[i].iloc[2][4])\n",
    "    RMW_CMA.append(correlation[i].iloc[3][4])\n",
    "    \n",
    "Mrk_SMB_Corr = pd.Series(Mrk_SMB,index = window_nm_month)\n",
    "Mrk_HML_Corr = pd.Series(Mrk_HML,index = window_nm_month)  \n",
    "Mrk_RMW_Corr = pd.Series(Mrk_RMW,index = window_nm_month)  \n",
    "Mrk_CMA_Corr = pd.Series(Mrk_CMA,index = window_nm_month)  \n",
    "SMB_HML_Corr = pd.Series(SMB_HML,index = window_nm_month)  \n",
    "SMB_RMW_Corr = pd.Series(SMB_RMW,index = window_nm_month)  \n",
    "SMB_CMA_Corr = pd.Series(SMB_CMA,index = window_nm_month)  \n",
    "HML_RMW_Corr = pd.Series(HML_RMW,index = window_nm_month)  \n",
    "HML_CMA_Corr = pd.Series(HML_CMA,index = window_nm_month)  \n",
    "RMW_CMA_Corr = pd.Series(RMW_CMA,index = window_nm_month)  "
   ]
  },
  {
   "cell_type": "code",
   "execution_count": null,
   "metadata": {
    "collapsed": false
   },
   "outputs": [],
   "source": [
    "plt.figure(figsize=(130, 180), dpi= 800, facecolor='w', edgecolor='k')\n",
    "plt.subplots(4, 4, sharex=True, sharey=True)\n",
    "\n",
    "plt.subplot(4, 4, 1)\n",
    "plt.plot(Mrk_SMB_Corr)\n",
    "plt.title('SMB')\n",
    "plt.ylabel('Mrk-Rf')\n",
    "\n",
    "plt.subplot(4, 4, 2)\n",
    "plt.plot(Mrk_HML_Corr)\n",
    "plt.title('HML')\n",
    "\n",
    "plt.subplot(4, 4, 3)\n",
    "plt.plot(Mrk_RMW_Corr)\n",
    "plt.title('RMW')\n",
    "\n",
    "plt.subplot(4, 4, 4)\n",
    "plt.plot(Mrk_CMA_Corr)\n",
    "plt.title('CMA')\n",
    "\n",
    "plt.subplot(4, 4, 6)\n",
    "plt.plot(SMB_HML_Corr)\n",
    "plt.ylabel('SMB')\n",
    "\n",
    "plt.subplot(4, 4, 7)\n",
    "plt.plot(SMB_RMW_Corr)\n",
    "\n",
    "\n",
    "plt.subplot(4, 4, 8)\n",
    "plt.plot(SMB_CMA_Corr)\n",
    "\n",
    "\n",
    "plt.subplot(4, 4, 11)\n",
    "plt.plot(HML_RMW_Corr)\n",
    "plt.ylabel('RMW')\n",
    "\n",
    "plt.subplot(4, 4, 12)\n",
    "plt.plot(HML_CMA_Corr)\n",
    "\n",
    "plt.subplot(4, 4, 16)\n",
    "plt.plot(RMW_CMA_Corr)\n",
    "plt.ylabel('CMA')\n",
    "\n",
    "plt.show()"
   ]
  },
  {
   "cell_type": "code",
   "execution_count": null,
   "metadata": {
    "collapsed": false
   },
   "outputs": [],
   "source": [
    "fig1 = plt.figure(figsize=(30, 15))\n",
    "\n",
    "ax1 = fig1.add_subplot(441)\n",
    "ax1.plot(Mrk_SMB_Corr)\n",
    "ax1.set_title('SMB')\n",
    "ax1.set_ylabel('Mrk-Rf')\n",
    "\n",
    "ax2 = fig1.add_subplot(442)\n",
    "ax2.plot(Mrk_HML_Corr)\n",
    "ax2.set_title('HML')\n",
    "ax2.set_ylabel('Mrk-Rf')\n",
    "\n",
    "\n",
    "\n",
    "plt.show()"
   ]
  },
  {
   "cell_type": "code",
   "execution_count": null,
   "metadata": {
    "collapsed": false
   },
   "outputs": [],
   "source": [
    "ax1.plot(Mrk_SMB_Corr)\n",
    "plt.show()"
   ]
  },
  {
   "cell_type": "code",
   "execution_count": null,
   "metadata": {
    "collapsed": false
   },
   "outputs": [],
   "source": [
    "plt.subplots(4, 4, sharex=True, sharey=True)\n",
    "\n",
    "plt.subplot(4, 4, 1)\n",
    "plt.plot(Mrk_SMB_Corr)\n",
    "plt.title('SMB')\n",
    "plt.ylabel('Mrk-Rf')\n",
    "\n",
    "plt.subplot(4, 4, 2)\n",
    "plt.plot(Mrk_HML_Corr)\n",
    "plt.title('HML')\n",
    "\n",
    "plt.subplot(4, 4, 3)\n",
    "plt.plot(Mrk_RMW_Corr)\n",
    "plt.title('RMW')\n",
    "\n",
    "plt.subplot(4, 4, 4)\n",
    "plt.plot(Mrk_CMA_Corr)\n",
    "plt.title('CMA')\n",
    "\n",
    "plt.subplot(4, 4, 6)\n",
    "plt.plot(SMB_HML_Corr)\n",
    "plt.ylabel('SMB')\n",
    "\n",
    "plt.subplot(4, 4, 7)\n",
    "plt.plot(SMB_RMW_Corr)\n",
    "\n",
    "\n",
    "plt.subplot(4, 4, 8)\n",
    "plt.plot(SMB_CMA_Corr)\n",
    "\n",
    "\n",
    "plt.subplot(4, 4, 11)\n",
    "plt.plot(HML_RMW_Corr)\n",
    "plt.ylabel('RMW')\n",
    "\n",
    "plt.subplot(4, 4, 12)\n",
    "plt.plot(HML_CMA_Corr)\n",
    "\n",
    "plt.subplot(4, 4, 16)\n",
    "plt.plot(RMW_CMA_Corr)\n",
    "plt.ylabel('CMA')\n",
    "\n",
    "plt.show()"
   ]
  },
  {
   "cell_type": "code",
   "execution_count": null,
   "metadata": {
    "collapsed": true
   },
   "outputs": [],
   "source": [
    "####################  4. Factor Significance in Daily Return ###################################"
   ]
  },
  {
   "cell_type": "code",
   "execution_count": null,
   "metadata": {
    "collapsed": false
   },
   "outputs": [],
   "source": [
    "\n",
    "lo_30_p = {}\n",
    "Med_40_p = {}\n",
    "Hi_30_p = {}\n",
    "\n",
    "factor = ['Const', 'Mrk-Rf', 'SMB', 'HML', 'RMW', 'CMA']\n",
    "\n",
    "for j in range(6):\n",
    "    x= []\n",
    "    for i in range(int(len(models_3_pf)/3)):            \n",
    "        x.append(models_3_pf[i].pvalues[j])\n",
    "    lo_30_p[factor[j]] = pd.Series(x, index = window_nm)\n",
    "\n",
    "for j in range(6):\n",
    "    x= []\n",
    "    for i in range(int(len(models_3_pf)/3)-1, 2*int(len(models_3_pf)/3)-1):            \n",
    "        x.append(models_3_pf[i].pvalues[j])\n",
    "    Med_40_p[factor[j]] = pd.Series(x, index=window_nm)\n",
    "    \n",
    "for j in range(6):\n",
    "    x= []\n",
    "    for i in range(2*int(len(models_3_pf)/3)-1, len(models_3_pf)-1):            \n",
    "        x.append(models_3_pf[i].pvalues[j])\n",
    "    Hi_30_p[factor[j]] = pd.Series(x, index = window_nm)\n",
    "\n",
    "lo_30_p_summary = pd.concat([lo_30_p[factor[1]],lo_30_p[factor[2]],lo_30_p[factor[3]],lo_30_p[factor[4]],lo_30_p[factor[5]]], axis=1)\n",
    "Med_40_p_summary = pd.concat([Med_40_p[factor[1]],Med_40_p[factor[2]],Med_40_p[factor[3]],Med_40_p[factor[4]],Med_40_p[factor[5]]], axis=1)\n",
    "Hi_30_p_summary = pd.concat([Hi_30_p[factor[1]],Hi_30_p[factor[2]],Hi_30_p[factor[3]],Hi_30_p[factor[4]],Hi_30_p[factor[5]]], axis=1)\n"
   ]
  },
  {
   "cell_type": "code",
   "execution_count": null,
   "metadata": {
    "collapsed": false
   },
   "outputs": [],
   "source": [
    "lo_30_p_summary['Mrk-Rf Ind'] = [1 if x < 0.05 else 0 for x in lo_30_p_summary[0]]\n",
    "lo_30_p_summary['SMB Ind'] = [1 if x < 0.05 else 0 for x in lo_30_p_summary[1]]\n",
    "lo_30_p_summary['HML Ind'] = [1 if x < 0.05 else 0 for x in lo_30_p_summary[2]]\n",
    "lo_30_p_summary['RMW Ind'] = [1 if x < 0.05 else 0 for x in lo_30_p_summary[3]]\n",
    "lo_30_p_summary['CMA Ind'] = [1 if x < 0.05 else 0 for x in lo_30_p_summary[4]]\n",
    "\n",
    "Med_40_p_summary['Mrk-Rf Ind'] = [1 if x < 0.05 else 0 for x in Med_40_p_summary[0]]\n",
    "Med_40_p_summary['SMB Ind'] = [1 if x < 0.05 else 0 for x in Med_40_p_summary[1]]\n",
    "Med_40_p_summary['HML Ind'] = [1 if x < 0.05 else 0 for x in Med_40_p_summary[2]]\n",
    "Med_40_p_summary['RMW Ind'] = [1 if x < 0.05 else 0 for x in Med_40_p_summary[3]]\n",
    "Med_40_p_summary['CMA Ind'] = [1 if x < 0.05 else 0 for x in Med_40_p_summary[4]]\n",
    "\n",
    "Hi_30_p_summary['Mrk-Rf Ind'] = [1 if x < 0.05 else 0 for x in Hi_30_p_summary[0]]\n",
    "Hi_30_p_summary['SMB Ind'] = [1 if x < 0.05 else 0 for x in Hi_30_p_summary[1]]\n",
    "Hi_30_p_summary['HML Ind'] = [1 if x < 0.05 else 0 for x in Hi_30_p_summary[2]]\n",
    "Hi_30_p_summary['RMW Ind'] = [1 if x < 0.05 else 0 for x in Hi_30_p_summary[3]]\n",
    "Hi_30_p_summary['CMA Ind'] = [1 if x < 0.05 else 0 for x in Hi_30_p_summary[4]]\n"
   ]
  },
  {
   "cell_type": "code",
   "execution_count": null,
   "metadata": {
    "collapsed": false
   },
   "outputs": [],
   "source": [
    "fig=plt.figure(figsize=(18, 6), dpi= 80, facecolor='w', edgecolor='k')\n",
    "plt.subplots(5, 3, sharex=True, sharey=True)\n",
    "\n",
    "plt.subplot(5, 3, 1)\n",
    "plt.plot(lo_30_p_summary['Mrk-Rf Ind'],'o',markersize = 0.5,label=\"Mrk\",alpha=0.8)\n",
    "plt.title('Lo_30 Portfolio')\n",
    "plt.ylabel('Mrk-Rf')\n",
    "plt.ylim([-0.1,1.1])\n",
    "plt.yticks(np.arange(0, 1, step=1))\n",
    "\n",
    "plt.subplot(5, 3, 2)\n",
    "plt.plot(Med_40_p_summary['Mrk-Rf Ind'],'o',markersize = 0.5, label=\"Mrk\",alpha=0.8)\n",
    "plt.title('Med_40 Portfolio')\n",
    "plt.ylim([0,1])\n",
    "plt.subplot(5, 3, 3)\n",
    "plt.plot(Hi_30_p_summary['Mrk-Rf Ind'],'o',markersize = 0.5, label=\"Mrk\",alpha=0.8)\n",
    "plt.title('Hi_30 Portfolio')\n",
    "plt.ylim([0,1])\n",
    "\n",
    "plt.subplot(5, 3, 4)\n",
    "plt.plot(lo_30_p_summary['SMB Ind'],'o',markersize = 0.5,label=\"SMB\",alpha=0.8)\n",
    "plt.ylabel('SMB')\n",
    "plt.ylim([0,1])\n",
    "plt.subplot(5, 3, 5)\n",
    "plt.plot(Med_40_p_summary['SMB Ind'],'o',markersize = 0.5, label=\"SMB\",alpha=0.8)\n",
    "plt.ylim([0,1])\n",
    "plt.subplot(5, 3, 6)\n",
    "plt.plot(Hi_30_p_summary['SMB Ind'],'o',markersize = 0.5, label=\"SMB\",alpha=0.8)\n",
    "plt.ylim([0,1])\n",
    "\n",
    "plt.subplot(5, 3, 7)\n",
    "plt.plot(lo_30_p_summary['HML Ind'],'o',markersize = 0.5,label=\"HML\",alpha=0.8)\n",
    "plt.ylabel('HML')\n",
    "plt.subplot(5, 3, 8)\n",
    "plt.plot(Med_40_p_summary['HML Ind'],'o',markersize = 0.5, label=\"HML\",alpha=0.8)\n",
    "plt.subplot(5, 3, 9)\n",
    "plt.plot(Hi_30_p_summary['HML Ind'],'o',markersize = 0.5, label=\"HML\",alpha=0.8)\n",
    "\n",
    "plt.subplot(5, 3, 10)\n",
    "plt.plot(lo_30_p_summary['RMW Ind'],'o',markersize = 0.5,label=\"RMW\",alpha=0.8)\n",
    "plt.ylabel('RMW')\n",
    "plt.subplot(5, 3, 11)\n",
    "plt.plot(Med_40_p_summary['RMW Ind'],'o',markersize = 0.5, label=\"RMW\",alpha=0.8)\n",
    "plt.subplot(5, 3, 12)\n",
    "plt.plot(Hi_30_p_summary['RMW Ind'],'o',markersize = 0.5, label=\"RMW\",alpha=0.8)\n",
    "\n",
    "plt.subplot(5, 3, 13)\n",
    "plt.plot(lo_30_p_summary['CMA Ind'],'o',markersize = 0.5,label=\"CMA\",alpha=0.8)\n",
    "plt.ylabel('CMA')\n",
    "plt.xlabel('Year')\n",
    "plt.subplot(5, 3, 14)\n",
    "plt.plot(Med_40_p_summary['CMA Ind'],'o',markersize = 0.5, label=\"CMA\",alpha=0.8)\n",
    "plt.xlabel('Year')\n",
    "plt.subplot(5, 3, 15)\n",
    "plt.plot(Hi_30_p_summary['CMA Ind'],'o',markersize = 0.5, label=\"CMA\",alpha=0.8)\n",
    "plt.xlabel('Year')\n",
    "\n",
    "\n",
    "plt.legend(loc='upper left')\n",
    "plt.show()"
   ]
  },
  {
   "cell_type": "code",
   "execution_count": null,
   "metadata": {
    "collapsed": false
   },
   "outputs": [],
   "source": [
    "#when all 5 factors are significant\n",
    "all_sign_lo30 = lo_30_p_summary.iloc[:,5:10].product(axis = 1)\n",
    "plt.plot(all_sign_lo30,'o',markersize = 0.5) \n",
    "plt.show()\n",
    "all_sign_lo30.sum(axis=0)/len(all_sign_lo30)"
   ]
  },
  {
   "cell_type": "code",
   "execution_count": null,
   "metadata": {
    "collapsed": false
   },
   "outputs": [],
   "source": [
    "signperc_lo30 = lo_30_p_summary.iloc[:,5:10].sum(axis = 0)/len(lo_30_p_summary)\n",
    "signperc_Med40 = Med_40_p_summary.iloc[:,5:10].sum(axis = 0)/len(Med_40_p_summary)\n",
    "signperc_Hi30 = Hi_30_p_summary.iloc[:,5:10].sum(axis = 0)/len(Hi_30_p_summary)"
   ]
  },
  {
   "cell_type": "code",
   "execution_count": null,
   "metadata": {
    "collapsed": false
   },
   "outputs": [],
   "source": [
    "signperc_summary = pd.concat([signperc_lo30,signperc_Med40,signperc_Hi30], axis=1)\n",
    "signperc_summary.columns = ['Lo 30', 'Med 40', 'Hi 30']"
   ]
  },
  {
   "cell_type": "code",
   "execution_count": null,
   "metadata": {
    "collapsed": false
   },
   "outputs": [],
   "source": [
    "print(signperc_lo30)\n",
    "print(signperc_Med40)\n",
    "print(signperc_Hi30)\n",
    "print(signperc_summary)"
   ]
  },
  {
   "cell_type": "code",
   "execution_count": null,
   "metadata": {
    "collapsed": false
   },
   "outputs": [],
   "source": [
    "plt.close()\n",
    "fig=plt.figure(figsize=(3.5, 5), dpi= 80, facecolor='w', edgecolor='k')\n",
    "plt.pcolor(signperc_summary, cmap=plt.cm.Blues)\n",
    "plt.yticks(np.arange(0.5, len(signperc_lo30), 1), signperc_lo30.index)\n",
    "plt.xticks(np.arange(0.5, 3, 1), ['Lo30', 'Med40', 'Hi30'])\n",
    "plt.colorbar()\n",
    "plt.show()"
   ]
  },
  {
   "cell_type": "code",
   "execution_count": null,
   "metadata": {
    "collapsed": false
   },
   "outputs": [],
   "source": [
    "plt.close()\n",
    "plt.figure(figsize=(3.5, 5), dpi= 80, facecolor='w', edgecolor='k')\n",
    "sns.heatmap(signperc_summary,annot=True)\n",
    "plt.title('Percentage of Significant Occurance - Regression with Daily Return')\n",
    "plt.show()"
   ]
  },
  {
   "cell_type": "code",
   "execution_count": null,
   "metadata": {
    "collapsed": true
   },
   "outputs": [],
   "source": [
    "####################  5. Factor Significance in Daily Monthly Regressions   ###################################"
   ]
  },
  {
   "cell_type": "code",
   "execution_count": null,
   "metadata": {
    "collapsed": false
   },
   "outputs": [],
   "source": [
    "lo_30_p_mm = {}\n",
    "Med_40_p_mm = {}\n",
    "Hi_30_p_mm = {}\n",
    "\n",
    "factor = ['Const', 'Mrk-Rf', 'SMB', 'HML', 'RMW', 'CMA']\n",
    "\n",
    "for j in range(6):\n",
    "    x= []\n",
    "    for i in range(int(len(models_3_pf_mm)/3)):            \n",
    "        x.append(models_3_pf_mm[i].pvalues[j])\n",
    "    lo_30_p_mm[factor[j]] = pd.Series(x, index = window_nm_month)\n",
    "\n",
    "for j in range(6):\n",
    "    x= []\n",
    "    for i in range(int(len(models_3_pf_mm)/3)-1, 2*int(len(models_3_pf_mm)/3)-1):            \n",
    "        x.append(models_3_pf_mm[i].pvalues[j])\n",
    "    Med_40_p_mm[factor[j]] = pd.Series(x, index=window_nm_month)\n",
    "    \n",
    "for j in range(6):\n",
    "    x= []\n",
    "    for i in range(2*int(len(models_3_pf_mm)/3)-1, len(models_3_pf_mm)-1):            \n",
    "        x.append(models_3_pf_mm[i].pvalues[j])\n",
    "    Hi_30_p_mm[factor[j]] = pd.Series(x, index = window_nm_month)\n",
    "\n",
    "lo_30_p_mm_summary = pd.concat([lo_30_p_mm[factor[1]],lo_30_p_mm[factor[2]],lo_30_p_mm[factor[3]],lo_30_p_mm[factor[4]],lo_30_p_mm[factor[5]]], axis=1)\n",
    "Med_40_p_mm_summary = pd.concat([Med_40_p_mm[factor[1]],Med_40_p_mm[factor[2]],Med_40_p_mm[factor[3]],Med_40_p_mm[factor[4]],Med_40_p_mm[factor[5]]], axis=1)\n",
    "Hi_30_p_mm_summary = pd.concat([Hi_30_p_mm[factor[1]],Hi_30_p_mm[factor[2]],Hi_30_p_mm[factor[3]],Hi_30_p_mm[factor[4]],Hi_30_p_mm[factor[5]]], axis=1)\n"
   ]
  },
  {
   "cell_type": "code",
   "execution_count": null,
   "metadata": {
    "collapsed": true
   },
   "outputs": [],
   "source": [
    "lo_30_p_mm_summary['Mrk-Rf Ind'] = [1 if x < 0.05 else 0 for x in lo_30_p_mm_summary[0]]\n",
    "lo_30_p_mm_summary['SMB Ind'] = [1 if x < 0.05 else 0 for x in lo_30_p_mm_summary[1]]\n",
    "lo_30_p_mm_summary['HML Ind'] = [1 if x < 0.05 else 0 for x in lo_30_p_mm_summary[2]]\n",
    "lo_30_p_mm_summary['RMW Ind'] = [1 if x < 0.05 else 0 for x in lo_30_p_mm_summary[3]]\n",
    "lo_30_p_mm_summary['CMA Ind'] = [1 if x < 0.05 else 0 for x in lo_30_p_mm_summary[4]]\n",
    "\n",
    "Med_40_p_mm_summary['Mrk-Rf Ind'] = [1 if x < 0.05 else 0 for x in Med_40_p_mm_summary[0]]\n",
    "Med_40_p_mm_summary['SMB Ind'] = [1 if x < 0.05 else 0 for x in Med_40_p_mm_summary[1]]\n",
    "Med_40_p_mm_summary['HML Ind'] = [1 if x < 0.05 else 0 for x in Med_40_p_mm_summary[2]]\n",
    "Med_40_p_mm_summary['RMW Ind'] = [1 if x < 0.05 else 0 for x in Med_40_p_mm_summary[3]]\n",
    "Med_40_p_mm_summary['CMA Ind'] = [1 if x < 0.05 else 0 for x in Med_40_p_mm_summary[4]]\n",
    "\n",
    "Hi_30_p_mm_summary['Mrk-Rf Ind'] = [1 if x < 0.05 else 0 for x in Hi_30_p_mm_summary[0]]\n",
    "Hi_30_p_mm_summary['SMB Ind'] = [1 if x < 0.05 else 0 for x in Hi_30_p_mm_summary[1]]\n",
    "Hi_30_p_mm_summary['HML Ind'] = [1 if x < 0.05 else 0 for x in Hi_30_p_mm_summary[2]]\n",
    "Hi_30_p_mm_summary['RMW Ind'] = [1 if x < 0.05 else 0 for x in Hi_30_p_mm_summary[3]]\n",
    "Hi_30_p_mm_summary['CMA Ind'] = [1 if x < 0.05 else 0 for x in Hi_30_p_mm_summary[4]]\n"
   ]
  },
  {
   "cell_type": "code",
   "execution_count": null,
   "metadata": {
    "collapsed": true
   },
   "outputs": [],
   "source": [
    "signperc_lo30_mm = lo_30_p_mm_summary.iloc[:,5:10].sum(axis = 0)/len(lo_30_p_mm_summary)\n",
    "signperc_Med40_mm = Med_40_p_mm_summary.iloc[:,5:10].sum(axis = 0)/len(Med_40_p_mm_summary)\n",
    "signperc_Hi30_mm = Hi_30_p_mm_summary.iloc[:,5:10].sum(axis = 0)/len(Hi_30_p_mm_summary)"
   ]
  },
  {
   "cell_type": "code",
   "execution_count": null,
   "metadata": {
    "collapsed": true
   },
   "outputs": [],
   "source": [
    "signperc_mm_summary = pd.concat([signperc_lo30_mm,signperc_Med40_mm,signperc_Hi30_mm], axis=1)\n",
    "signperc_mm_summary.columns = ['Lo 30', 'Med 40', 'Hi 30']"
   ]
  },
  {
   "cell_type": "code",
   "execution_count": null,
   "metadata": {
    "collapsed": false
   },
   "outputs": [],
   "source": [
    "plt.close()\n",
    "plt.figure(figsize=(3.5, 5), dpi= 80, facecolor='w', edgecolor='k')\n",
    "sns.heatmap(signperc_mm_summary,annot=True)\n",
    "plt.title('Percentage of Significant Occurance - Regression with Monthly Return')\n",
    "plt.show()"
   ]
  },
  {
   "cell_type": "code",
   "execution_count": null,
   "metadata": {
    "collapsed": true
   },
   "outputs": [],
   "source": []
  },
  {
   "cell_type": "code",
   "execution_count": null,
   "metadata": {},
   "outputs": [],
   "source": []
  }
 ],
 "metadata": {
  "kernelspec": {
   "display_name": "Python 3",
   "language": "python",
   "name": "python3"
  },
  "language_info": {
   "codemirror_mode": {
    "name": "ipython",
    "version": 3
   },
   "file_extension": ".py",
   "mimetype": "text/x-python",
   "name": "python",
   "nbconvert_exporter": "python",
   "pygments_lexer": "ipython3",
   "version": "3.5.6"
  }
 },
 "nbformat": 4,
 "nbformat_minor": 2
}
