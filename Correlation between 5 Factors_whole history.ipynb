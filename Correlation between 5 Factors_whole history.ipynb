{
 "cells": [
  {
   "cell_type": "code",
   "execution_count": 1,
   "metadata": {},
   "outputs": [],
   "source": [
    "import statsmodels.api as sm #for OLS regression\n",
    "import numpy as np\n",
    "import pandas as pd\n",
    "from pandas import DataFrame\n",
    "import matplotlib.pyplot as plt #for heatmap plotting\n",
    "from mpl_toolkits.mplot3d import Axes3D\n",
    "import seaborn as sns #for heatmap plotting\n",
    "from statsmodels.iolib.summary2 import summary_col #to summarize multiple regressions in one table\n",
    "from datetime import date\n",
    "from dateutil.relativedelta import relativedelta\n",
    "import math\n",
    "from scipy import stats"
   ]
  },
  {
   "cell_type": "code",
   "execution_count": 3,
   "metadata": {},
   "outputs": [],
   "source": [
    "ff5 = pd.read_csv('C:/Users/yzou/Desktop/F-F_Research_Data_5_Factors_2x3_daily.csv')"
   ]
  },
  {
   "cell_type": "code",
   "execution_count": 4,
   "metadata": {},
   "outputs": [],
   "source": [
    "ff5.rename(columns = {'Unnamed: 0': 'YYMM'}, inplace = True)"
   ]
  },
  {
   "cell_type": "code",
   "execution_count": 5,
   "metadata": {},
   "outputs": [],
   "source": [
    "ff5['YYMM'] = pd.to_datetime(ff5['YYMM'],yearfirst=True, format='%Y%m%d')"
   ]
  },
  {
   "cell_type": "code",
   "execution_count": 6,
   "metadata": {},
   "outputs": [],
   "source": [
    "ff5.index = ff5['YYMM']"
   ]
  },
  {
   "cell_type": "code",
   "execution_count": 7,
   "metadata": {},
   "outputs": [],
   "source": [
    "ff5 = ff5.drop('RF', axis = 1)"
   ]
  },
  {
   "cell_type": "code",
   "execution_count": 10,
   "metadata": {},
   "outputs": [],
   "source": [
    "ff5 = ff5.drop('YYMM', axis=1)"
   ]
  },
  {
   "cell_type": "code",
   "execution_count": 13,
   "metadata": {},
   "outputs": [],
   "source": [
    "models_ff = []\n",
    "for i in range (5):\n",
    "    x = ff5.drop(ff5.columns[i], axis=1)\n",
    "    x = sm.add_constant(x)\n",
    "    y = ff5.iloc[:, i]\n",
    "    reg = sm.OLS(y, x)   \n",
    "    models_ff.append(reg.fit())\n"
   ]
  },
  {
   "cell_type": "code",
   "execution_count": 19,
   "metadata": {},
   "outputs": [
    {
     "name": "stdout",
     "output_type": "stream",
     "text": [
      "                            OLS Regression Results                            \n",
      "==============================================================================\n",
      "Dep. Variable:                    CMA   R-squared:                       0.383\n",
      "Model:                            OLS   Adj. R-squared:                  0.383\n",
      "Method:                 Least Squares   F-statistic:                     2184.\n",
      "Date:                Wed, 10 Jul 2019   Prob (F-statistic):               0.00\n",
      "Time:                        21:11:38   Log-Likelihood:                -2372.1\n",
      "No. Observations:               14075   AIC:                             4754.\n",
      "Df Residuals:                   14070   BIC:                             4792.\n",
      "Df Model:                           4                                         \n",
      "Covariance Type:            nonrobust                                         \n",
      "==============================================================================\n",
      "                 coef    std err          t      P>|t|      [0.025      0.975]\n",
      "------------------------------------------------------------------------------\n",
      "const          0.0100      0.002      4.138      0.000       0.005       0.015\n",
      "Mkt-RF        -0.0997      0.003    -37.943      0.000      -0.105      -0.095\n",
      "SMB           -0.0257      0.005     -5.174      0.000      -0.035      -0.016\n",
      "HML            0.3658      0.005     73.968      0.000       0.356       0.375\n",
      "RMW            0.0216      0.007      3.009      0.003       0.008       0.036\n",
      "==============================================================================\n",
      "Omnibus:                     2265.013   Durbin-Watson:                   1.865\n",
      "Prob(Omnibus):                  0.000   Jarque-Bera (JB):            31739.923\n",
      "Skew:                          -0.323   Prob(JB):                         0.00\n",
      "Kurtosis:                      10.328   Cond. No.                         3.15\n",
      "==============================================================================\n",
      "\n",
      "Warnings:\n",
      "[1] Standard Errors assume that the covariance matrix of the errors is correctly specified.\n"
     ]
    }
   ],
   "source": [
    "print(models_ff[4].summary())"
   ]
  },
  {
   "cell_type": "code",
   "execution_count": 26,
   "metadata": {},
   "outputs": [
    {
     "name": "stdout",
     "output_type": "stream",
     "text": [
      "                   Table - OLS Regressions\n",
      "=============================================================\n",
      "                  Mkt-RF    SMB      HML      RMW      CMA   \n",
      "-------------------------------------------------------------\n",
      "const            0.05***  0.02***  0.01**   0.02***  0.01*** \n",
      "                 (0.01)   (0.00)   (0.00)   (0.00)   (0.00)  \n",
      "Mkt-RF                    -0.10*** -0.01**  -0.10*** -0.10***\n",
      "                          (0.00)   (0.00)   (0.00)   (0.00)  \n",
      "SMB              -0.33***          0.03***  -0.22*** -0.03***\n",
      "                 (0.01)            (0.01)   (0.01)   (0.00)  \n",
      "HML              -0.04**  0.04***           -0.08*** 0.37*** \n",
      "                 (0.02)   (0.01)            (0.01)   (0.00)  \n",
      "RMW              -0.66*** -0.46*** -0.12***          0.02*** \n",
      "                 (0.02)   (0.01)   (0.01)            (0.01)  \n",
      "CMA              -0.93*** -0.07*** 0.77***  0.03***          \n",
      "                 (0.02)   (0.01)   (0.01)   (0.01)           \n",
      "R-squared        0.21     0.12     0.32     0.16     0.38    \n",
      "No. observations 14075    14075    14075    14075    14075   \n",
      "=============================================================\n",
      "Standard errors in parentheses.\n",
      "* p<.1, ** p<.05, ***p<.01\n"
     ]
    }
   ],
   "source": [
    "info_dict={'R-squared' : lambda x: f\"{x.rsquared:.2f}\",\n",
    "           'No. observations' : lambda x: f\"{int(x.nobs):d}\"}\n",
    "           \n",
    "results_table = summary_col(results= models_ff,\n",
    "                            stars = True,\n",
    "                            model_names=ff5.columns.tolist(),\n",
    "                            float_format =\"%.2f\",\n",
    "                            info_dict = info_dict,\n",
    "                            regressor_order=['const', 'Mkt-RF', 'SMB', 'HML', 'RMW', 'CMA']\n",
    "                           )\n",
    "\n",
    "results_table.add_title('Regressions among 5 Factors - Daily Return')\n",
    "\n",
    "print(results_table)"
   ]
  },
  {
   "cell_type": "code",
   "execution_count": 28,
   "metadata": {},
   "outputs": [],
   "source": [
    "ff5_mm = pd.read_csv('C:/Users/yzou/Desktop/F-F_Research_Data_5_Factors_2x3_monthly.csv')"
   ]
  },
  {
   "cell_type": "code",
   "execution_count": 29,
   "metadata": {},
   "outputs": [],
   "source": [
    "ff5_mm.rename(columns = {'Unnamed: 0': 'YYMM'}, inplace = True)"
   ]
  },
  {
   "cell_type": "code",
   "execution_count": 31,
   "metadata": {},
   "outputs": [],
   "source": [
    "ff5_mm['YYMM'] = pd.to_datetime(ff5_mm['YYMM'],yearfirst=True, format='%Y%m')"
   ]
  },
  {
   "cell_type": "code",
   "execution_count": 32,
   "metadata": {},
   "outputs": [],
   "source": [
    "ff5_mm.index = ff5_mm['YYMM']"
   ]
  },
  {
   "cell_type": "code",
   "execution_count": 33,
   "metadata": {},
   "outputs": [],
   "source": [
    "ff5_mm = ff5_mm.drop('RF', axis = 1)\n",
    "ff5_mm = ff5_mm.drop('YYMM', axis=1)"
   ]
  },
  {
   "cell_type": "code",
   "execution_count": 35,
   "metadata": {},
   "outputs": [],
   "source": [
    "models_ff_mm = []\n",
    "for i in range (5):\n",
    "    x = ff5_mm.drop(ff5_mm.columns[i], axis=1)\n",
    "    x = sm.add_constant(x)\n",
    "    y = ff5_mm.iloc[:, i]\n",
    "    reg = sm.OLS(y, x)   \n",
    "    models_ff_mm.append(reg.fit())"
   ]
  },
  {
   "cell_type": "code",
   "execution_count": 36,
   "metadata": {},
   "outputs": [
    {
     "name": "stdout",
     "output_type": "stream",
     "text": [
      "        Regressions among 5 Factors - Monthly Return\n",
      "============================================================\n",
      "                  Mkt-RF    SMB      HML     RMW      CMA   \n",
      "------------------------------------------------------------\n",
      "const            0.79***  0.30***  -0.02   0.40***  0.23*** \n",
      "                 (0.15)   (0.11)   (0.08)  (0.08)   (0.05)  \n",
      "Mkt-RF                    0.13***  0.02    -0.10*** -0.11***\n",
      "                          (0.03)   (0.02)  (0.02)   (0.01)  \n",
      "SMB              0.25***           0.03    -0.22*** -0.03   \n",
      "                 (0.05)            (0.03)  (0.03)   (0.02)  \n",
      "HML              0.09     0.06             0.14***  0.45*** \n",
      "                 (0.07)   (0.05)           (0.04)   (0.02)  \n",
      "RMW              -0.38*** -0.43*** 0.14***          -0.14***\n",
      "                 (0.07)   (0.05)   (0.04)           (0.03)  \n",
      "CMA              -0.91*** -0.13    1.00*** -0.29***         \n",
      "                 (0.10)   (0.08)   (0.04)  (0.06)           \n",
      "R-squared        0.24     0.17     0.49    0.17     0.55    \n",
      "No. observations 671      671      671     671      671     \n",
      "============================================================\n",
      "Standard errors in parentheses.\n",
      "* p<.1, ** p<.05, ***p<.01\n"
     ]
    }
   ],
   "source": [
    "info_dict={'R-squared' : lambda x: f\"{x.rsquared:.2f}\",\n",
    "           'No. observations' : lambda x: f\"{int(x.nobs):d}\"}\n",
    "           \n",
    "results_table = summary_col(results= models_ff_mm,\n",
    "                            stars = True,\n",
    "                            model_names=ff5_mm.columns.tolist(),\n",
    "                            float_format =\"%.2f\",\n",
    "                            info_dict = info_dict,\n",
    "                            regressor_order=['const', 'Mkt-RF', 'SMB', 'HML', 'RMW', 'CMA']\n",
    "                           )\n",
    "\n",
    "results_table.add_title('Regressions among 5 Factors - Monthly Return')\n",
    "\n",
    "print(results_table)"
   ]
  },
  {
   "cell_type": "code",
   "execution_count": null,
   "metadata": {},
   "outputs": [],
   "source": []
  }
 ],
 "metadata": {
  "kernelspec": {
   "display_name": "Python 3",
   "language": "python",
   "name": "python3"
  },
  "language_info": {
   "codemirror_mode": {
    "name": "ipython",
    "version": 3
   },
   "file_extension": ".py",
   "mimetype": "text/x-python",
   "name": "python",
   "nbconvert_exporter": "python",
   "pygments_lexer": "ipython3",
   "version": "3.7.1"
  }
 },
 "nbformat": 4,
 "nbformat_minor": 2
}
