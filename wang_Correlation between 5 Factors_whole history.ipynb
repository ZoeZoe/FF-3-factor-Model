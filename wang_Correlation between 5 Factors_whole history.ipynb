{
 "cells": [
  {
   "cell_type": "code",
   "execution_count": 3,
   "metadata": {},
   "outputs": [],
   "source": [
    "import statsmodels.api as sm #for OLS regression\n",
    "import numpy as np\n",
    "import pandas as pd\n",
    "from pandas import DataFrame\n",
    "import matplotlib.pyplot as plt #for heatmap plotting\n",
    "from mpl_toolkits.mplot3d import Axes3D\n",
    "import seaborn as sns #for heatmap plotting\n",
    "from statsmodels.iolib.summary2 import summary_col #to summarize multiple regressions in one table\n",
    "from datetime import date\n",
    "from dateutil.relativedelta import relativedelta\n",
    "import math\n",
    "from scipy import stats"
   ]
  },
  {
   "cell_type": "code",
   "execution_count": 4,
   "metadata": {},
   "outputs": [],
   "source": [
    "ff5 = pd.read_csv('data/F-F_Research_Data_5_Factors_2x3_daily.csv')"
   ]
  },
  {
   "cell_type": "code",
   "execution_count": 5,
   "metadata": {},
   "outputs": [],
   "source": [
    "ff5.rename(columns = {'Unnamed: 0': 'YYMM'}, inplace = True)"
   ]
  },
  {
   "cell_type": "code",
   "execution_count": 6,
   "metadata": {},
   "outputs": [],
   "source": [
    "ff5['YYMM'] = pd.to_datetime(ff5['YYMM'],yearfirst=True, format='%Y%m%d')"
   ]
  },
  {
   "cell_type": "code",
   "execution_count": 7,
   "metadata": {},
   "outputs": [],
   "source": [
    "ff5.index = ff5['YYMM']"
   ]
  },
  {
   "cell_type": "code",
   "execution_count": 8,
   "metadata": {},
   "outputs": [],
   "source": [
    "ff5 = ff5.drop('RF', axis = 1)"
   ]
  },
  {
   "cell_type": "code",
   "execution_count": 9,
   "metadata": {},
   "outputs": [],
   "source": [
    "ff5 = ff5.drop('YYMM', axis=1)"
   ]
  },
  {
   "cell_type": "code",
   "execution_count": 179,
   "metadata": {},
   "outputs": [
    {
     "data": {
      "text/html": [
       "<div>\n",
       "<style scoped>\n",
       "    .dataframe tbody tr th:only-of-type {\n",
       "        vertical-align: middle;\n",
       "    }\n",
       "\n",
       "    .dataframe tbody tr th {\n",
       "        vertical-align: top;\n",
       "    }\n",
       "\n",
       "    .dataframe thead th {\n",
       "        text-align: right;\n",
       "    }\n",
       "</style>\n",
       "<table border=\"1\" class=\"dataframe\">\n",
       "  <thead>\n",
       "    <tr style=\"text-align: right;\">\n",
       "      <th></th>\n",
       "      <th>Mkt-RF</th>\n",
       "      <th>SMB</th>\n",
       "      <th>HML</th>\n",
       "      <th>RMW</th>\n",
       "      <th>CMA</th>\n",
       "    </tr>\n",
       "    <tr>\n",
       "      <th>YYMM</th>\n",
       "      <th></th>\n",
       "      <th></th>\n",
       "      <th></th>\n",
       "      <th></th>\n",
       "      <th></th>\n",
       "    </tr>\n",
       "  </thead>\n",
       "  <tbody>\n",
       "    <tr>\n",
       "      <th>1963-07-01</th>\n",
       "      <td>-0.67</td>\n",
       "      <td>0.00</td>\n",
       "      <td>-0.32</td>\n",
       "      <td>-0.01</td>\n",
       "      <td>0.15</td>\n",
       "    </tr>\n",
       "    <tr>\n",
       "      <th>1963-07-02</th>\n",
       "      <td>0.79</td>\n",
       "      <td>-0.27</td>\n",
       "      <td>0.27</td>\n",
       "      <td>-0.07</td>\n",
       "      <td>-0.19</td>\n",
       "    </tr>\n",
       "    <tr>\n",
       "      <th>1963-07-03</th>\n",
       "      <td>0.63</td>\n",
       "      <td>-0.17</td>\n",
       "      <td>-0.09</td>\n",
       "      <td>0.17</td>\n",
       "      <td>-0.33</td>\n",
       "    </tr>\n",
       "    <tr>\n",
       "      <th>1963-07-05</th>\n",
       "      <td>0.40</td>\n",
       "      <td>0.08</td>\n",
       "      <td>-0.28</td>\n",
       "      <td>0.08</td>\n",
       "      <td>-0.33</td>\n",
       "    </tr>\n",
       "    <tr>\n",
       "      <th>1963-07-08</th>\n",
       "      <td>-0.63</td>\n",
       "      <td>0.04</td>\n",
       "      <td>-0.18</td>\n",
       "      <td>-0.29</td>\n",
       "      <td>0.13</td>\n",
       "    </tr>\n",
       "  </tbody>\n",
       "</table>\n",
       "</div>"
      ],
      "text/plain": [
       "            Mkt-RF   SMB   HML   RMW   CMA\n",
       "YYMM                                      \n",
       "1963-07-01   -0.67  0.00 -0.32 -0.01  0.15\n",
       "1963-07-02    0.79 -0.27  0.27 -0.07 -0.19\n",
       "1963-07-03    0.63 -0.17 -0.09  0.17 -0.33\n",
       "1963-07-05    0.40  0.08 -0.28  0.08 -0.33\n",
       "1963-07-08   -0.63  0.04 -0.18 -0.29  0.13"
      ]
     },
     "execution_count": 179,
     "metadata": {},
     "output_type": "execute_result"
    }
   ],
   "source": [
    "ff5.head()"
   ]
  },
  {
   "cell_type": "code",
   "execution_count": 181,
   "metadata": {},
   "outputs": [],
   "source": [
    "df = ff5.rolling(60).corr().unstack(1)"
   ]
  },
  {
   "cell_type": "code",
   "execution_count": 182,
   "metadata": {},
   "outputs": [],
   "source": [
    "cols_tuple = list(df.columns)\n",
    "df.columns = cols_tuple"
   ]
  },
  {
   "cell_type": "code",
   "execution_count": 183,
   "metadata": {},
   "outputs": [],
   "source": [
    "new_cols = list(set([tuple((sorted(list(x)))) for x in cols_tuple]))"
   ]
  },
  {
   "cell_type": "code",
   "execution_count": 185,
   "metadata": {},
   "outputs": [
    {
     "data": {
      "text/html": [
       "<div>\n",
       "<style scoped>\n",
       "    .dataframe tbody tr th:only-of-type {\n",
       "        vertical-align: middle;\n",
       "    }\n",
       "\n",
       "    .dataframe tbody tr th {\n",
       "        vertical-align: top;\n",
       "    }\n",
       "\n",
       "    .dataframe thead th {\n",
       "        text-align: right;\n",
       "    }\n",
       "</style>\n",
       "<table border=\"1\" class=\"dataframe\">\n",
       "  <thead>\n",
       "    <tr style=\"text-align: right;\">\n",
       "      <th></th>\n",
       "      <th>(CMA, SMB)</th>\n",
       "      <th>(Mkt-RF, RMW)</th>\n",
       "      <th>(HML, SMB)</th>\n",
       "      <th>(SMB, SMB)</th>\n",
       "      <th>(RMW, SMB)</th>\n",
       "      <th>(Mkt-RF, Mkt-RF)</th>\n",
       "      <th>(CMA, HML)</th>\n",
       "      <th>(CMA, CMA)</th>\n",
       "      <th>(HML, HML)</th>\n",
       "      <th>(Mkt-RF, SMB)</th>\n",
       "      <th>(HML, RMW)</th>\n",
       "      <th>(CMA, RMW)</th>\n",
       "      <th>(HML, Mkt-RF)</th>\n",
       "      <th>(RMW, RMW)</th>\n",
       "      <th>(CMA, Mkt-RF)</th>\n",
       "    </tr>\n",
       "    <tr>\n",
       "      <th>YYMM</th>\n",
       "      <th></th>\n",
       "      <th></th>\n",
       "      <th></th>\n",
       "      <th></th>\n",
       "      <th></th>\n",
       "      <th></th>\n",
       "      <th></th>\n",
       "      <th></th>\n",
       "      <th></th>\n",
       "      <th></th>\n",
       "      <th></th>\n",
       "      <th></th>\n",
       "      <th></th>\n",
       "      <th></th>\n",
       "      <th></th>\n",
       "    </tr>\n",
       "  </thead>\n",
       "  <tbody>\n",
       "    <tr>\n",
       "      <th>1963-07-01</th>\n",
       "      <td>NaN</td>\n",
       "      <td>NaN</td>\n",
       "      <td>NaN</td>\n",
       "      <td>NaN</td>\n",
       "      <td>NaN</td>\n",
       "      <td>NaN</td>\n",
       "      <td>NaN</td>\n",
       "      <td>NaN</td>\n",
       "      <td>NaN</td>\n",
       "      <td>NaN</td>\n",
       "      <td>NaN</td>\n",
       "      <td>NaN</td>\n",
       "      <td>NaN</td>\n",
       "      <td>NaN</td>\n",
       "      <td>NaN</td>\n",
       "    </tr>\n",
       "    <tr>\n",
       "      <th>1963-07-02</th>\n",
       "      <td>NaN</td>\n",
       "      <td>NaN</td>\n",
       "      <td>NaN</td>\n",
       "      <td>NaN</td>\n",
       "      <td>NaN</td>\n",
       "      <td>NaN</td>\n",
       "      <td>NaN</td>\n",
       "      <td>NaN</td>\n",
       "      <td>NaN</td>\n",
       "      <td>NaN</td>\n",
       "      <td>NaN</td>\n",
       "      <td>NaN</td>\n",
       "      <td>NaN</td>\n",
       "      <td>NaN</td>\n",
       "      <td>NaN</td>\n",
       "    </tr>\n",
       "    <tr>\n",
       "      <th>1963-07-03</th>\n",
       "      <td>NaN</td>\n",
       "      <td>NaN</td>\n",
       "      <td>NaN</td>\n",
       "      <td>NaN</td>\n",
       "      <td>NaN</td>\n",
       "      <td>NaN</td>\n",
       "      <td>NaN</td>\n",
       "      <td>NaN</td>\n",
       "      <td>NaN</td>\n",
       "      <td>NaN</td>\n",
       "      <td>NaN</td>\n",
       "      <td>NaN</td>\n",
       "      <td>NaN</td>\n",
       "      <td>NaN</td>\n",
       "      <td>NaN</td>\n",
       "    </tr>\n",
       "    <tr>\n",
       "      <th>1963-07-05</th>\n",
       "      <td>NaN</td>\n",
       "      <td>NaN</td>\n",
       "      <td>NaN</td>\n",
       "      <td>NaN</td>\n",
       "      <td>NaN</td>\n",
       "      <td>NaN</td>\n",
       "      <td>NaN</td>\n",
       "      <td>NaN</td>\n",
       "      <td>NaN</td>\n",
       "      <td>NaN</td>\n",
       "      <td>NaN</td>\n",
       "      <td>NaN</td>\n",
       "      <td>NaN</td>\n",
       "      <td>NaN</td>\n",
       "      <td>NaN</td>\n",
       "    </tr>\n",
       "    <tr>\n",
       "      <th>1963-07-08</th>\n",
       "      <td>NaN</td>\n",
       "      <td>NaN</td>\n",
       "      <td>NaN</td>\n",
       "      <td>NaN</td>\n",
       "      <td>NaN</td>\n",
       "      <td>NaN</td>\n",
       "      <td>NaN</td>\n",
       "      <td>NaN</td>\n",
       "      <td>NaN</td>\n",
       "      <td>NaN</td>\n",
       "      <td>NaN</td>\n",
       "      <td>NaN</td>\n",
       "      <td>NaN</td>\n",
       "      <td>NaN</td>\n",
       "      <td>NaN</td>\n",
       "    </tr>\n",
       "  </tbody>\n",
       "</table>\n",
       "</div>"
      ],
      "text/plain": [
       "            (CMA, SMB)  (Mkt-RF, RMW)  (HML, SMB)  (SMB, SMB)  (RMW, SMB)  \\\n",
       "YYMM                                                                        \n",
       "1963-07-01         NaN            NaN         NaN         NaN         NaN   \n",
       "1963-07-02         NaN            NaN         NaN         NaN         NaN   \n",
       "1963-07-03         NaN            NaN         NaN         NaN         NaN   \n",
       "1963-07-05         NaN            NaN         NaN         NaN         NaN   \n",
       "1963-07-08         NaN            NaN         NaN         NaN         NaN   \n",
       "\n",
       "            (Mkt-RF, Mkt-RF)  (CMA, HML)  (CMA, CMA)  (HML, HML)  \\\n",
       "YYMM                                                               \n",
       "1963-07-01               NaN         NaN         NaN         NaN   \n",
       "1963-07-02               NaN         NaN         NaN         NaN   \n",
       "1963-07-03               NaN         NaN         NaN         NaN   \n",
       "1963-07-05               NaN         NaN         NaN         NaN   \n",
       "1963-07-08               NaN         NaN         NaN         NaN   \n",
       "\n",
       "            (Mkt-RF, SMB)  (HML, RMW)  (CMA, RMW)  (HML, Mkt-RF)  (RMW, RMW)  \\\n",
       "YYMM                                                                           \n",
       "1963-07-01            NaN         NaN         NaN            NaN         NaN   \n",
       "1963-07-02            NaN         NaN         NaN            NaN         NaN   \n",
       "1963-07-03            NaN         NaN         NaN            NaN         NaN   \n",
       "1963-07-05            NaN         NaN         NaN            NaN         NaN   \n",
       "1963-07-08            NaN         NaN         NaN            NaN         NaN   \n",
       "\n",
       "            (CMA, Mkt-RF)  \n",
       "YYMM                       \n",
       "1963-07-01            NaN  \n",
       "1963-07-02            NaN  \n",
       "1963-07-03            NaN  \n",
       "1963-07-05            NaN  \n",
       "1963-07-08            NaN  "
      ]
     },
     "execution_count": 185,
     "metadata": {},
     "output_type": "execute_result"
    }
   ],
   "source": [
    "df[new_cols].head()"
   ]
  },
  {
   "cell_type": "code",
   "execution_count": 186,
   "metadata": {},
   "outputs": [
    {
     "data": {
      "image/png": "[encoded data removed]",
      "text/plain": [
       "<Figure size 432x288 with 1 Axes>"
      ]
     },
     "metadata": {
      "needs_background": "light"
     },
     "output_type": "display_data"
    }
   ],
   "source": [
    "for col in df.columns:\n",
    "    df[col].plot()"
   ]
  },
  {
   "cell_type": "code",
   "execution_count": null,
   "metadata": {},
   "outputs": [],
   "source": [
    "models_ff = []\n",
    "for i in range (5):\n",
    "    x = ff5.drop(ff5.columns[i], axis=1)\n",
    "    x = sm.add_constant(x)\n",
    "    y = ff5.iloc[:, i]\n",
    "    reg = sm.OLS(y, x)   \n",
    "    models_ff.append(reg.fit())"
   ]
  },
  {
   "cell_type": "code",
   "execution_count": 11,
   "metadata": {},
   "outputs": [
    {
     "name": "stdout",
     "output_type": "stream",
     "text": [
      "                            OLS Regression Results                            \n",
      "==============================================================================\n",
      "Dep. Variable:                    CMA   R-squared:                       0.383\n",
      "Model:                            OLS   Adj. R-squared:                  0.383\n",
      "Method:                 Least Squares   F-statistic:                     2184.\n",
      "Date:                Mon, 15 Jul 2019   Prob (F-statistic):               0.00\n",
      "Time:                        18:04:34   Log-Likelihood:                -2372.1\n",
      "No. Observations:               14075   AIC:                             4754.\n",
      "Df Residuals:                   14070   BIC:                             4792.\n",
      "Df Model:                           4                                         \n",
      "Covariance Type:            nonrobust                                         \n",
      "==============================================================================\n",
      "                 coef    std err          t      P>|t|      [0.025      0.975]\n",
      "------------------------------------------------------------------------------\n",
      "const          0.0100      0.002      4.138      0.000       0.005       0.015\n",
      "Mkt-RF        -0.0997      0.003    -37.943      0.000      -0.105      -0.095\n",
      "SMB           -0.0257      0.005     -5.174      0.000      -0.035      -0.016\n",
      "HML            0.3658      0.005     73.968      0.000       0.356       0.375\n",
      "RMW            0.0216      0.007      3.009      0.003       0.008       0.036\n",
      "==============================================================================\n",
      "Omnibus:                     2265.013   Durbin-Watson:                   1.865\n",
      "Prob(Omnibus):                  0.000   Jarque-Bera (JB):            31739.923\n",
      "Skew:                          -0.323   Prob(JB):                         0.00\n",
      "Kurtosis:                      10.328   Cond. No.                         3.15\n",
      "==============================================================================\n",
      "\n",
      "Warnings:\n",
      "[1] Standard Errors assume that the covariance matrix of the errors is correctly specified.\n"
     ]
    }
   ],
   "source": [
    "print(models_ff[4].summary())"
   ]
  },
  {
   "cell_type": "code",
   "execution_count": 14,
   "metadata": {},
   "outputs": [
    {
     "name": "stdout",
     "output_type": "stream",
     "text": [
      "              Regressions among 5 Factors - Daily Return\n",
      "=======================================================================\n",
      "                   Mkt-RF      SMB        HML        RMW        CMA    \n",
      "-----------------------------------------------------------------------\n",
      "const            0.05***    0.02***    0.01**     0.02***    0.01***   \n",
      "                 (0.01)     (0.00)     (0.00)     (0.00)     (0.00)    \n",
      "Mkt-RF                      -0.10***   -0.01**    -0.10***   -0.10***  \n",
      "                            (0.00)     (0.00)     (0.00)     (0.00)    \n",
      "SMB              -0.33***              0.03***    -0.22***   -0.03***  \n",
      "                 (0.01)                (0.01)     (0.01)     (0.00)    \n",
      "HML              -0.04**    0.04***               -0.08***   0.37***   \n",
      "                 (0.02)     (0.01)                (0.01)     (0.00)    \n",
      "RMW              -0.66***   -0.46***   -0.12***              0.02***   \n",
      "                 (0.02)     (0.01)     (0.01)                (0.01)    \n",
      "CMA              -0.93***   -0.07***   0.77***    0.03***              \n",
      "                 (0.02)     (0.01)     (0.01)     (0.01)               \n",
      "R-squared        0.2084     0.1189     0.3211     0.1567     0.3830    \n",
      "No. observations 14075.0000 14075.0000 14075.0000 14075.0000 14075.0000\n",
      "=======================================================================\n",
      "Standard errors in parentheses.\n",
      "* p<.1, ** p<.05, ***p<.01\n"
     ]
    }
   ],
   "source": [
    "\n",
    "info_dict={'R-squared' : lambda x: x.rsquared,\n",
    "           'No. observations' : lambda x: int(x.nobs)}\n",
    "           \n",
    "results_table = summary_col(results= models_ff,\n",
    "                            stars = True,\n",
    "                            model_names=ff5.columns.tolist(),\n",
    "                            float_format =\"%.2f\",\n",
    "                            info_dict = info_dict,\n",
    "                            regressor_order=['const', 'Mkt-RF', 'SMB', 'HML', 'RMW', 'CMA']\n",
    "                           )\n",
    "\n",
    "results_table.add_title('Regressions among 5 Factors - Daily Return')\n",
    "\n",
    "print(results_table)"
   ]
  },
  {
   "cell_type": "code",
   "execution_count": 17,
   "metadata": {},
   "outputs": [],
   "source": [
    "ff5_mm = pd.read_csv('data/F-F_Research_Data_5_Factors_2x3_monthly.csv')"
   ]
  },
  {
   "cell_type": "code",
   "execution_count": 18,
   "metadata": {},
   "outputs": [],
   "source": [
    "ff5_mm.rename(columns = {'Unnamed: 0': 'YYMM'}, inplace = True)"
   ]
  },
  {
   "cell_type": "code",
   "execution_count": 19,
   "metadata": {},
   "outputs": [],
   "source": [
    "ff5_mm['YYMM'] = pd.to_datetime(ff5_mm['YYMM'],yearfirst=True, format='%Y%m')"
   ]
  },
  {
   "cell_type": "code",
   "execution_count": 20,
   "metadata": {},
   "outputs": [],
   "source": [
    "ff5_mm.index = ff5_mm['YYMM']"
   ]
  },
  {
   "cell_type": "code",
   "execution_count": 21,
   "metadata": {},
   "outputs": [],
   "source": [
    "ff5_mm = ff5_mm.drop('RF', axis = 1)\n",
    "ff5_mm = ff5_mm.drop('YYMM', axis=1)"
   ]
  },
  {
   "cell_type": "code",
   "execution_count": 22,
   "metadata": {},
   "outputs": [],
   "source": [
    "models_ff_mm = []\n",
    "for i in range (5):\n",
    "    x = ff5_mm.drop(ff5_mm.columns[i], axis=1)\n",
    "    x = sm.add_constant(x)\n",
    "    y = ff5_mm.iloc[:, i]\n",
    "    reg = sm.OLS(y, x)   \n",
    "    models_ff_mm.append(reg.fit())"
   ]
  },
  {
   "cell_type": "code",
   "execution_count": 24,
   "metadata": {},
   "outputs": [
    {
     "name": "stdout",
     "output_type": "stream",
     "text": [
      "        Regressions among 5 Factors - Monthly Return\n",
      "=============================================================\n",
      "                  Mkt-RF    SMB      HML      RMW      CMA   \n",
      "-------------------------------------------------------------\n",
      "const            0.79***  0.30***  -0.02    0.40***  0.23*** \n",
      "                 (0.15)   (0.11)   (0.08)   (0.08)   (0.05)  \n",
      "Mkt-RF                    0.13***  0.02     -0.10*** -0.11***\n",
      "                          (0.03)   (0.02)   (0.02)   (0.01)  \n",
      "SMB              0.25***           0.03     -0.22*** -0.03   \n",
      "                 (0.05)            (0.03)   (0.03)   (0.02)  \n",
      "HML              0.09     0.06              0.14***  0.45*** \n",
      "                 (0.07)   (0.05)            (0.04)   (0.02)  \n",
      "RMW              -0.38*** -0.43*** 0.14***           -0.14***\n",
      "                 (0.07)   (0.05)   (0.04)            (0.03)  \n",
      "CMA              -0.91*** -0.13    1.00***  -0.29***         \n",
      "                 (0.10)   (0.08)   (0.04)   (0.06)           \n",
      "R-squared        0.2362   0.1651   0.4903   0.1741   0.5462  \n",
      "No. observations 671.0000 671.0000 671.0000 671.0000 671.0000\n",
      "=============================================================\n",
      "Standard errors in parentheses.\n",
      "* p<.1, ** p<.05, ***p<.01\n"
     ]
    }
   ],
   "source": [
    "info_dict={'R-squared' : lambda x: x.rsquared,\n",
    "           'No. observations' : lambda x: int(x.nobs)}\n",
    "           \n",
    "results_table = summary_col(results= models_ff_mm,\n",
    "                            stars = True,\n",
    "                            model_names=ff5_mm.columns.tolist(),\n",
    "                            float_format =\"%.2f\",\n",
    "                            info_dict = info_dict,\n",
    "                            regressor_order=['const', 'Mkt-RF', 'SMB', 'HML', 'RMW', 'CMA']\n",
    "                           )\n",
    "\n",
    "results_table.add_title('Regressions among 5 Factors - Monthly Return')\n",
    "\n",
    "print(results_table)"
   ]
  },
  {
   "cell_type": "code",
   "execution_count": null,
   "metadata": {},
   "outputs": [],
   "source": []
  }
 ],
 "metadata": {
  "kernelspec": {
   "display_name": "Python 3",
   "language": "python",
   "name": "python3"
  },
  "language_info": {
   "codemirror_mode": {
    "name": "ipython",
    "version": 3
   },
   "file_extension": ".py",
   "mimetype": "text/x-python",
   "name": "python",
   "nbconvert_exporter": "python",
   "pygments_lexer": "ipython3",
   "version": "3.5.6"
  }
 },
 "nbformat": 4,
 "nbformat_minor": 2
}
