{
 "cells": [
  {
   "cell_type": "code",
   "execution_count": 77,
   "metadata": {
    "collapsed": true
   },
   "outputs": [],
   "source": [
    "import statsmodels.api as sm #for OLS regression\n",
    "import numpy as np\n",
    "import pandas as pd\n",
    "from pandas import DataFrame\n",
    "import matplotlib.pyplot as plt #for heatmap plotting\n",
    "from mpl_toolkits.mplot3d import Axes3D\n",
    "import seaborn as sns #for heatmap plotting\n",
    "from statsmodels.iolib.summary2 import summary_col #to summarize multiple regressions in one table"
   ]
  },
  {
   "cell_type": "code",
   "execution_count": 12,
   "metadata": {
    "collapsed": true
   },
   "outputs": [],
   "source": [
    "p25 = pd.read_csv('C:/Users/yz2991/Desktop/25_Porfolio.csv')\n",
    "ff3 = pd.read_csv('C:/Users/yz2991/Desktop/3 factor.csv')"
   ]
  },
  {
   "cell_type": "code",
   "execution_count": 13,
   "metadata": {
    "collapsed": false
   },
   "outputs": [
    {
     "name": "stdout",
     "output_type": "stream",
     "text": [
      "   Unnamed: 0  SMALL LoBM  ME1 BM2  ME1 BM3  ME1 BM4  SMALL HiBM  ME2 BM1  \\\n",
      "0      192607      3.7782  -0.4119  -1.9434   0.3530      2.0534   2.1904   \n",
      "1      192608     -2.2074  -8.7275   2.4404   0.6086      8.3968   2.1709   \n",
      "2      192609     -6.2113  -0.2989  -6.1982  -1.6368      0.8649  -1.8550   \n",
      "3      192610     -8.6241  -3.7532  -5.6719   5.7170     -2.5476  -1.7995   \n",
      "4      192611      3.4744   6.6476   2.2634  -4.7020      0.5362   2.9051   \n",
      "\n",
      "   ME2 BM2  ME2 BM3  ME2 BM4    ...     ME4 BM1  ME4 BM2  ME4 BM3  ME4 BM4  \\\n",
      "0   2.4192   0.4926  -1.5770    ...      1.5893   1.5278   1.1869   0.2727   \n",
      "1  -1.1849   4.0084   0.4643    ...      1.3336   3.8730   2.0059   2.1706   \n",
      "2  -1.2618   1.0829  -3.0405    ...      1.0923  -0.5250  -1.7314   1.4646   \n",
      "3  -3.2663  -5.0745  -8.0450    ...     -3.3361  -2.6559  -2.0316  -3.1051   \n",
      "4  -2.3690   3.0078   4.6649    ...      3.4448   2.3887   3.7403   4.9320   \n",
      "\n",
      "   ME4 BM5  BIG LoBM  ME5 BM2  ME5 BM3  ME5 BM4  BIG HiBM  \n",
      "0   2.4678    3.4539   6.0902   2.0266   3.1111    0.5623  \n",
      "1   5.3422    1.0124   4.1903   2.0131   5.4849    7.7576  \n",
      "2   0.8730   -1.2906   3.6538   0.0950  -0.7487   -2.4284  \n",
      "3  -5.3525   -2.7413  -3.0071  -2.2437  -4.6719   -5.8129  \n",
      "4   1.8213    4.2946   2.5326   1.5204   3.6619    2.5636  \n",
      "\n",
      "[5 rows x 26 columns]\n",
      "      Unnamed: 0  SMALL LoBM  ME1 BM2  ME1 BM3  ME1 BM4  SMALL HiBM  ME2 BM1  \\\n",
      "1109      201812    -13.1681 -13.6925 -11.4772 -11.3426    -12.8284 -12.7605   \n",
      "1110      201901     11.3893  10.8070  10.1024   8.4725     11.3341  10.9533   \n",
      "1111      201902      6.8406   6.0753   6.3301   5.1296      3.7918   6.2386   \n",
      "1112      201903      0.9979  -0.3472  -2.5891  -5.0242     -3.4727  -0.2667   \n",
      "1113      201904      0.4828   1.5694   2.1759   3.5631      2.1164   2.9577   \n",
      "\n",
      "      ME2 BM2  ME2 BM3  ME2 BM4    ...     ME4 BM1  ME4 BM2  ME4 BM3  ME4 BM4  \\\n",
      "1109 -11.6475 -11.1974 -13.0369    ...    -10.0650 -11.3788 -10.4900 -12.4654   \n",
      "1110  11.8328   9.8591  10.5370    ...     11.9955  10.3263  10.4053  11.4275   \n",
      "1111   6.8178   5.7384   5.4648    ...      6.8036   4.9822   3.2746   1.9269   \n",
      "1112  -1.6685  -2.7253  -6.0620    ...      1.8218   1.1179  -0.9002  -0.4575   \n",
      "1113   1.9696   3.7312   4.1733    ...      3.1757   4.1569   4.3501   5.0630   \n",
      "\n",
      "      ME4 BM5  BIG LoBM  ME5 BM2  ME5 BM3  ME5 BM4  BIG HiBM  \n",
      "1109 -13.0926   -8.3847  -7.0721 -10.5354 -10.1451  -12.9822  \n",
      "1110  12.7893    8.2839   5.9597  10.1062   6.4893   13.2909  \n",
      "1111   2.8139    3.9041   2.9672   3.1137   1.7376    1.6675  \n",
      "1112  -2.8702    3.3344   1.9283  -0.1602  -0.5929   -3.0620  \n",
      "1113   4.3419    4.6039   2.9807   3.6429   5.1341    9.3863  \n",
      "\n",
      "[5 rows x 26 columns]\n"
     ]
    }
   ],
   "source": [
    "#check the start and end of p25 \n",
    "print(p25.head())\n",
    "print(p25.tail())"
   ]
  },
  {
   "cell_type": "code",
   "execution_count": 14,
   "metadata": {
    "collapsed": false
   },
   "outputs": [
    {
     "name": "stdout",
     "output_type": "stream",
     "text": [
      "   Unnamed: 0  Mkt-RF   SMB   HML    RF\n",
      "0      192607    2.96 -2.30 -2.87  0.22\n",
      "1      192608    2.64 -1.40  4.19  0.25\n",
      "2      192609    0.36 -1.32  0.01  0.23\n",
      "3      192610   -3.24  0.04  0.51  0.32\n",
      "4      192611    2.53 -0.20 -0.35  0.31\n",
      "      Unnamed: 0  Mkt-RF   SMB   HML    RF\n",
      "1109      201812   -9.55 -2.58 -1.51  0.19\n",
      "1110      201901    8.41  3.02 -0.60  0.21\n",
      "1111      201902    3.40  2.02 -2.84  0.18\n",
      "1112      201903    1.10 -3.15 -4.07  0.19\n",
      "1113      201904    3.96 -1.69  1.99  0.21\n"
     ]
    }
   ],
   "source": [
    "#check the start and end of ff3\n",
    "print(ff3.head())\n",
    "print(ff3.tail())"
   ]
  },
  {
   "cell_type": "code",
   "execution_count": 15,
   "metadata": {
    "collapsed": true
   },
   "outputs": [],
   "source": [
    "#updated the field name of Year&month field\n",
    "p25.rename(columns = {'Unnamed: 0': 'YYMM'}, inplace = True)\n",
    "ff3.rename(columns = {'Unnamed: 0': 'YYMM'}, inplace = True)"
   ]
  },
  {
   "cell_type": "code",
   "execution_count": 16,
   "metadata": {
    "collapsed": false
   },
   "outputs": [
    {
     "name": "stdout",
     "output_type": "stream",
     "text": [
      "Index(['YYMM', 'Mkt-RF', 'SMB', 'HML', 'RF'], dtype='object')\n",
      "Index(['YYMM', 'SMALL LoBM', 'ME1 BM2', 'ME1 BM3', 'ME1 BM4', 'SMALL HiBM',\n",
      "       'ME2 BM1', 'ME2 BM2', 'ME2 BM3', 'ME2 BM4', 'ME2 BM5', 'ME3 BM1',\n",
      "       'ME3 BM2', 'ME3 BM3', 'ME3 BM4', 'ME3 BM5', 'ME4 BM1', 'ME4 BM2',\n",
      "       'ME4 BM3', 'ME4 BM4', 'ME4 BM5', 'BIG LoBM', 'ME5 BM2', 'ME5 BM3',\n",
      "       'ME5 BM4', 'BIG HiBM'],\n",
      "      dtype='object')\n"
     ]
    }
   ],
   "source": [
    "#check the column names\n",
    "print(ff3.columns)\n",
    "print(p25.columns)"
   ]
  },
  {
   "cell_type": "code",
   "execution_count": 17,
   "metadata": {
    "collapsed": false
   },
   "outputs": [
    {
     "name": "stdout",
     "output_type": "stream",
     "text": [
      "   SMALL LoBM   ME1 BM2   ME1 BM3   ME1 BM4  SMALL HiBM   ME2 BM1   ME2 BM2  \\\n",
      "0    0.035582 -0.006319 -0.021634  0.001330    0.018334  0.019704  0.021992   \n",
      "1   -0.024574 -0.089775  0.021904  0.003586    0.081468  0.019209 -0.014349   \n",
      "2   -0.064413 -0.005289 -0.064282 -0.018668    0.006349 -0.020850 -0.014918   \n",
      "3   -0.089441 -0.040732 -0.059919  0.053970   -0.028676 -0.021195 -0.035863   \n",
      "4    0.031644  0.063376  0.019534 -0.050120    0.002262  0.025951 -0.026790   \n",
      "\n",
      "    ME2 BM3   ME2 BM4   ME2 BM5    ...      ME4 BM1   ME4 BM2   ME4 BM3  \\\n",
      "0  0.002726 -0.017970 -0.005544    ...     0.013693  0.013078  0.009669   \n",
      "1  0.037584  0.002143  0.059175    ...     0.010836  0.036230  0.017559   \n",
      "2  0.008529 -0.032705 -0.011701    ...     0.008623 -0.007550 -0.019614   \n",
      "3 -0.053945 -0.083650 -0.016413    ...    -0.036561 -0.029759 -0.023516   \n",
      "4  0.026978  0.043549  0.024192    ...     0.031348  0.020787  0.034303   \n",
      "\n",
      "    ME4 BM4   ME4 BM5  BIG LoBM   ME5 BM2   ME5 BM3   ME5 BM4  BIG HiBM  \n",
      "0  0.000527  0.022478  0.032339  0.058702  0.018066  0.028911  0.003423  \n",
      "1  0.019206  0.050922  0.007624  0.039403  0.017631  0.052349  0.075076  \n",
      "2  0.012346  0.006430 -0.015206  0.034238 -0.001350 -0.009787 -0.026584  \n",
      "3 -0.034251 -0.056725 -0.030613 -0.033271 -0.025637 -0.049919 -0.061329  \n",
      "4  0.046220  0.015113  0.039846  0.022226  0.012104  0.033519  0.022536  \n",
      "\n",
      "[5 rows x 25 columns]\n"
     ]
    }
   ],
   "source": [
    "#to convert to decile format and get excess returns\n",
    "ff3.iloc[:,1:ff3.shape[1]] = ff3.iloc[:,1:ff3.shape[1]]/100\n",
    "p25_excess=(p25.iloc[:,1:p25.shape[1]]/100).sub(ff3.RF,axis=0)\n",
    "print(p25_excess.head())"
   ]
  },
  {
   "cell_type": "code",
   "execution_count": 18,
   "metadata": {
    "collapsed": true
   },
   "outputs": [],
   "source": [
    "#YYMM as timestamp\n",
    "ff3['YYMM'] = pd.to_datetime(ff3['YYMM'],yearfirst=True, format='%Y%m')\n",
    "p25_excess['YYMM'] = pd.to_datetime(p25['YYMM'],yearfirst=True, format='%Y%m')"
   ]
  },
  {
   "cell_type": "code",
   "execution_count": 19,
   "metadata": {
    "collapsed": true
   },
   "outputs": [],
   "source": [
    "\n",
    "#change timestamps to index and delete unnecessary columns\n",
    "ff3.index = ff3['YYMM']\n",
    "p25_excess.index = p25_excess['YYMM']\n",
    "ff3 = ff3.drop('YYMM', axis = 1)\n",
    "p25_excess = p25_excess.drop('YYMM', axis = 1)\n",
    "ff3 = ff3.drop('RF', axis = 1)"
   ]
  },
  {
   "cell_type": "code",
   "execution_count": 20,
   "metadata": {
    "collapsed": false
   },
   "outputs": [
    {
     "name": "stdout",
     "output_type": "stream",
     "text": [
      "       Market Size 0  Market Size 1  Market Size 2  Market Size 3  \\\n",
      "B/M 0       0.005827       0.006958       0.009895       0.011676   \n",
      "B/M 1       0.006415       0.009339       0.009817       0.010513   \n",
      "B/M 2       0.007159       0.009111       0.009241       0.010141   \n",
      "B/M 3       0.007398       0.007629       0.008582       0.009587   \n",
      "B/M 4       0.006404       0.006379       0.007056       0.006493   \n",
      "\n",
      "       Market Size 4  \n",
      "B/M 0       0.013425  \n",
      "B/M 1       0.012262  \n",
      "B/M 2       0.011239  \n",
      "B/M 3       0.010252  \n",
      "B/M 4       0.009476  \n"
     ]
    },
    {
     "data": {
      "text/plain": [
       "pandas.core.frame.DataFrame"
      ]
     },
     "execution_count": 20,
     "metadata": {},
     "output_type": "execute_result"
    }
   ],
   "source": [
    "\n",
    "#calculate average excess return for the 25 porfolios over the whole history\n",
    "avg_return = p25_excess.mean(axis = 0)\n",
    "avg_return = avg_return.as_matrix(columns = None)\n",
    "avg_return = pd.DataFrame(avg_return.reshape((5,5)))\n",
    "avg_return.rename(columns = {0:'Market Size 0', 1:'Market Size 1', 2: 'Market Size 2', 3:'Market Size 3',4:'Market Size 4'}, inplace = True) \n",
    "avg_return.rename(index = {0:'B/M 0', 1:'B/M 1', 2: 'B/M 2', 3:'B/M 3',4:'B/M 4'}, inplace = True)\n",
    "\n",
    "print(avg_return)\n",
    "type(avg_return)"
   ]
  },
  {
   "cell_type": "code",
   "execution_count": 21,
   "metadata": {
    "collapsed": false
   },
   "outputs": [
    {
     "data": {
      "image/png": "[encoded data removed]",
      "text/plain": [
       "<matplotlib.figure.Figure at 0x21191027630>"
      ]
     },
     "metadata": {},
     "output_type": "display_data"
    }
   ],
   "source": [
    "#plot the average excess return of 25 portfolios in a heatmap\n",
    "plt.pcolor(avg_return)\n",
    "plt.yticks(np.arange(0.5, len(avg_return.index), 1), avg_return.index)\n",
    "plt.xticks(np.arange(0.5, len(avg_return.columns), 1), avg_return.columns)\n",
    "plt.show()"
   ]
  },
  {
   "cell_type": "code",
   "execution_count": 22,
   "metadata": {
    "collapsed": true
   },
   "outputs": [],
   "source": [
    "#create class to run OLS for 25 portfolios\n",
    "class famafrench():\n",
    "    def __init__(self, y, start = '1963-7-1', end = '1990-12-1'):\n",
    "        self.start = start\n",
    "        self.end = end\n",
    "        self.y = y[start:end]\n",
    "    \n",
    "    def __str__(self):\n",
    "        return 'from %s to %s' %(self.start, self.end)\n",
    "\n",
    "    def variables(self):\n",
    "        x = ff3[self.start:self.end]\n",
    "        y = self.y[self.start:self.end]\n",
    "        return x, y\n",
    "\n",
    "    def regression(self):\n",
    "        x = self.variables()[0]\n",
    "        x = sm.add_constant(x)\n",
    "        y = self.variables()[1]\n",
    "        model = sm.OLS(y,x)\n",
    "        result = model.fit()\n",
    "\n",
    "        return result"
   ]
  },
  {
   "cell_type": "code",
   "execution_count": 38,
   "metadata": {
    "collapsed": false,
    "scrolled": true
   },
   "outputs": [
    {
     "name": "stdout",
     "output_type": "stream",
     "text": [
      "              0         1         2         3         4         5         6   \\\n",
      "const  -0.003828 -0.000930 -0.000768  0.000871  0.000597 -0.001255  0.000170   \n",
      "Mkt-RF  1.046603  0.972848  0.938089  0.894567  0.954416  1.098883  1.019992   \n",
      "SMB     1.388987  1.271877  1.152424  1.097745  1.189345  1.002405  0.940784   \n",
      "HML    -0.295854  0.078804  0.263227  0.383254  0.620865 -0.481622  0.017782   \n",
      "\n",
      "              7         8         9     ...           15        16        17  \\\n",
      "const   0.001284  0.001559  0.000638    ...     0.001143 -0.001210 -0.000034   \n",
      "Mkt-RF  0.971872  0.973286  1.060355    ...     1.062428  1.076970  1.043237   \n",
      "SMB     0.833638  0.698645  0.849039    ...     0.303937  0.263752  0.244960   \n",
      "HML     0.237110  0.470338  0.694737    ...    -0.442799  0.017233  0.305987   \n",
      "\n",
      "              18        19        20        21        22        23        24  \n",
      "const   0.000631  0.000214  0.001897  0.000063 -0.000320 -0.000729 -0.001759  \n",
      "Mkt-RF  1.038340  1.148459  0.951570  1.024236  0.969943  1.011858  1.011664  \n",
      "SMB     0.226069  0.368928 -0.198438 -0.196133 -0.269842 -0.198377 -0.033498  \n",
      "HML     0.569874  0.735170 -0.439668 -0.025839  0.192216  0.564534  0.753938  \n",
      "\n",
      "[4 rows x 25 columns]\n",
      "['HC0_se', 'HC1_se', 'HC2_se', 'HC3_se', '_HCCM', '__class__', '__delattr__', '__dict__', '__dir__', '__doc__', '__eq__', '__format__', '__ge__', '__getattribute__', '__gt__', '__hash__', '__init__', '__init_subclass__', '__le__', '__lt__', '__module__', '__ne__', '__new__', '__reduce__', '__reduce_ex__', '__repr__', '__setattr__', '__sizeof__', '__str__', '__subclasshook__', '__weakref__', '_cache', '_data_attr', '_get_robustcov_results', '_is_nested', '_wexog_singular_values', 'aic', 'bic', 'bse', 'centered_tss', 'compare_f_test', 'compare_lm_test', 'compare_lr_test', 'condition_number', 'conf_int', 'conf_int_el', 'cov_HC0', 'cov_HC1', 'cov_HC2', 'cov_HC3', 'cov_kwds', 'cov_params', 'cov_type', 'df_model', 'df_resid', 'eigenvals', 'el_test', 'ess', 'f_pvalue', 'f_test', 'fittedvalues', 'fvalue', 'get_influence', 'get_robustcov_results', 'initialize', 'k_constant', 'llf', 'load', 'model', 'mse_model', 'mse_resid', 'mse_total', 'nobs', 'normalized_cov_params', 'outlier_test', 'params', 'predict', 'pvalues', 'remove_data', 'resid', 'resid_pearson', 'rsquared', 'rsquared_adj', 'save', 'scale', 'ssr', 'summary', 'summary2', 't_test', 'tvalues', 'uncentered_tss', 'use_t', 'wald_test', 'wresid']\n"
     ]
    },
    {
     "ename": "ValueError",
     "evalue": "shapes (330,25) and (330,25) not aligned: 25 (dim 1) != 330 (dim 0)",
     "output_type": "error",
     "traceback": [
      "\u001b[0;31m---------------------------------------------------------------------------\u001b[0m",
      "\u001b[0;31mValueError\u001b[0m                                Traceback (most recent call last)",
      "\u001b[0;32m<ipython-input-38-31d1e33a5db3>\u001b[0m in \u001b[0;36m<module>\u001b[0;34m()\u001b[0m\n\u001b[1;32m      7\u001b[0m \u001b[1;31m# res.rsquared()\u001b[0m\u001b[1;33m\u001b[0m\u001b[1;33m\u001b[0m\u001b[0m\n\u001b[1;32m      8\u001b[0m \u001b[1;31m# res.tvalues()\u001b[0m\u001b[1;33m\u001b[0m\u001b[1;33m\u001b[0m\u001b[0m\n\u001b[0;32m----> 9\u001b[0;31m \u001b[0mprint\u001b[0m\u001b[1;33m(\u001b[0m\u001b[0mnp\u001b[0m\u001b[1;33m.\u001b[0m\u001b[0msqueeze\u001b[0m\u001b[1;33m(\u001b[0m\u001b[0mnp\u001b[0m\u001b[1;33m.\u001b[0m\u001b[0marray\u001b[0m\u001b[1;33m(\u001b[0m\u001b[0mres\u001b[0m\u001b[1;33m.\u001b[0m\u001b[0mrsquared\u001b[0m\u001b[1;33m)\u001b[0m\u001b[1;33m)\u001b[0m\u001b[1;33m)\u001b[0m\u001b[1;33m\u001b[0m\u001b[0m\n\u001b[0m",
      "\u001b[0;32mC:\\Program Files\\Anaconda3\\lib\\site-packages\\statsmodels\\base\\wrapper.py\u001b[0m in \u001b[0;36m__getattribute__\u001b[0;34m(self, attr)\u001b[0m\n\u001b[1;32m     33\u001b[0m             \u001b[1;32mpass\u001b[0m\u001b[1;33m\u001b[0m\u001b[0m\n\u001b[1;32m     34\u001b[0m \u001b[1;33m\u001b[0m\u001b[0m\n\u001b[0;32m---> 35\u001b[0;31m         \u001b[0mobj\u001b[0m \u001b[1;33m=\u001b[0m \u001b[0mgetattr\u001b[0m\u001b[1;33m(\u001b[0m\u001b[0mresults\u001b[0m\u001b[1;33m,\u001b[0m \u001b[0mattr\u001b[0m\u001b[1;33m)\u001b[0m\u001b[1;33m\u001b[0m\u001b[0m\n\u001b[0m\u001b[1;32m     36\u001b[0m         \u001b[0mdata\u001b[0m \u001b[1;33m=\u001b[0m \u001b[0mresults\u001b[0m\u001b[1;33m.\u001b[0m\u001b[0mmodel\u001b[0m\u001b[1;33m.\u001b[0m\u001b[0mdata\u001b[0m\u001b[1;33m\u001b[0m\u001b[0m\n\u001b[1;32m     37\u001b[0m         \u001b[0mhow\u001b[0m \u001b[1;33m=\u001b[0m \u001b[0mself\u001b[0m\u001b[1;33m.\u001b[0m\u001b[0m_wrap_attrs\u001b[0m\u001b[1;33m.\u001b[0m\u001b[0mget\u001b[0m\u001b[1;33m(\u001b[0m\u001b[0mattr\u001b[0m\u001b[1;33m)\u001b[0m\u001b[1;33m\u001b[0m\u001b[0m\n",
      "\u001b[0;32mC:\\Program Files\\Anaconda3\\lib\\site-packages\\statsmodels\\tools\\decorators.py\u001b[0m in \u001b[0;36m__get__\u001b[0;34m(self, obj, type)\u001b[0m\n\u001b[1;32m     92\u001b[0m         \u001b[1;32mif\u001b[0m \u001b[0m_cachedval\u001b[0m \u001b[1;32mis\u001b[0m \u001b[1;32mNone\u001b[0m\u001b[1;33m:\u001b[0m\u001b[1;33m\u001b[0m\u001b[0m\n\u001b[1;32m     93\u001b[0m             \u001b[1;31m# Call the \"fget\" function\u001b[0m\u001b[1;33m\u001b[0m\u001b[1;33m\u001b[0m\u001b[0m\n\u001b[0;32m---> 94\u001b[0;31m             \u001b[0m_cachedval\u001b[0m \u001b[1;33m=\u001b[0m \u001b[0mself\u001b[0m\u001b[1;33m.\u001b[0m\u001b[0mfget\u001b[0m\u001b[1;33m(\u001b[0m\u001b[0mobj\u001b[0m\u001b[1;33m)\u001b[0m\u001b[1;33m\u001b[0m\u001b[0m\n\u001b[0m\u001b[1;32m     95\u001b[0m             \u001b[1;31m# Set the attribute in obj\u001b[0m\u001b[1;33m\u001b[0m\u001b[1;33m\u001b[0m\u001b[0m\n\u001b[1;32m     96\u001b[0m \u001b[1;31m#            print(\"Setting %s in cache to %s\" % (name, _cachedval))\u001b[0m\u001b[1;33m\u001b[0m\u001b[1;33m\u001b[0m\u001b[0m\n",
      "\u001b[0;32mC:\\Program Files\\Anaconda3\\lib\\site-packages\\statsmodels\\regression\\linear_model.py\u001b[0m in \u001b[0;36mrsquared\u001b[0;34m(self)\u001b[0m\n\u001b[1;32m   1179\u001b[0m     \u001b[1;32mdef\u001b[0m \u001b[0mrsquared\u001b[0m\u001b[1;33m(\u001b[0m\u001b[0mself\u001b[0m\u001b[1;33m)\u001b[0m\u001b[1;33m:\u001b[0m\u001b[1;33m\u001b[0m\u001b[0m\n\u001b[1;32m   1180\u001b[0m         \u001b[1;32mif\u001b[0m \u001b[0mself\u001b[0m\u001b[1;33m.\u001b[0m\u001b[0mk_constant\u001b[0m\u001b[1;33m:\u001b[0m\u001b[1;33m\u001b[0m\u001b[0m\n\u001b[0;32m-> 1181\u001b[0;31m             \u001b[1;32mreturn\u001b[0m \u001b[1;36m1\u001b[0m \u001b[1;33m-\u001b[0m \u001b[0mself\u001b[0m\u001b[1;33m.\u001b[0m\u001b[0mssr\u001b[0m\u001b[1;33m/\u001b[0m\u001b[0mself\u001b[0m\u001b[1;33m.\u001b[0m\u001b[0mcentered_tss\u001b[0m\u001b[1;33m\u001b[0m\u001b[0m\n\u001b[0m\u001b[1;32m   1182\u001b[0m         \u001b[1;32melse\u001b[0m\u001b[1;33m:\u001b[0m\u001b[1;33m\u001b[0m\u001b[0m\n\u001b[1;32m   1183\u001b[0m             \u001b[1;32mreturn\u001b[0m \u001b[1;36m1\u001b[0m \u001b[1;33m-\u001b[0m \u001b[0mself\u001b[0m\u001b[1;33m.\u001b[0m\u001b[0mssr\u001b[0m\u001b[1;33m/\u001b[0m\u001b[0mself\u001b[0m\u001b[1;33m.\u001b[0m\u001b[0muncentered_tss\u001b[0m\u001b[1;33m\u001b[0m\u001b[0m\n",
      "\u001b[0;32mC:\\Program Files\\Anaconda3\\lib\\site-packages\\statsmodels\\tools\\decorators.py\u001b[0m in \u001b[0;36m__get__\u001b[0;34m(self, obj, type)\u001b[0m\n\u001b[1;32m     92\u001b[0m         \u001b[1;32mif\u001b[0m \u001b[0m_cachedval\u001b[0m \u001b[1;32mis\u001b[0m \u001b[1;32mNone\u001b[0m\u001b[1;33m:\u001b[0m\u001b[1;33m\u001b[0m\u001b[0m\n\u001b[1;32m     93\u001b[0m             \u001b[1;31m# Call the \"fget\" function\u001b[0m\u001b[1;33m\u001b[0m\u001b[1;33m\u001b[0m\u001b[0m\n\u001b[0;32m---> 94\u001b[0;31m             \u001b[0m_cachedval\u001b[0m \u001b[1;33m=\u001b[0m \u001b[0mself\u001b[0m\u001b[1;33m.\u001b[0m\u001b[0mfget\u001b[0m\u001b[1;33m(\u001b[0m\u001b[0mobj\u001b[0m\u001b[1;33m)\u001b[0m\u001b[1;33m\u001b[0m\u001b[0m\n\u001b[0m\u001b[1;32m     95\u001b[0m             \u001b[1;31m# Set the attribute in obj\u001b[0m\u001b[1;33m\u001b[0m\u001b[1;33m\u001b[0m\u001b[0m\n\u001b[1;32m     96\u001b[0m \u001b[1;31m#            print(\"Setting %s in cache to %s\" % (name, _cachedval))\u001b[0m\u001b[1;33m\u001b[0m\u001b[1;33m\u001b[0m\u001b[0m\n",
      "\u001b[0;32mC:\\Program Files\\Anaconda3\\lib\\site-packages\\statsmodels\\regression\\linear_model.py\u001b[0m in \u001b[0;36mssr\u001b[0;34m(self)\u001b[0m\n\u001b[1;32m   1151\u001b[0m     \u001b[1;32mdef\u001b[0m \u001b[0mssr\u001b[0m\u001b[1;33m(\u001b[0m\u001b[0mself\u001b[0m\u001b[1;33m)\u001b[0m\u001b[1;33m:\u001b[0m\u001b[1;33m\u001b[0m\u001b[0m\n\u001b[1;32m   1152\u001b[0m         \u001b[0mwresid\u001b[0m \u001b[1;33m=\u001b[0m \u001b[0mself\u001b[0m\u001b[1;33m.\u001b[0m\u001b[0mwresid\u001b[0m\u001b[1;33m\u001b[0m\u001b[0m\n\u001b[0;32m-> 1153\u001b[0;31m         \u001b[1;32mreturn\u001b[0m \u001b[0mnp\u001b[0m\u001b[1;33m.\u001b[0m\u001b[0mdot\u001b[0m\u001b[1;33m(\u001b[0m\u001b[0mwresid\u001b[0m\u001b[1;33m,\u001b[0m \u001b[0mwresid\u001b[0m\u001b[1;33m)\u001b[0m\u001b[1;33m\u001b[0m\u001b[0m\n\u001b[0m\u001b[1;32m   1154\u001b[0m \u001b[1;33m\u001b[0m\u001b[0m\n\u001b[1;32m   1155\u001b[0m     \u001b[1;33m@\u001b[0m\u001b[0mcache_readonly\u001b[0m\u001b[1;33m\u001b[0m\u001b[0m\n",
      "\u001b[0;31mValueError\u001b[0m: shapes (330,25) and (330,25) not aligned: 25 (dim 1) != 330 (dim 0)"
     ]
    }
   ],
   "source": [
    "#get results from OLS\n",
    "x = famafrench(p25_excess)\n",
    "res = x.regression()\n",
    "print(res.params)\n",
    "print(dir(res))\n",
    "type(res)\n",
    "# res.rsquared()\n",
    "# res.tvalues()\n",
    "print(np.squeeze(np.array(res.rsquared)))"
   ]
  },
  {
   "cell_type": "code",
   "execution_count": 54,
   "metadata": {
    "collapsed": false
   },
   "outputs": [],
   "source": [
    "#run OLS regresion without a class\n",
    "x = ff3['1963-7-1':'1990-12-1']\n",
    "x = sm.add_constant(x)\n",
    "y = p25_excess['1963-7-1':'1990-12-1']\n",
    "y0 = y.iloc[:, 0]"
   ]
  },
  {
   "cell_type": "code",
   "execution_count": 56,
   "metadata": {
    "collapsed": false
   },
   "outputs": [
    {
     "name": "stdout",
     "output_type": "stream",
     "text": [
      "                            OLS Regression Results                            \n",
      "==============================================================================\n",
      "Dep. Variable:             SMALL LoBM   R-squared:                       0.941\n",
      "Model:                            OLS   Adj. R-squared:                  0.940\n",
      "Method:                 Least Squares   F-statistic:                     1719.\n",
      "Date:                Sun, 23 Jun 2019   Prob (F-statistic):          2.27e-199\n",
      "Time:                        14:50:22   Log-Likelihood:                 838.41\n",
      "No. Observations:                 330   AIC:                            -1669.\n",
      "Df Residuals:                     326   BIC:                            -1654.\n",
      "Df Model:                           3                                         \n",
      "Covariance Type:            nonrobust                                         \n",
      "==============================================================================\n",
      "                 coef    std err          t      P>|t|      [95.0% Conf. Int.]\n",
      "------------------------------------------------------------------------------\n",
      "const         -0.0038      0.001     -3.533      0.000        -0.006    -0.002\n",
      "Mkt-RF         1.0466      0.027     39.407      0.000         0.994     1.099\n",
      "SMB            1.3890      0.039     35.307      0.000         1.312     1.466\n",
      "HML           -0.2959      0.044     -6.744      0.000        -0.382    -0.210\n",
      "==============================================================================\n",
      "Omnibus:                        8.820   Durbin-Watson:                   1.917\n",
      "Prob(Omnibus):                  0.012   Jarque-Bera (JB):               10.684\n",
      "Skew:                           0.258   Prob(JB):                      0.00479\n",
      "Kurtosis:                       3.714   Cond. No.                         43.6\n",
      "==============================================================================\n",
      "\n",
      "Warnings:\n",
      "[1] Standard Errors assume that the covariance matrix of the errors is correctly specified.\n"
     ]
    }
   ],
   "source": [
    "reg0 = sm.OLS(y0, x)\n",
    "result0 = reg0.fit()\n",
    "print(result0.summary())"
   ]
  },
  {
   "cell_type": "code",
   "execution_count": 74,
   "metadata": {
    "collapsed": false
   },
   "outputs": [
    {
     "name": "stdout",
     "output_type": "stream",
     "text": [
      "const    -0.003828\n",
      "Mkt-RF    1.046603\n",
      "SMB       1.388987\n",
      "HML      -0.295854\n",
      "dtype: float64\n",
      "                            OLS Regression Results                            \n",
      "==============================================================================\n",
      "Dep. Variable:             SMALL LoBM   R-squared:                       0.941\n",
      "Model:                            OLS   Adj. R-squared:                  0.940\n",
      "Method:                 Least Squares   F-statistic:                     1719.\n",
      "Date:                Sun, 23 Jun 2019   Prob (F-statistic):          2.27e-199\n",
      "Time:                        15:33:16   Log-Likelihood:                 838.41\n",
      "No. Observations:                 330   AIC:                            -1669.\n",
      "Df Residuals:                     326   BIC:                            -1654.\n",
      "Df Model:                           3                                         \n",
      "Covariance Type:            nonrobust                                         \n",
      "==============================================================================\n",
      "                 coef    std err          t      P>|t|      [95.0% Conf. Int.]\n",
      "------------------------------------------------------------------------------\n",
      "const         -0.0038      0.001     -3.533      0.000        -0.006    -0.002\n",
      "Mkt-RF         1.0466      0.027     39.407      0.000         0.994     1.099\n",
      "SMB            1.3890      0.039     35.307      0.000         1.312     1.466\n",
      "HML           -0.2959      0.044     -6.744      0.000        -0.382    -0.210\n",
      "==============================================================================\n",
      "Omnibus:                        8.820   Durbin-Watson:                   1.917\n",
      "Prob(Omnibus):                  0.012   Jarque-Bera (JB):               10.684\n",
      "Skew:                           0.258   Prob(JB):                      0.00479\n",
      "Kurtosis:                       3.714   Cond. No.                         43.6\n",
      "==============================================================================\n",
      "\n",
      "Warnings:\n",
      "[1] Standard Errors assume that the covariance matrix of the errors is correctly specified.\n"
     ]
    }
   ],
   "source": [
    "#run OLS regessions for 25 porfolios in a loop\n",
    "models = []\n",
    "for i in range (25):\n",
    "    reg = sm.OLS(y.iloc[:, i], x)\n",
    "    models.append(reg.fit())\n",
    "print(models[0].params)\n",
    "print(models[0].summary())\n"
   ]
  },
  {
   "cell_type": "code",
   "execution_count": 102,
   "metadata": {
    "collapsed": false
   },
   "outputs": [
    {
     "name": "stderr",
     "output_type": "stream",
     "text": [
      "C:\\Program Files\\Anaconda3\\lib\\site-packages\\statsmodels\\iolib\\summary2.py:372: SettingWithCopyWarning: \n",
      "A value is trying to be set on a copy of a slice from a DataFrame\n",
      "\n",
      "See the caveats in the documentation: http://pandas.pydata.org/pandas-docs/stable/indexing.html#indexing-view-versus-copy\n",
      "  res.ix[:, 0][idx] = res.ix[:, 0][idx] + '*'\n",
      "C:\\Program Files\\Anaconda3\\lib\\site-packages\\statsmodels\\iolib\\summary2.py:374: SettingWithCopyWarning: \n",
      "A value is trying to be set on a copy of a slice from a DataFrame\n",
      "\n",
      "See the caveats in the documentation: http://pandas.pydata.org/pandas-docs/stable/indexing.html#indexing-view-versus-copy\n",
      "  res.ix[:, 0][idx] = res.ix[:, 0][idx] + '*'\n",
      "C:\\Program Files\\Anaconda3\\lib\\site-packages\\statsmodels\\iolib\\summary2.py:376: SettingWithCopyWarning: \n",
      "A value is trying to be set on a copy of a slice from a DataFrame\n",
      "\n",
      "See the caveats in the documentation: http://pandas.pydata.org/pandas-docs/stable/indexing.html#indexing-view-versus-copy\n",
      "  res.ix[:, 0][idx] = res.ix[:, 0][idx] + '*'\n"
     ]
    },
    {
     "name": "stdout",
     "output_type": "stream",
     "text": [
      "                                                                                                       Table - OLS Regressions\n",
      "======================================================================================================================================================================================================================================\n",
      "                 SMALL LoBM ME1 BM2 ME1 BM3 ME1 BM4 SMALL HiBM ME2 BM1  ME2 BM2 ME2 BM3 ME2 BM4 ME2 BM5 ME3 BM1  ME3 BM2 ME3 BM3 ME3 BM4 ME3 BM5 ME4 BM1  ME4 BM2 ME4 BM3 ME4 BM4 ME4 BM5 BIG LoBM ME5 BM2  ME5 BM3  ME5 BM4  BIG HiBM\n",
      "--------------------------------------------------------------------------------------------------------------------------------------------------------------------------------------------------------------------------------------\n",
      "const            -0.00***   -0.00   -0.00   0.00    0.00       -0.00    0.00    0.00*   0.00**  0.00    -0.00    0.00    -0.00   0.00    0.00    0.00     -0.00   -0.00   0.00    0.00    0.00***  0.00     -0.00    -0.00    -0.00   \n",
      "                 (0.00)     (0.00)  (0.00)  (0.00)  (0.00)     (0.00)   (0.00)  (0.00)  (0.00)  (0.00)  (0.00)   (0.00)  (0.00)  (0.00)  (0.00)  (0.00)   (0.00)  (0.00)  (0.00)  (0.00)  (0.00)   (0.00)   (0.00)   (0.00)   (0.00)  \n",
      "Mkt-RF           1.05***    0.97*** 0.94*** 0.89*** 0.95***    1.10***  1.02*** 0.97*** 0.97*** 1.06*** 1.10***  1.02*** 0.97*** 0.97*** 1.05*** 1.06***  1.08*** 1.04*** 1.04*** 1.15*** 0.95***  1.02***  0.97***  1.01***  1.01*** \n",
      "                 (0.03)     (0.02)  (0.02)  (0.02)  (0.02)     (0.02)   (0.02)  (0.02)  (0.02)  (0.02)  (0.02)   (0.02)  (0.02)  (0.02)  (0.02)  (0.02)   (0.02)  (0.02)  (0.02)  (0.03)  (0.02)   (0.02)   (0.02)   (0.02)   (0.03)  \n",
      "SMB              1.39***    1.27*** 1.15*** 1.10*** 1.19***    1.00***  0.94*** 0.83*** 0.70*** 0.85*** 0.71***  0.63*** 0.54*** 0.45*** 0.66*** 0.30***  0.26*** 0.24*** 0.23*** 0.37*** -0.20*** -0.20*** -0.27*** -0.20*** -0.03   \n",
      "                 (0.04)     (0.03)  (0.02)  (0.02)  (0.02)     (0.03)   (0.03)  (0.02)  (0.02)  (0.03)  (0.03)   (0.03)  (0.03)  (0.03)  (0.03)  (0.03)   (0.03)  (0.03)  (0.03)  (0.04)  (0.03)   (0.03)   (0.03)   (0.03)   (0.04)  \n",
      "HML              -0.30***   0.08**  0.26*** 0.38*** 0.62***    -0.48*** 0.02    0.24*** 0.47*** 0.69*** -0.43*** 0.04    0.30*** 0.51*** 0.70*** -0.44*** 0.02    0.31*** 0.57*** 0.74*** -0.44*** -0.03    0.19***  0.56***  0.75*** \n",
      "                 (0.04)     (0.03)  (0.03)  (0.03)  (0.03)     (0.04)   (0.03)  (0.03)  (0.03)  (0.03)  (0.03)   (0.03)  (0.03)  (0.03)  (0.03)  (0.03)   (0.03)  (0.03)  (0.03)  (0.04)  (0.03)   (0.03)   (0.04)   (0.03)   (0.04)  \n",
      "R-squared        0.94       0.96    0.96    0.96    0.96       0.96     0.96    0.96    0.96    0.96    0.96     0.95    0.93    0.94    0.93    0.95     0.92    0.91    0.91    0.90    0.94     0.92     0.86     0.91     0.83    \n",
      "No. observations 330        330     330     330     330        330      330     330     330     330     330      330     330     330     330     330      330     330     330     330     330      330      330      330      330     \n",
      "======================================================================================================================================================================================================================================\n",
      "Standard errors in parentheses.\n",
      "* p<.1, ** p<.05, ***p<.01\n"
     ]
    }
   ],
   "source": [
    "#summarize the 25 regression ouputs into one table\n",
    "info_dict={'R-squared' : lambda x: f\"{x.rsquared:.2f}\",\n",
    "           'No. observations' : lambda x: f\"{int(x.nobs):d}\"}\n",
    "           \n",
    "results_table = summary_col(results= models,\n",
    "                            stars = True,\n",
    "                            model_names=y.columns.tolist(),\n",
    "                            float_format =\"%.2f\",\n",
    "                            info_dict = info_dict\n",
    "                           )\n",
    "\n",
    "results_table.add_title('Table - OLS Regressions')\n",
    "\n",
    "print(results_table)"
   ]
  },
  {
   "cell_type": "code",
   "execution_count": 94,
   "metadata": {
    "collapsed": false
   },
   "outputs": [
    {
     "name": "stdout",
     "output_type": "stream",
     "text": [
      "Index(['SMALL LoBM', 'ME1 BM2', 'ME1 BM3', 'ME1 BM4', 'SMALL HiBM'], dtype='object')\n"
     ]
    }
   ],
   "source": [
    "print(y.columns[0:5])"
   ]
  },
  {
   "cell_type": "code",
   "execution_count": 112,
   "metadata": {
    "collapsed": false
   },
   "outputs": [
    {
     "name": "stderr",
     "output_type": "stream",
     "text": [
      "C:\\Program Files\\Anaconda3\\lib\\site-packages\\statsmodels\\iolib\\summary2.py:372: SettingWithCopyWarning: \n",
      "A value is trying to be set on a copy of a slice from a DataFrame\n",
      "\n",
      "See the caveats in the documentation: http://pandas.pydata.org/pandas-docs/stable/indexing.html#indexing-view-versus-copy\n",
      "  res.ix[:, 0][idx] = res.ix[:, 0][idx] + '*'\n",
      "C:\\Program Files\\Anaconda3\\lib\\site-packages\\statsmodels\\iolib\\summary2.py:374: SettingWithCopyWarning: \n",
      "A value is trying to be set on a copy of a slice from a DataFrame\n",
      "\n",
      "See the caveats in the documentation: http://pandas.pydata.org/pandas-docs/stable/indexing.html#indexing-view-versus-copy\n",
      "  res.ix[:, 0][idx] = res.ix[:, 0][idx] + '*'\n",
      "C:\\Program Files\\Anaconda3\\lib\\site-packages\\statsmodels\\iolib\\summary2.py:376: SettingWithCopyWarning: \n",
      "A value is trying to be set on a copy of a slice from a DataFrame\n",
      "\n",
      "See the caveats in the documentation: http://pandas.pydata.org/pandas-docs/stable/indexing.html#indexing-view-versus-copy\n",
      "  res.ix[:, 0][idx] = res.ix[:, 0][idx] + '*'\n"
     ]
    },
    {
     "name": "stdout",
     "output_type": "stream",
     "text": [
      "             Table - Small Size - OLS Regressions\n",
      "==============================================================\n",
      "                 SMALL LoBM ME1 BM2 ME1 BM3 ME1 BM4 SMALL HiBM\n",
      "--------------------------------------------------------------\n",
      "const            -0.00***   -0.00   -0.00   0.00    0.00      \n",
      "                 (0.00)     (0.00)  (0.00)  (0.00)  (0.00)    \n",
      "Mkt-RF           1.05***    0.97*** 0.94*** 0.89*** 0.95***   \n",
      "                 (0.03)     (0.02)  (0.02)  (0.02)  (0.02)    \n",
      "SMB              1.39***    1.27*** 1.15*** 1.10*** 1.19***   \n",
      "                 (0.04)     (0.03)  (0.02)  (0.02)  (0.02)    \n",
      "HML              -0.30***   0.08**  0.26*** 0.38*** 0.62***   \n",
      "                 (0.04)     (0.03)  (0.03)  (0.03)  (0.03)    \n",
      "R-squared        0.94       0.96    0.96    0.96    0.96      \n",
      "No. observations 330        330     330     330     330       \n",
      "==============================================================\n",
      "Standard errors in parentheses.\n",
      "* p<.1, ** p<.05, ***p<.01\n"
     ]
    }
   ],
   "source": [
    "#summarize the regression output of Small-size portfolios\n",
    "info_dict={'R-squared' : lambda x: f\"{x.rsquared:.2f}\",\n",
    "           'No. observations' : lambda x: f\"{int(x.nobs):d}\"}\n",
    "           \n",
    "results_table_0 = summary_col(results= [models[0],models[1],models[2],models[3],models[4]],\n",
    "                            stars = True,\n",
    "                            model_names=y.columns[0:5].tolist(),\n",
    "                            float_format =\"%.2f\",\n",
    "                            info_dict = info_dict\n",
    "                           )\n",
    "\n",
    "results_table_0.add_title('Table - Small Size - OLS Regressions')\n",
    "\n",
    "print(results_table_0)"
   ]
  },
  {
   "cell_type": "code",
   "execution_count": 113,
   "metadata": {
    "collapsed": false
   },
   "outputs": [
    {
     "name": "stderr",
     "output_type": "stream",
     "text": [
      "C:\\Program Files\\Anaconda3\\lib\\site-packages\\statsmodels\\iolib\\summary2.py:372: SettingWithCopyWarning: \n",
      "A value is trying to be set on a copy of a slice from a DataFrame\n",
      "\n",
      "See the caveats in the documentation: http://pandas.pydata.org/pandas-docs/stable/indexing.html#indexing-view-versus-copy\n",
      "  res.ix[:, 0][idx] = res.ix[:, 0][idx] + '*'\n",
      "C:\\Program Files\\Anaconda3\\lib\\site-packages\\statsmodels\\iolib\\summary2.py:374: SettingWithCopyWarning: \n",
      "A value is trying to be set on a copy of a slice from a DataFrame\n",
      "\n",
      "See the caveats in the documentation: http://pandas.pydata.org/pandas-docs/stable/indexing.html#indexing-view-versus-copy\n",
      "  res.ix[:, 0][idx] = res.ix[:, 0][idx] + '*'\n",
      "C:\\Program Files\\Anaconda3\\lib\\site-packages\\statsmodels\\iolib\\summary2.py:376: SettingWithCopyWarning: \n",
      "A value is trying to be set on a copy of a slice from a DataFrame\n",
      "\n",
      "See the caveats in the documentation: http://pandas.pydata.org/pandas-docs/stable/indexing.html#indexing-view-versus-copy\n",
      "  res.ix[:, 0][idx] = res.ix[:, 0][idx] + '*'\n"
     ]
    },
    {
     "name": "stdout",
     "output_type": "stream",
     "text": [
      "            Table - Size 1 - OLS Regressions\n",
      "=========================================================\n",
      "                 ME2 BM1  ME2 BM2 ME2 BM3 ME2 BM4 ME2 BM5\n",
      "---------------------------------------------------------\n",
      "const            -0.00    0.00    0.00*   0.00**  0.00   \n",
      "                 (0.00)   (0.00)  (0.00)  (0.00)  (0.00) \n",
      "Mkt-RF           1.10***  1.02*** 0.97*** 0.97*** 1.06***\n",
      "                 (0.02)   (0.02)  (0.02)  (0.02)  (0.02) \n",
      "SMB              1.00***  0.94*** 0.83*** 0.70*** 0.85***\n",
      "                 (0.03)   (0.03)  (0.02)  (0.02)  (0.03) \n",
      "HML              -0.48*** 0.02    0.24*** 0.47*** 0.69***\n",
      "                 (0.04)   (0.03)  (0.03)  (0.03)  (0.03) \n",
      "R-squared        0.96     0.96    0.96    0.96    0.96   \n",
      "No. observations 330      330     330     330     330    \n",
      "=========================================================\n",
      "Standard errors in parentheses.\n",
      "* p<.1, ** p<.05, ***p<.01\n"
     ]
    }
   ],
   "source": [
    "#summarize the regression output of size-1 portfolios\n",
    "results_table_1 = summary_col(results= [models[5],models[6],models[7],models[8],models[9]],\n",
    "                            stars = True,\n",
    "                            model_names=y.columns[5:10].tolist(),\n",
    "                            float_format =\"%.2f\",\n",
    "                            info_dict = info_dict\n",
    "                           )\n",
    "\n",
    "results_table_1.add_title('Table - Size 1 - OLS Regressions')\n",
    "\n",
    "print(results_table_1)"
   ]
  },
  {
   "cell_type": "code",
   "execution_count": 115,
   "metadata": {
    "collapsed": false
   },
   "outputs": [
    {
     "name": "stderr",
     "output_type": "stream",
     "text": [
      "C:\\Program Files\\Anaconda3\\lib\\site-packages\\statsmodels\\iolib\\summary2.py:372: SettingWithCopyWarning: \n",
      "A value is trying to be set on a copy of a slice from a DataFrame\n",
      "\n",
      "See the caveats in the documentation: http://pandas.pydata.org/pandas-docs/stable/indexing.html#indexing-view-versus-copy\n",
      "  res.ix[:, 0][idx] = res.ix[:, 0][idx] + '*'\n",
      "C:\\Program Files\\Anaconda3\\lib\\site-packages\\statsmodels\\iolib\\summary2.py:374: SettingWithCopyWarning: \n",
      "A value is trying to be set on a copy of a slice from a DataFrame\n",
      "\n",
      "See the caveats in the documentation: http://pandas.pydata.org/pandas-docs/stable/indexing.html#indexing-view-versus-copy\n",
      "  res.ix[:, 0][idx] = res.ix[:, 0][idx] + '*'\n",
      "C:\\Program Files\\Anaconda3\\lib\\site-packages\\statsmodels\\iolib\\summary2.py:376: SettingWithCopyWarning: \n",
      "A value is trying to be set on a copy of a slice from a DataFrame\n",
      "\n",
      "See the caveats in the documentation: http://pandas.pydata.org/pandas-docs/stable/indexing.html#indexing-view-versus-copy\n",
      "  res.ix[:, 0][idx] = res.ix[:, 0][idx] + '*'\n"
     ]
    },
    {
     "name": "stdout",
     "output_type": "stream",
     "text": [
      "            Table - Size 2 - OLS Regressions\n",
      "=========================================================\n",
      "                 ME3 BM1  ME3 BM2 ME3 BM3 ME3 BM4 ME3 BM5\n",
      "---------------------------------------------------------\n",
      "const            -0.00    0.00    -0.00   0.00    0.00   \n",
      "                 (0.00)   (0.00)  (0.00)  (0.00)  (0.00) \n",
      "Mkt-RF           1.10***  1.02*** 0.97*** 0.97*** 1.05***\n",
      "                 (0.02)   (0.02)  (0.02)  (0.02)  (0.02) \n",
      "SMB              0.71***  0.63*** 0.54*** 0.45*** 0.66***\n",
      "                 (0.03)   (0.03)  (0.03)  (0.03)  (0.03) \n",
      "HML              -0.43*** 0.04    0.30*** 0.51*** 0.70***\n",
      "                 (0.03)   (0.03)  (0.03)  (0.03)  (0.03) \n",
      "R-squared        0.96     0.95    0.93    0.94    0.93   \n",
      "No. observations 330      330     330     330     330    \n",
      "=========================================================\n",
      "Standard errors in parentheses.\n",
      "* p<.1, ** p<.05, ***p<.01\n"
     ]
    }
   ],
   "source": [
    "#summarize the regression output of size-2 portfolios\n",
    "results_table_2 = summary_col(results= [models[10],models[11],models[12],models[13],models[14]],\n",
    "                            stars = True,\n",
    "                            model_names=y.columns[10:15].tolist(),\n",
    "                            float_format =\"%.2f\",\n",
    "                            info_dict = info_dict\n",
    "                           )\n",
    "\n",
    "results_table_2.add_title('Table - Size 2 - OLS Regressions')\n",
    "\n",
    "print(results_table_2)"
   ]
  },
  {
   "cell_type": "code",
   "execution_count": 116,
   "metadata": {
    "collapsed": false
   },
   "outputs": [
    {
     "name": "stderr",
     "output_type": "stream",
     "text": [
      "C:\\Program Files\\Anaconda3\\lib\\site-packages\\statsmodels\\iolib\\summary2.py:372: SettingWithCopyWarning: \n",
      "A value is trying to be set on a copy of a slice from a DataFrame\n",
      "\n",
      "See the caveats in the documentation: http://pandas.pydata.org/pandas-docs/stable/indexing.html#indexing-view-versus-copy\n",
      "  res.ix[:, 0][idx] = res.ix[:, 0][idx] + '*'\n",
      "C:\\Program Files\\Anaconda3\\lib\\site-packages\\statsmodels\\iolib\\summary2.py:374: SettingWithCopyWarning: \n",
      "A value is trying to be set on a copy of a slice from a DataFrame\n",
      "\n",
      "See the caveats in the documentation: http://pandas.pydata.org/pandas-docs/stable/indexing.html#indexing-view-versus-copy\n",
      "  res.ix[:, 0][idx] = res.ix[:, 0][idx] + '*'\n",
      "C:\\Program Files\\Anaconda3\\lib\\site-packages\\statsmodels\\iolib\\summary2.py:376: SettingWithCopyWarning: \n",
      "A value is trying to be set on a copy of a slice from a DataFrame\n",
      "\n",
      "See the caveats in the documentation: http://pandas.pydata.org/pandas-docs/stable/indexing.html#indexing-view-versus-copy\n",
      "  res.ix[:, 0][idx] = res.ix[:, 0][idx] + '*'\n"
     ]
    },
    {
     "name": "stdout",
     "output_type": "stream",
     "text": [
      "            Table - Size 3 - OLS Regressions\n",
      "=========================================================\n",
      "                 ME4 BM1  ME4 BM2 ME4 BM3 ME4 BM4 ME4 BM5\n",
      "---------------------------------------------------------\n",
      "const            0.00     -0.00   -0.00   0.00    0.00   \n",
      "                 (0.00)   (0.00)  (0.00)  (0.00)  (0.00) \n",
      "Mkt-RF           1.06***  1.08*** 1.04*** 1.04*** 1.15***\n",
      "                 (0.02)   (0.02)  (0.02)  (0.02)  (0.03) \n",
      "SMB              0.30***  0.26*** 0.24*** 0.23*** 0.37***\n",
      "                 (0.03)   (0.03)  (0.03)  (0.03)  (0.04) \n",
      "HML              -0.44*** 0.02    0.31*** 0.57*** 0.74***\n",
      "                 (0.03)   (0.03)  (0.03)  (0.03)  (0.04) \n",
      "R-squared        0.95     0.92    0.91    0.91    0.90   \n",
      "No. observations 330      330     330     330     330    \n",
      "=========================================================\n",
      "Standard errors in parentheses.\n",
      "* p<.1, ** p<.05, ***p<.01\n"
     ]
    }
   ],
   "source": [
    "#summarize the regression output of size-3 portfolios\n",
    "results_table_3 = summary_col(results= [models[15],models[16],models[17],models[18],models[19]],\n",
    "                            stars = True,\n",
    "                            model_names=y.columns[15:20].tolist(),\n",
    "                            float_format =\"%.2f\",\n",
    "                            info_dict = info_dict\n",
    "                           )\n",
    "\n",
    "results_table_3.add_title('Table - Size 3 - OLS Regressions')\n",
    "\n",
    "print(results_table_3)"
   ]
  },
  {
   "cell_type": "code",
   "execution_count": 118,
   "metadata": {
    "collapsed": false
   },
   "outputs": [
    {
     "name": "stderr",
     "output_type": "stream",
     "text": [
      "C:\\Program Files\\Anaconda3\\lib\\site-packages\\statsmodels\\iolib\\summary2.py:372: SettingWithCopyWarning: \n",
      "A value is trying to be set on a copy of a slice from a DataFrame\n",
      "\n",
      "See the caveats in the documentation: http://pandas.pydata.org/pandas-docs/stable/indexing.html#indexing-view-versus-copy\n",
      "  res.ix[:, 0][idx] = res.ix[:, 0][idx] + '*'\n",
      "C:\\Program Files\\Anaconda3\\lib\\site-packages\\statsmodels\\iolib\\summary2.py:374: SettingWithCopyWarning: \n",
      "A value is trying to be set on a copy of a slice from a DataFrame\n",
      "\n",
      "See the caveats in the documentation: http://pandas.pydata.org/pandas-docs/stable/indexing.html#indexing-view-versus-copy\n",
      "  res.ix[:, 0][idx] = res.ix[:, 0][idx] + '*'\n",
      "C:\\Program Files\\Anaconda3\\lib\\site-packages\\statsmodels\\iolib\\summary2.py:376: SettingWithCopyWarning: \n",
      "A value is trying to be set on a copy of a slice from a DataFrame\n",
      "\n",
      "See the caveats in the documentation: http://pandas.pydata.org/pandas-docs/stable/indexing.html#indexing-view-versus-copy\n",
      "  res.ix[:, 0][idx] = res.ix[:, 0][idx] + '*'\n"
     ]
    },
    {
     "name": "stdout",
     "output_type": "stream",
     "text": [
      "            Table - Large Size - OLS Regressions\n",
      "=============================================================\n",
      "                 BIG LoBM ME5 BM2  ME5 BM3  ME5 BM4  BIG HiBM\n",
      "-------------------------------------------------------------\n",
      "const            0.00***  0.00     -0.00    -0.00    -0.00   \n",
      "                 (0.00)   (0.00)   (0.00)   (0.00)   (0.00)  \n",
      "Mkt-RF           0.95***  1.02***  0.97***  1.01***  1.01*** \n",
      "                 (0.02)   (0.02)   (0.02)   (0.02)   (0.03)  \n",
      "SMB              -0.20*** -0.20*** -0.27*** -0.20*** -0.03   \n",
      "                 (0.03)   (0.03)   (0.03)   (0.03)   (0.04)  \n",
      "HML              -0.44*** -0.03    0.19***  0.56***  0.75*** \n",
      "                 (0.03)   (0.03)   (0.04)   (0.03)   (0.04)  \n",
      "R-squared        0.94     0.92     0.86     0.91     0.83    \n",
      "No. observations 330      330      330      330      330     \n",
      "=============================================================\n",
      "Standard errors in parentheses.\n",
      "* p<.1, ** p<.05, ***p<.01\n"
     ]
    }
   ],
   "source": [
    "#summarize the regression output of Large-eize portfolios\n",
    "results_table_4 = summary_col(results= [models[20],models[21],models[22],models[23],models[24]],\n",
    "                            stars = True,\n",
    "                            model_names=y.columns[20:25].tolist(),\n",
    "                            float_format =\"%.2f\",\n",
    "                            info_dict = info_dict\n",
    "                           )\n",
    "\n",
    "results_table_4.add_title('Table - Large Size - OLS Regressions')\n",
    "\n",
    "print(results_table_4)"
   ]
  },
  {
   "cell_type": "code",
   "execution_count": null,
   "metadata": {
    "collapsed": true
   },
   "outputs": [],
   "source": [
    "# TAKEAWAYS:\n",
    "# Almost all portfolios (except for 1) have R-square higher than 90%\n",
    "# Most of the constant terms are insignificant\n",
    "# All portfolios have excess returns in positive correlation with market excess return. Ususally mid-size companies have higher correlation with market excess return.\n",
    "# Smaller companies have stronger positive correlation with SMB factor, which meant to mimic the risk factor in returns related to size. For the largest companies, the correlation turns negative.\n",
    "# No consistent pattern is observed for HML factor across companies with different sizes\n",
    "# Companies with higher B/M ratios will have stronger positive correlation with HML factor, which meant to mimic the risk factor in returns related B/M equity. For the companies with lowest B/M ratio, the correlation turns negative.\n",
    "# Usually, companies with the lowest and highest B/M ratios will have stronger correlation with SMB factor.\n",
    "# The last bulletpoint is intuitive as 1.low B/M ratio is usually because of high market value, thus the company is more likely to fall in the larger-size portfolios. 2. high B/M ratio is usually due to low market value, and thus the company is more likely to fall into the small-size portfolio."
   ]
  },
  {
   "cell_type": "code",
   "execution_count": null,
   "metadata": {
    "collapsed": true
   },
   "outputs": [],
   "source": [
    "# Problems to solve:\n",
    "# how to run the regressions in a class and extract statistics out of it\n",
    "# how to construct a better consolidated table for all the regresion reults. And how to visulize the results better.\n",
    "# use up-to-date data to run regressions, and if the results are weaker, try expanding window to check the pattern.\n",
    "# how to plot 3-D bars\n",
    "# how to do prediction with 3-factor model"
   ]
  }
 ],
 "metadata": {
  "kernelspec": {
   "display_name": "Python 3",
   "language": "python",
   "name": "python3"
  },
  "language_info": {
   "codemirror_mode": {
    "name": "ipython",
    "version": 3
   },
   "file_extension": ".py",
   "mimetype": "text/x-python",
   "name": "python",
   "nbconvert_exporter": "python",
   "pygments_lexer": "ipython3",
   "version": "3.6.0"
  }
 },
 "nbformat": 4,
 "nbformat_minor": 2
}
